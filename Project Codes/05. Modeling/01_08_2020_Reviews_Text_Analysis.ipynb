{
 "cells": [
  {
   "cell_type": "markdown",
   "metadata": {},
   "source": [
    "Natural Language Processing\n",
    "Review Data from Airbnb"
   ]
  },
  {
   "cell_type": "code",
   "execution_count": null,
   "metadata": {},
   "outputs": [],
   "source": [
    "# #Convert comments and review_rating into arrays\n",
    "# X = review_scores['comments'].values #training data\n",
    "# y = review_scores['score_labels'].values #target data\n",
    "\n",
    "# #Check\n",
    "# print(X.shape)\n",
    "# print(y.shape)"
   ]
  },
  {
   "cell_type": "code",
   "execution_count": null,
   "metadata": {},
   "outputs": [],
   "source": [
    "# #instantiate test_train_split\n",
    "# from sklearn.model_selection import train_test_split\n",
    "\n",
    "# #Split data\n",
    "# X_train, X_test, y_train, y_test = train_test_split(X, y, random_state=42)\n",
    "\n",
    "# #Check \n",
    "# print(X_train.shape, y_train.shape)\n",
    "# print(X_test.shape, y_test.shape)\n",
    "# print(X_train)"
   ]
  },
  {
   "cell_type": "markdown",
   "metadata": {},
   "source": [
    "Tokenize comments"
   ]
  },
  {
   "cell_type": "code",
   "execution_count": null,
   "metadata": {},
   "outputs": [],
   "source": [
    "# #Summon CountVectorizer\n",
    "# from sklearn.feature_extraction.text import CountVectorizer\n",
    "\n",
    "# #Instantiate CountVectorizer\n",
    "# vect = CountVectorizer()\n",
    "\n",
    "# #fit to training data\n",
    "# vect = vect.fit(X_train)\n",
    "\n",
    "# #Transform\n",
    "# X_train_transformed = vect.transform(X_train)"
   ]
  },
  {
   "cell_type": "code",
   "execution_count": null,
   "metadata": {},
   "outputs": [],
   "source": [
    "# #View representation of X_train_transformed\n",
    "# print('X_train_transformed representation: {}'.format(repr(X_train_transformed)))\n",
    "\n",
    "# #Capture information about features\n",
    "# feature_names = vect.get_feature_names()\n",
    "# print('Number of features: {:,} '.format(len(feature_names)))\n",
    "# print('\\nEvery 2000th features: {}'.format(feature_names[::200]))"
   ]
  },
  {
   "cell_type": "markdown",
   "metadata": {},
   "source": [
    "Naive implementation of SVR using "
   ]
  },
  {
   "cell_type": "code",
   "execution_count": null,
   "metadata": {},
   "outputs": [],
   "source": [
    "# #Normalize word count matrix\n",
    "# from sklearn.feature_extraction.text import TfidfVectorizer \n",
    "\n",
    "# #reduce the dimensionality to retain the first N components which capture the major variance\n",
    "# from sklearn.decomposition import TruncatedSVD \n",
    "\n",
    "# from sklearn.svm import SVR\n",
    "\n",
    "# #Summon Pipeline\n",
    "# from sklearn.pipeline import Pipeline\n",
    "\n",
    "# #Instantiate pipeline\n",
    "# pipeline = Pipeline(steps=[('tfidf', TfidfVectorizer()), \n",
    "#                            ('svd', TruncatedSVD(random_state=42)), \n",
    "#                            ('clf', SVR())])\n",
    "# #Check\n",
    "# print(pipeline)"
   ]
  },
  {
   "cell_type": "markdown",
   "metadata": {},
   "source": [
    "Pipeline Optimization"
   ]
  },
  {
   "cell_type": "code",
   "execution_count": null,
   "metadata": {},
   "outputs": [],
   "source": [
    "# #Summon RandomizedSearchCV\n",
    "# from sklearn.model_selection import RandomizedSearchCV\n",
    "\n",
    "# #Set Param grid for RandomizedSearchCV to explore\n",
    "# param_grid= {'tfidf__max_df':(.5,.75, 1.0),\n",
    "#              'svd__n_components': (50, 100, 150, 200),\n",
    "#              'clf__C':(.1,1,10)}\n",
    "\n",
    "# #Instantiate model\n",
    "# random_search = RandomizedSearchCV(estimator=pipeline,param_distributions=param_grid,\n",
    "#                             verbose=10, n_jobs=-1, scoring = 'r2')\n",
    "# #Score\n",
    "# random_search.fit(X_train, y_train)"
   ]
  },
  {
   "cell_type": "code",
   "execution_count": null,
   "metadata": {},
   "outputs": [],
   "source": [
    "# #View average score\n",
    "# print(\"Best score: {:.3f}\".format(random_search.best_score_))\n",
    "# print(\"Best parameters set:\")\n",
    "# best_parameters = random_search.best_estimator_.get_params()\n"
   ]
  },
  {
   "cell_type": "code",
   "execution_count": null,
   "metadata": {},
   "outputs": [],
   "source": [
    "#test using regression"
   ]
  },
  {
   "cell_type": "markdown",
   "metadata": {},
   "source": [
    "# Machine Learning"
   ]
  },
  {
   "cell_type": "markdown",
   "metadata": {},
   "source": [
    "Is there value in capturing the numeric counts of amenities per listing? See below"
   ]
  },
  {
   "cell_type": "code",
   "execution_count": null,
   "metadata": {},
   "outputs": [],
   "source": [
    "# #Split strings on commas into features\n",
    "# df.amenities=df.amenities.str.split(pat=',', expand = False)\n",
    "\n",
    "# #Create amenities count and assign to df\n",
    "# df['amenities_count'] = df['amenities'].str.len()"
   ]
  }
 ],
 "metadata": {
  "kernelspec": {
   "display_name": "Python 3",
   "language": "python",
   "name": "python3"
  },
  "language_info": {
   "codemirror_mode": {
    "name": "ipython",
    "version": 3
   },
   "file_extension": ".py",
   "mimetype": "text/x-python",
   "name": "python",
   "nbconvert_exporter": "python",
   "pygments_lexer": "ipython3",
   "version": "3.7.3"
  }
 },
 "nbformat": 4,
 "nbformat_minor": 4
}
