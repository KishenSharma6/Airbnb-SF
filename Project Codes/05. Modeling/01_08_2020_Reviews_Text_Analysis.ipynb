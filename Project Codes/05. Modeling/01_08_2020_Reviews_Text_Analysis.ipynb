{
 "cells": [
  {
   "cell_type": "markdown",
   "metadata": {},
   "source": [
    "Natural Language Processing\n",
    "Review Data from Airbnb"
   ]
  },
  {
   "cell_type": "code",
   "execution_count": 1,
   "metadata": {},
   "outputs": [],
   "source": [
    "#Read in libraries\n",
    "import pandas as pd\n",
    "import numpy as np\n",
    "\n",
    "import matplotlib.pyplot as plt\n",
    "import seaborn as sns\n",
    "\n",
    "import nltk\n",
    "import sklearn"
   ]
  },
  {
   "cell_type": "code",
   "execution_count": 2,
   "metadata": {},
   "outputs": [],
   "source": [
    "#Settings for notebook\n",
    "#Ignore warnings\n",
    "import warnings; warnings.simplefilter('ignore')\n",
    "\n",
    "#Increase number of columns and rows displayed by Pandas\n",
    "pd.set_option('display.max_columns', 500)\n",
    "pd.set_option('display.max_rows',100)"
   ]
  },
  {
   "cell_type": "code",
   "execution_count": 3,
   "metadata": {},
   "outputs": [],
   "source": [
    "#Set path to data\n",
    "path = r'C:\\Users\\kishe\\Documents\\Data Science\\Projects\\Python Projects\\In Progress\\Air BnB - SF\\Data\\03_Processed'\n",
    "\n",
    "#Read in data\n",
    "reviews = pd.read_csv(path + '/01_08_2020_Reviews_Processed_Text_Analysis.csv',sep=',',\n",
    "                 parse_dates=['date'])"
   ]
  },
  {
   "cell_type": "code",
   "execution_count": 4,
   "metadata": {},
   "outputs": [
    {
     "data": {
      "text/html": [
       "<div>\n",
       "<style scoped>\n",
       "    .dataframe tbody tr th:only-of-type {\n",
       "        vertical-align: middle;\n",
       "    }\n",
       "\n",
       "    .dataframe tbody tr th {\n",
       "        vertical-align: top;\n",
       "    }\n",
       "\n",
       "    .dataframe thead th {\n",
       "        text-align: right;\n",
       "    }\n",
       "</style>\n",
       "<table border=\"1\" class=\"dataframe\">\n",
       "  <thead>\n",
       "    <tr style=\"text-align: right;\">\n",
       "      <th></th>\n",
       "      <th>0</th>\n",
       "      <th>1</th>\n",
       "      <th>2</th>\n",
       "      <th>3</th>\n",
       "      <th>4</th>\n",
       "    </tr>\n",
       "  </thead>\n",
       "  <tbody>\n",
       "    <tr>\n",
       "      <th>comments</th>\n",
       "      <td>Large place with incredible views on a hill ne...</td>\n",
       "      <td>My boyfriend and I stayed here for 2 nights in...</td>\n",
       "      <td>This is nice place But I was hard to go up the...</td>\n",
       "      <td>Really great value for San Francisco It can be...</td>\n",
       "      <td>Really handy little space in a great location</td>\n",
       "    </tr>\n",
       "    <tr>\n",
       "      <th>date</th>\n",
       "      <td>2019-10-12 00:00:00</td>\n",
       "      <td>2019-06-23 00:00:00</td>\n",
       "      <td>2019-04-28 00:00:00</td>\n",
       "      <td>2019-06-11 00:00:00</td>\n",
       "      <td>2019-04-22 00:00:00</td>\n",
       "    </tr>\n",
       "    <tr>\n",
       "      <th>id_review</th>\n",
       "      <td>545636224</td>\n",
       "      <td>475163086</td>\n",
       "      <td>445040857</td>\n",
       "      <td>468132674</td>\n",
       "      <td>442109651</td>\n",
       "    </tr>\n",
       "    <tr>\n",
       "      <th>listing_id</th>\n",
       "      <td>631635</td>\n",
       "      <td>32549667</td>\n",
       "      <td>2770268</td>\n",
       "      <td>8685898</td>\n",
       "      <td>585225</td>\n",
       "    </tr>\n",
       "    <tr>\n",
       "      <th>reviewer_id</th>\n",
       "      <td>31409388</td>\n",
       "      <td>94404578</td>\n",
       "      <td>87489570</td>\n",
       "      <td>52332377</td>\n",
       "      <td>59626298</td>\n",
       "    </tr>\n",
       "    <tr>\n",
       "      <th>reviewer_name</th>\n",
       "      <td>Kelly</td>\n",
       "      <td>Natalie</td>\n",
       "      <td>石川</td>\n",
       "      <td>Natasha</td>\n",
       "      <td>Kate</td>\n",
       "    </tr>\n",
       "    <tr>\n",
       "      <th>score</th>\n",
       "      <td>95</td>\n",
       "      <td>88</td>\n",
       "      <td>94</td>\n",
       "      <td>88</td>\n",
       "      <td>95</td>\n",
       "    </tr>\n",
       "    <tr>\n",
       "      <th>comments_without_stopwords</th>\n",
       "      <td>Large place incredible views hill near one vib...</td>\n",
       "      <td>My boyfriend I stayed 2 nights order attend we...</td>\n",
       "      <td>This nice place But I hard go hill Theyre kind...</td>\n",
       "      <td>Really great value San Francisco It hard find ...</td>\n",
       "      <td>Really handy little space great location</td>\n",
       "    </tr>\n",
       "    <tr>\n",
       "      <th>score_labels</th>\n",
       "      <td>Poor</td>\n",
       "      <td>Poor</td>\n",
       "      <td>Poor</td>\n",
       "      <td>Poor</td>\n",
       "      <td>Poor</td>\n",
       "    </tr>\n",
       "  </tbody>\n",
       "</table>\n",
       "</div>"
      ],
      "text/plain": [
       "                                                                            0  \\\n",
       "comments                    Large place with incredible views on a hill ne...   \n",
       "date                                                      2019-10-12 00:00:00   \n",
       "id_review                                                           545636224   \n",
       "listing_id                                                             631635   \n",
       "reviewer_id                                                          31409388   \n",
       "reviewer_name                                                           Kelly   \n",
       "score                                                                      95   \n",
       "comments_without_stopwords  Large place incredible views hill near one vib...   \n",
       "score_labels                                                             Poor   \n",
       "\n",
       "                                                                            1  \\\n",
       "comments                    My boyfriend and I stayed here for 2 nights in...   \n",
       "date                                                      2019-06-23 00:00:00   \n",
       "id_review                                                           475163086   \n",
       "listing_id                                                           32549667   \n",
       "reviewer_id                                                          94404578   \n",
       "reviewer_name                                                         Natalie   \n",
       "score                                                                      88   \n",
       "comments_without_stopwords  My boyfriend I stayed 2 nights order attend we...   \n",
       "score_labels                                                             Poor   \n",
       "\n",
       "                                                                            2  \\\n",
       "comments                    This is nice place But I was hard to go up the...   \n",
       "date                                                      2019-04-28 00:00:00   \n",
       "id_review                                                           445040857   \n",
       "listing_id                                                            2770268   \n",
       "reviewer_id                                                          87489570   \n",
       "reviewer_name                                                              石川   \n",
       "score                                                                      94   \n",
       "comments_without_stopwords  This nice place But I hard go hill Theyre kind...   \n",
       "score_labels                                                             Poor   \n",
       "\n",
       "                                                                            3  \\\n",
       "comments                    Really great value for San Francisco It can be...   \n",
       "date                                                      2019-06-11 00:00:00   \n",
       "id_review                                                           468132674   \n",
       "listing_id                                                            8685898   \n",
       "reviewer_id                                                          52332377   \n",
       "reviewer_name                                                         Natasha   \n",
       "score                                                                      88   \n",
       "comments_without_stopwords  Really great value San Francisco It hard find ...   \n",
       "score_labels                                                             Poor   \n",
       "\n",
       "                                                                        4  \n",
       "comments                    Really handy little space in a great location  \n",
       "date                                                  2019-04-22 00:00:00  \n",
       "id_review                                                       442109651  \n",
       "listing_id                                                         585225  \n",
       "reviewer_id                                                      59626298  \n",
       "reviewer_name                                                        Kate  \n",
       "score                                                                  95  \n",
       "comments_without_stopwords       Really handy little space great location  \n",
       "score_labels                                                         Poor  "
      ]
     },
     "execution_count": 4,
     "metadata": {},
     "output_type": "execute_result"
    }
   ],
   "source": [
    "reviews.head().T"
   ]
  },
  {
   "cell_type": "markdown",
   "metadata": {},
   "source": [
    "Split data into training and test Data"
   ]
  },
  {
   "cell_type": "code",
   "execution_count": 5,
   "metadata": {},
   "outputs": [
    {
     "name": "stdout",
     "output_type": "stream",
     "text": [
      "(34923,)\n",
      "(34923,)\n"
     ]
    }
   ],
   "source": [
    "#Convert comments_without_stopwords and score_labels into arrays\n",
    "X = reviews['comments_without_stopwords'].values \n",
    "y = reviews['score_labels'].values \n",
    "\n",
    "#Check\n",
    "print(X.shape)\n",
    "print(y.shape)"
   ]
  },
  {
   "cell_type": "code",
   "execution_count": 6,
   "metadata": {},
   "outputs": [
    {
     "name": "stdout",
     "output_type": "stream",
     "text": [
      "Training data and corresponding labels:  (26192,) (26192,)\n",
      "Test data and corresponding labels:  (8731,) (8731,)\n"
     ]
    }
   ],
   "source": [
    "#instantiate test_train_split\n",
    "from sklearn.model_selection import train_test_split\n",
    "\n",
    "#Split data\n",
    "X_train, X_test, y_train, y_test = train_test_split(X, y, random_state=42)\n",
    "\n",
    "#Check \n",
    "print('Training data and corresponding labels: ',X_train.shape, y_train.shape)\n",
    "print('Test data and corresponding labels: ',X_test.shape, y_test.shape)"
   ]
  },
  {
   "cell_type": "markdown",
   "metadata": {},
   "source": [
    "Tokenize comments_without_stopwords"
   ]
  },
  {
   "cell_type": "code",
   "execution_count": 7,
   "metadata": {},
   "outputs": [
    {
     "name": "stdout",
     "output_type": "stream",
     "text": [
      "X_train:\n",
      "<26192x19844 sparse matrix of type '<class 'numpy.int64'>'\n",
      "\twith 600568 stored elements in Compressed Sparse Row format>\n"
     ]
    }
   ],
   "source": [
    "#Import CountVectorizer\n",
    "from sklearn.feature_extraction.text import CountVectorizer\n",
    "\n",
    "#Instantiate CountVectorizer and fit to training data\n",
    "vect = CountVectorizer().fit(X_train)\n",
    "\n",
    "#Transform\n",
    "X_train_transformed = vect.transform(X_train)\n",
    "\n",
    "#Print matrix dimensions\n",
    "print(\"X_train:\\n{}\".format(repr(X_train_transformed)))\n"
   ]
  },
  {
   "cell_type": "code",
   "execution_count": 8,
   "metadata": {},
   "outputs": [
    {
     "name": "stdout",
     "output_type": "stream",
     "text": [
      "Number of features: 19,844 \n",
      "\n",
      "First 25 features: ['02', '02h00', '03', '04', '05', '07', '0700', '08', '10', '100', '1000', '100000x', '1000s', '1000x', '100100', '100150mbs', '1005', '100bucks', '100ft', '100m', '100night', '100s', '101', '1010', '1011pm']\n",
      "\n",
      "Every 500th features: ['02', '650', 'aka', 'appropriately', 'barefooted', 'blueground', 'cafefully', 'chest', 'committing', 'coveted', 'deleila', 'door', 'emergencies', 'extravagantly', 'foods', 'genuilely', 'haleys', 'horario', 'ingleside', 'jesper', 'kristine', 'lizettes', 'marilyn', 'miriam', 'neighbor', 'olivers', 'pathway', 'poncitio', 'quckly', 'relevant', 'rooftops', 'seethrough', 'sitextremely', 'sponge', 'sucks', 'teresas', 'trader', 'unmet', 'vouliagmeni', 'withlisa']\n"
     ]
    }
   ],
   "source": [
    "#Capture information about features\n",
    "feature_names = vect.get_feature_names()\n",
    "print('Number of features: {:,} '.format(len(feature_names)))\n",
    "print('\\nFirst 25 features: {}'.format(feature_names[:25]))\n",
    "print('\\nEvery 500th features: {}'.format(feature_names[::500]))"
   ]
  },
  {
   "cell_type": "markdown",
   "metadata": {},
   "source": [
    "Before we do any additional engineering, let's evaluate how well a Logistic Regression will do with the model and features as is"
   ]
  },
  {
   "cell_type": "code",
   "execution_count": 13,
   "metadata": {},
   "outputs": [
    {
     "name": "stdout",
     "output_type": "stream",
     "text": [
      "Accuracy: 0.41982273097634987\n"
     ]
    }
   ],
   "source": [
    "#Import models\n",
    "from sklearn.linear_model import LogisticRegression\n",
    "from sklearn.model_selection import cross_val_score\n",
    "\n",
    "#Instantiate and evaluate model\n",
    "scores = cross_val_score(LogisticRegression(),X_train_transformed, y_train, cv = 5)\n",
    "print('Accuracy: {}'.format(np.mean(scores)))\n",
    "\n"
   ]
  },
  {
   "cell_type": "markdown",
   "metadata": {},
   "source": [
    "43.5% is not very good at all, let's do a little more work with our training data and see if we can improve model performance"
   ]
  },
  {
   "cell_type": "markdown",
   "metadata": {},
   "source": [
    "Feature reduction\n",
    "Set token appearance to 5 documents"
   ]
  },
  {
   "cell_type": "code",
   "execution_count": 16,
   "metadata": {},
   "outputs": [
    {
     "name": "stdout",
     "output_type": "stream",
     "text": [
      "Number of features: 5,777 \n"
     ]
    }
   ],
   "source": [
    "#reduce min_df\n",
    "vect=CountVectorizer(min_df = 5).fit(X_train)\n",
    "X_train_transformed = vect.transform(X_train)\n",
    "\n",
    "#Capture information about features\n",
    "feature_names = vect.get_feature_names()\n",
    "print('Number of features: {:,} '.format(len(feature_names)))"
   ]
  },
  {
   "cell_type": "code",
   "execution_count": 17,
   "metadata": {},
   "outputs": [
    {
     "name": "stdout",
     "output_type": "stream",
     "text": [
      "Accuracy: 0.40978145095578766\n"
     ]
    }
   ],
   "source": [
    "scores = cross_val_score(LogisticRegression(), X_train_transformed, y_train, cv = 5)\n",
    "print('Accuracy: {}'.format(np.mean(scores)))"
   ]
  },
  {
   "cell_type": "markdown",
   "metadata": {},
   "source": [
    "Naive implementation of SVR using "
   ]
  },
  {
   "cell_type": "code",
   "execution_count": null,
   "metadata": {},
   "outputs": [],
   "source": [
    "# #Normalize word count matrix\n",
    "# from sklearn.feature_extraction.text import TfidfVectorizer \n",
    "\n",
    "# #reduce the dimensionality to retain the first N components which capture the major variance\n",
    "# from sklearn.decomposition import TruncatedSVD \n",
    "\n",
    "# from sklearn.svm import SVR\n",
    "\n",
    "# #Summon Pipeline\n",
    "# from sklearn.pipeline import Pipeline\n",
    "\n",
    "# #Instantiate pipeline\n",
    "# pipeline = Pipeline(steps=[('tfidf', TfidfVectorizer()), \n",
    "#                            ('svd', TruncatedSVD(random_state=42)), \n",
    "#                            ('clf', SVR())])\n",
    "# #Check\n",
    "# print(pipeline)"
   ]
  },
  {
   "cell_type": "markdown",
   "metadata": {},
   "source": [
    "Pipeline Optimization"
   ]
  },
  {
   "cell_type": "code",
   "execution_count": null,
   "metadata": {},
   "outputs": [],
   "source": [
    "# #Summon RandomizedSearchCV\n",
    "# from sklearn.model_selection import RandomizedSearchCV\n",
    "\n",
    "# #Set Param grid for RandomizedSearchCV to explore\n",
    "# param_grid= {'tfidf__max_df':(.5,.75, 1.0),\n",
    "#              'svd__n_components': (50, 100, 150, 200),\n",
    "#              'clf__C':(.1,1,10)}\n",
    "\n",
    "# #Instantiate model\n",
    "# random_search = RandomizedSearchCV(estimator=pipeline,param_distributions=param_grid,\n",
    "#                             verbose=10, n_jobs=-1, scoring = 'r2')\n",
    "# #Score\n",
    "# random_search.fit(X_train, y_train)"
   ]
  },
  {
   "cell_type": "code",
   "execution_count": null,
   "metadata": {},
   "outputs": [],
   "source": [
    "# #View average score\n",
    "# print(\"Best score: {:.3f}\".format(random_search.best_score_))\n",
    "# print(\"Best parameters set:\")\n",
    "# best_parameters = random_search.best_estimator_.get_params()\n"
   ]
  },
  {
   "cell_type": "code",
   "execution_count": null,
   "metadata": {},
   "outputs": [],
   "source": [
    "#test using regression"
   ]
  },
  {
   "cell_type": "markdown",
   "metadata": {},
   "source": [
    "# Machine Learning"
   ]
  },
  {
   "cell_type": "markdown",
   "metadata": {},
   "source": [
    "Is there value in capturing the numeric counts of amenities per listing? See below"
   ]
  },
  {
   "cell_type": "code",
   "execution_count": null,
   "metadata": {},
   "outputs": [],
   "source": [
    "# #Split strings on commas into features\n",
    "# df.amenities=df.amenities.str.split(pat=',', expand = False)\n",
    "\n",
    "# #Create amenities count and assign to df\n",
    "# df['amenities_count'] = df['amenities'].str.len()"
   ]
  }
 ],
 "metadata": {
  "kernelspec": {
   "display_name": "Python 3",
   "language": "python",
   "name": "python3"
  },
  "language_info": {
   "codemirror_mode": {
    "name": "ipython",
    "version": 3
   },
   "file_extension": ".py",
   "mimetype": "text/x-python",
   "name": "python",
   "nbconvert_exporter": "python",
   "pygments_lexer": "ipython3",
   "version": "3.7.3"
  }
 },
 "nbformat": 4,
 "nbformat_minor": 4
}
