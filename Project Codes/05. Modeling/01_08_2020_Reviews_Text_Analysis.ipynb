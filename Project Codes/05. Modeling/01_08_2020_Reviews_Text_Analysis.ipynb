{
 "cells": [
  {
   "cell_type": "markdown",
   "metadata": {},
   "source": [
    "Natural Language Processing\n",
    "Review Data from Airbnb"
   ]
  },
  {
   "cell_type": "code",
   "execution_count": 82,
   "metadata": {},
   "outputs": [],
   "source": [
    "#Read in libraries\n",
    "import pandas as pd\n",
    "import swifter\n",
    "import numpy as np\n",
    "\n",
    "import matplotlib.pyplot as plt\n",
    "import seaborn as sns\n",
    "\n",
    "import nltk\n",
    "import sklearn"
   ]
  },
  {
   "cell_type": "code",
   "execution_count": 83,
   "metadata": {},
   "outputs": [],
   "source": [
    "#Settings for notebook\n",
    "#Ignore warnings\n",
    "import warnings; warnings.simplefilter('ignore')\n",
    "\n",
    "#Increase number of columns and rows displayed by Pandas\n",
    "pd.set_option('display.max_colwidth',1000)\n",
    "pd.set_option('display.max_columns', 500)\n",
    "pd.set_option('display.max_rows',100)"
   ]
  },
  {
   "cell_type": "code",
   "execution_count": 84,
   "metadata": {},
   "outputs": [],
   "source": [
    "#Set path to data\n",
    "path = r'C:\\Users\\kishe\\Documents\\Data Science\\Projects\\Python Projects\\In Progress\\Air BnB - SF\\Data\\03_Processed'\n",
    "\n",
    "#Read in data\n",
    "reviews = pd.read_csv(path + '/01_10_2020_Reviews_Processed_Text_Analysis.csv',sep=',',\n",
    "                 parse_dates=['date'])"
   ]
  },
  {
   "cell_type": "code",
   "execution_count": 85,
   "metadata": {},
   "outputs": [
    {
     "data": {
      "text/html": [
       "<div>\n",
       "<style scoped>\n",
       "    .dataframe tbody tr th:only-of-type {\n",
       "        vertical-align: middle;\n",
       "    }\n",
       "\n",
       "    .dataframe tbody tr th {\n",
       "        vertical-align: top;\n",
       "    }\n",
       "\n",
       "    .dataframe thead th {\n",
       "        text-align: right;\n",
       "    }\n",
       "</style>\n",
       "<table border=\"1\" class=\"dataframe\">\n",
       "  <thead>\n",
       "    <tr style=\"text-align: right;\">\n",
       "      <th></th>\n",
       "      <th>0</th>\n",
       "      <th>1</th>\n",
       "      <th>2</th>\n",
       "      <th>3</th>\n",
       "      <th>4</th>\n",
       "    </tr>\n",
       "  </thead>\n",
       "  <tbody>\n",
       "    <tr>\n",
       "      <th>comments</th>\n",
       "      <td>This a jewel in the DogpatchPotrero area Super easy and prompt communication If driving easy access to the 101 and 280 as an added bonus Much recommended</td>\n",
       "      <td>Megs place is sparkling clean and in an awesome location  Meg is also very friendly and so does the dog shes so sweet</td>\n",
       "      <td>We had a great time in SF and loved staying at this home Marjorie was most helpful and informative about getting around and using public transportation  It was very easy and we didnt feel far from all the city attractions The accommodation was comfortable and very nice I would stay there again and recommend it to friends and family Thanks so much</td>\n",
       "      <td>Very cozy place with the beach literally right across the street Very clean Would definitely stay again</td>\n",
       "      <td>Kevin is very professional prompt and warmhearted individual  He gave us a lot of good tips traveling the city Definitely five stars</td>\n",
       "    </tr>\n",
       "    <tr>\n",
       "      <th>date</th>\n",
       "      <td>2016-01-26 00:00:00</td>\n",
       "      <td>2019-03-08 00:00:00</td>\n",
       "      <td>2015-08-16 00:00:00</td>\n",
       "      <td>2018-10-17 00:00:00</td>\n",
       "      <td>2018-01-10 00:00:00</td>\n",
       "    </tr>\n",
       "    <tr>\n",
       "      <th>id_review</th>\n",
       "      <td>60697388</td>\n",
       "      <td>421167935</td>\n",
       "      <td>42860595</td>\n",
       "      <td>337874233</td>\n",
       "      <td>226453615</td>\n",
       "    </tr>\n",
       "    <tr>\n",
       "      <th>listing_id</th>\n",
       "      <td>288213</td>\n",
       "      <td>10427768</td>\n",
       "      <td>4269254</td>\n",
       "      <td>4252808</td>\n",
       "      <td>1393654</td>\n",
       "    </tr>\n",
       "    <tr>\n",
       "      <th>reviewer_id</th>\n",
       "      <td>308818</td>\n",
       "      <td>32888504</td>\n",
       "      <td>35391497</td>\n",
       "      <td>76550363</td>\n",
       "      <td>133118406</td>\n",
       "    </tr>\n",
       "    <tr>\n",
       "      <th>reviewer_name</th>\n",
       "      <td>Desigan</td>\n",
       "      <td>家惠</td>\n",
       "      <td>Hallie</td>\n",
       "      <td>Patrick</td>\n",
       "      <td>Daniel</td>\n",
       "    </tr>\n",
       "    <tr>\n",
       "      <th>host_is_superhost</th>\n",
       "      <td>True</td>\n",
       "      <td>True</td>\n",
       "      <td>True</td>\n",
       "      <td>True</td>\n",
       "      <td>True</td>\n",
       "    </tr>\n",
       "    <tr>\n",
       "      <th>host_response_time</th>\n",
       "      <td>within an hour</td>\n",
       "      <td>within an hour</td>\n",
       "      <td>within an hour</td>\n",
       "      <td>within an hour</td>\n",
       "      <td>within an hour</td>\n",
       "    </tr>\n",
       "    <tr>\n",
       "      <th>latitude</th>\n",
       "      <td>37.7597</td>\n",
       "      <td>37.7736</td>\n",
       "      <td>37.783</td>\n",
       "      <td>37.7573</td>\n",
       "      <td>37.7524</td>\n",
       "    </tr>\n",
       "    <tr>\n",
       "      <th>longitude</th>\n",
       "      <td>-122.388</td>\n",
       "      <td>-122.426</td>\n",
       "      <td>-122.432</td>\n",
       "      <td>-122.509</td>\n",
       "      <td>-122.459</td>\n",
       "    </tr>\n",
       "    <tr>\n",
       "      <th>neighbourhood_cleansed</th>\n",
       "      <td>Potrero Hill</td>\n",
       "      <td>Western Addition</td>\n",
       "      <td>Western Addition</td>\n",
       "      <td>Outer Sunset</td>\n",
       "      <td>Inner Sunset</td>\n",
       "    </tr>\n",
       "    <tr>\n",
       "      <th>number_of_reviews</th>\n",
       "      <td>187</td>\n",
       "      <td>102</td>\n",
       "      <td>309</td>\n",
       "      <td>309</td>\n",
       "      <td>552</td>\n",
       "    </tr>\n",
       "    <tr>\n",
       "      <th>room_type</th>\n",
       "      <td>Entire home/apt</td>\n",
       "      <td>Private room</td>\n",
       "      <td>Entire home/apt</td>\n",
       "      <td>Entire home/apt</td>\n",
       "      <td>Private room</td>\n",
       "    </tr>\n",
       "    <tr>\n",
       "      <th>comments_parsed</th>\n",
       "      <td>This jewel DogpatchPotrero area Super easy prompt communication If driving easy access 101 280 added bonus Much recommended</td>\n",
       "      <td>Megs place sparkling clean awesome location Meg also friendly dog shes sweet</td>\n",
       "      <td>We great time SF loved staying home Marjorie helpful informative getting around using public transportation It easy didnt feel far city attractions The accommodation comfortable nice I would stay recommend friends family Thanks much</td>\n",
       "      <td>Very cozy place beach literally right across street Very clean Would definitely stay</td>\n",
       "      <td>Kevin professional prompt warmhearted individual He gave us lot good tips traveling city Definitely five stars</td>\n",
       "    </tr>\n",
       "    <tr>\n",
       "      <th>sentiment_neg</th>\n",
       "      <td>0</td>\n",
       "      <td>0</td>\n",
       "      <td>0</td>\n",
       "      <td>0</td>\n",
       "      <td>0</td>\n",
       "    </tr>\n",
       "    <tr>\n",
       "      <th>sentiment_pos</th>\n",
       "      <td>0.593</td>\n",
       "      <td>0.685</td>\n",
       "      <td>0.575</td>\n",
       "      <td>0.351</td>\n",
       "      <td>0.393</td>\n",
       "    </tr>\n",
       "    <tr>\n",
       "      <th>sentiment_neu</th>\n",
       "      <td>0.407</td>\n",
       "      <td>0.315</td>\n",
       "      <td>0.425</td>\n",
       "      <td>0.649</td>\n",
       "      <td>0.607</td>\n",
       "    </tr>\n",
       "    <tr>\n",
       "      <th>sentiment_compound</th>\n",
       "      <td>0.9477</td>\n",
       "      <td>0.9349</td>\n",
       "      <td>0.9836</td>\n",
       "      <td>0.7146</td>\n",
       "      <td>0.8126</td>\n",
       "    </tr>\n",
       "  </tbody>\n",
       "</table>\n",
       "</div>"
      ],
      "text/plain": [
       "                                                                                                                                                                                0  \\\n",
       "comments                This a jewel in the DogpatchPotrero area Super easy and prompt communication If driving easy access to the 101 and 280 as an added bonus Much recommended   \n",
       "date                                                                                                                                                          2016-01-26 00:00:00   \n",
       "id_review                                                                                                                                                                60697388   \n",
       "listing_id                                                                                                                                                                 288213   \n",
       "reviewer_id                                                                                                                                                                308818   \n",
       "reviewer_name                                                                                                                                                             Desigan   \n",
       "host_is_superhost                                                                                                                                                            True   \n",
       "host_response_time                                                                                                                                                 within an hour   \n",
       "latitude                                                                                                                                                                  37.7597   \n",
       "longitude                                                                                                                                                                -122.388   \n",
       "neighbourhood_cleansed                                                                                                                                               Potrero Hill   \n",
       "number_of_reviews                                                                                                                                                             187   \n",
       "room_type                                                                                                                                                         Entire home/apt   \n",
       "comments_parsed                                       This jewel DogpatchPotrero area Super easy prompt communication If driving easy access 101 280 added bonus Much recommended   \n",
       "sentiment_neg                                                                                                                                                                   0   \n",
       "sentiment_pos                                                                                                                                                               0.593   \n",
       "sentiment_neu                                                                                                                                                               0.407   \n",
       "sentiment_compound                                                                                                                                                         0.9477   \n",
       "\n",
       "                                                                                                                                            1  \\\n",
       "comments                Megs place is sparkling clean and in an awesome location  Meg is also very friendly and so does the dog shes so sweet   \n",
       "date                                                                                                                      2019-03-08 00:00:00   \n",
       "id_review                                                                                                                           421167935   \n",
       "listing_id                                                                                                                           10427768   \n",
       "reviewer_id                                                                                                                          32888504   \n",
       "reviewer_name                                                                                                                              家惠   \n",
       "host_is_superhost                                                                                                                        True   \n",
       "host_response_time                                                                                                             within an hour   \n",
       "latitude                                                                                                                              37.7736   \n",
       "longitude                                                                                                                            -122.426   \n",
       "neighbourhood_cleansed                                                                                                       Western Addition   \n",
       "number_of_reviews                                                                                                                         102   \n",
       "room_type                                                                                                                        Private room   \n",
       "comments_parsed                                                  Megs place sparkling clean awesome location Meg also friendly dog shes sweet   \n",
       "sentiment_neg                                                                                                                               0   \n",
       "sentiment_pos                                                                                                                           0.685   \n",
       "sentiment_neu                                                                                                                           0.315   \n",
       "sentiment_compound                                                                                                                     0.9349   \n",
       "\n",
       "                                                                                                                                                                                                                                                                                                                                                                                   2  \\\n",
       "comments                We had a great time in SF and loved staying at this home Marjorie was most helpful and informative about getting around and using public transportation  It was very easy and we didnt feel far from all the city attractions The accommodation was comfortable and very nice I would stay there again and recommend it to friends and family Thanks so much   \n",
       "date                                                                                                                                                                                                                                                                                                                                                             2015-08-16 00:00:00   \n",
       "id_review                                                                                                                                                                                                                                                                                                                                                                   42860595   \n",
       "listing_id                                                                                                                                                                                                                                                                                                                                                                   4269254   \n",
       "reviewer_id                                                                                                                                                                                                                                                                                                                                                                 35391497   \n",
       "reviewer_name                                                                                                                                                                                                                                                                                                                                                                 Hallie   \n",
       "host_is_superhost                                                                                                                                                                                                                                                                                                                                                               True   \n",
       "host_response_time                                                                                                                                                                                                                                                                                                                                                    within an hour   \n",
       "latitude                                                                                                                                                                                                                                                                                                                                                                      37.783   \n",
       "longitude                                                                                                                                                                                                                                                                                                                                                                   -122.432   \n",
       "neighbourhood_cleansed                                                                                                                                                                                                                                                                                                                                              Western Addition   \n",
       "number_of_reviews                                                                                                                                                                                                                                                                                                                                                                309   \n",
       "room_type                                                                                                                                                                                                                                                                                                                                                            Entire home/apt   \n",
       "comments_parsed                                                                                                                             We great time SF loved staying home Marjorie helpful informative getting around using public transportation It easy didnt feel far city attractions The accommodation comfortable nice I would stay recommend friends family Thanks much   \n",
       "sentiment_neg                                                                                                                                                                                                                                                                                                                                                                      0   \n",
       "sentiment_pos                                                                                                                                                                                                                                                                                                                                                                  0.575   \n",
       "sentiment_neu                                                                                                                                                                                                                                                                                                                                                                  0.425   \n",
       "sentiment_compound                                                                                                                                                                                                                                                                                                                                                            0.9836   \n",
       "\n",
       "                                                                                                                              3  \\\n",
       "comments                Very cozy place with the beach literally right across the street Very clean Would definitely stay again   \n",
       "date                                                                                                        2018-10-17 00:00:00   \n",
       "id_review                                                                                                             337874233   \n",
       "listing_id                                                                                                              4252808   \n",
       "reviewer_id                                                                                                            76550363   \n",
       "reviewer_name                                                                                                           Patrick   \n",
       "host_is_superhost                                                                                                          True   \n",
       "host_response_time                                                                                               within an hour   \n",
       "latitude                                                                                                                37.7573   \n",
       "longitude                                                                                                              -122.509   \n",
       "neighbourhood_cleansed                                                                                             Outer Sunset   \n",
       "number_of_reviews                                                                                                           309   \n",
       "room_type                                                                                                       Entire home/apt   \n",
       "comments_parsed                            Very cozy place beach literally right across street Very clean Would definitely stay   \n",
       "sentiment_neg                                                                                                                 0   \n",
       "sentiment_pos                                                                                                             0.351   \n",
       "sentiment_neu                                                                                                             0.649   \n",
       "sentiment_compound                                                                                                       0.7146   \n",
       "\n",
       "                                                                                                                                                           4  \n",
       "comments                Kevin is very professional prompt and warmhearted individual  He gave us a lot of good tips traveling the city Definitely five stars  \n",
       "date                                                                                                                                     2018-01-10 00:00:00  \n",
       "id_review                                                                                                                                          226453615  \n",
       "listing_id                                                                                                                                           1393654  \n",
       "reviewer_id                                                                                                                                        133118406  \n",
       "reviewer_name                                                                                                                                         Daniel  \n",
       "host_is_superhost                                                                                                                                       True  \n",
       "host_response_time                                                                                                                            within an hour  \n",
       "latitude                                                                                                                                             37.7524  \n",
       "longitude                                                                                                                                           -122.459  \n",
       "neighbourhood_cleansed                                                                                                                          Inner Sunset  \n",
       "number_of_reviews                                                                                                                                        552  \n",
       "room_type                                                                                                                                       Private room  \n",
       "comments_parsed                               Kevin professional prompt warmhearted individual He gave us lot good tips traveling city Definitely five stars  \n",
       "sentiment_neg                                                                                                                                              0  \n",
       "sentiment_pos                                                                                                                                          0.393  \n",
       "sentiment_neu                                                                                                                                          0.607  \n",
       "sentiment_compound                                                                                                                                    0.8126  "
      ]
     },
     "execution_count": 85,
     "metadata": {},
     "output_type": "execute_result"
    }
   ],
   "source": [
    "reviews.head().T"
   ]
  },
  {
   "cell_type": "markdown",
   "metadata": {},
   "source": [
    "Histogram of sentiment scores"
   ]
  },
  {
   "cell_type": "code",
   "execution_count": null,
   "metadata": {},
   "outputs": [
    {
     "data": {
      "text/plain": [
       "Text(0.5, 1.0, 'Compound')"
      ]
     },
     "execution_count": 86,
     "metadata": {},
     "output_type": "execute_result"
    }
   ],
   "source": [
    "#Set style \n",
    "plt.style.use('ggplot')\n",
    "\n",
    "#Set plot\n",
    "fig, ax = plt.subplots(2,2, figsize = (10,10))\n",
    "\n",
    "fig.suptitle('Sentiment Scores for SF Airbnb Reviews',fontsize =19,fontweight = 'bold', y =.95)\n",
    "fig.text(.45,.07, 'Sentiment Scores', fontweight='bold')\n",
    "fig.text(.05,.45, 'Number of Reviews', fontweight='bold', rotation = 'vertical')\n",
    "\n",
    "#Plot 4 histograms\n",
    "ax1 = reviews.sentiment_neg.hist(ax = ax[0,0],bins = 20, color = '#5f6caf', alpha = .75)\n",
    "ax1.set_title(\"Negative\")\n",
    "\n",
    "ax2 = reviews.sentiment_pos.hist(ax = ax[0,1],bins = 20, color = '#7fcd91',alpha = .75)\n",
    "ax2.set_title(\"Positive\")\n",
    "\n",
    "ax3 = reviews.sentiment_neu.hist(ax = ax[1,0],bins = 20, color = '#0f4c75',alpha = .5)\n",
    "ax3.set_title(\"Neutral\")\n",
    "\n",
    "ax4 = reviews.sentiment_compound.hist(ax = ax[1,1],bins = 20, color = '#1b262c',alpha = .5)\n",
    "ax4.set_title(\"Compound\")\n"
   ]
  },
  {
   "cell_type": "code",
   "execution_count": null,
   "metadata": {},
   "outputs": [],
   "source": [
    "#Statistics in reference to sentiment scores\n",
    "percentiles = reviews['sentiment_compound'].describe(percentiles=[0.1, 0.2, 0.3, 0.4, 0.5, 0.6, 0.7, 0.8, 0.9])\n",
    "percentiles"
   ]
  },
  {
   "cell_type": "code",
   "execution_count": null,
   "metadata": {},
   "outputs": [],
   "source": [
    "#split sentiment_compound scores into 20 bins\n",
    "reviews['binned'] = pd.cut(reviews.sentiment_compound, bins = 20)\n",
    "\n",
    "#Set fig size\n",
    "fig, ax = plt.subplots(figsize = (10,5))\n",
    "\n",
    "#Plot data\n",
    "ax = sns.countplot(y = 'binned',data = reviews, ax=ax, color = 'darkgreen')\n",
    "\n",
    "\n"
   ]
  },
  {
   "cell_type": "markdown",
   "metadata": {},
   "source": [
    "Our reviews are very positive. \n",
    "Let's compare the differences between the very positive comments and the very negative ones"
   ]
  },
  {
   "cell_type": "markdown",
   "metadata": {},
   "source": [
    "## Differences in review length"
   ]
  },
  {
   "cell_type": "code",
   "execution_count": null,
   "metadata": {},
   "outputs": [],
   "source": [
    "reviews['comments_length'] = reviews.comments_parsed.apply(len)\n",
    "\n",
    "positive_reviews = reviews[reviews.sentiment_compound > .99]\n",
    "negative_reviews = reviews[reviews.sentiment_compound < -.5]"
   ]
  },
  {
   "cell_type": "code",
   "execution_count": null,
   "metadata": {},
   "outputs": [],
   "source": [
    "fig, ax = plt.subplots(figsize=(10,6))\n",
    "\n",
    "#Plot Histogram\n",
    "sns.distplot(positive_reviews.comments_length, kde = True, bins = 50, color = 'b')\n",
    "sns.distplot(negative_reviews.comments_length, kde = True, bins = 50, color = 'r')\n",
    "\n",
    "plt.legend(labels = ['Positive Reviews', 'Negative Reviews'], frameon = True);\n",
    "ax.set_title('Airbnb Review Length Distribution')\n",
    "ax.set_xlabel('Characters')"
   ]
  },
  {
   "cell_type": "markdown",
   "metadata": {},
   "source": [
    "Let's look at a subset of some of these reviews"
   ]
  },
  {
   "cell_type": "markdown",
   "metadata": {},
   "source": [
    "Postive Reviews"
   ]
  },
  {
   "cell_type": "code",
   "execution_count": null,
   "metadata": {},
   "outputs": [],
   "source": [
    "#Positive reviews\n",
    "positive_reviews.comments[10:15]"
   ]
  },
  {
   "cell_type": "markdown",
   "metadata": {},
   "source": [
    "Word Clouds\n"
   ]
  },
  {
   "cell_type": "code",
   "execution_count": null,
   "metadata": {},
   "outputs": [],
   "source": [
    "#Positive Word Cloud"
   ]
  },
  {
   "cell_type": "code",
   "execution_count": null,
   "metadata": {},
   "outputs": [],
   "source": [
    "from wordcloud import WordCloud, STOPWORDS, ImageColorGenerator\n",
    "from PIL import Image\n"
   ]
  },
  {
   "cell_type": "code",
   "execution_count": null,
   "metadata": {},
   "outputs": [],
   "source": [
    "wordcloud = WordCloud(max_font_size=200, max_words=200, background_color=\"skyblue\",\n",
    "                      width= 3000, height = 2000).generate(str(positive_reviews.comments.values))\n",
    "\n",
    "def plot_wordcloud(wordcloud, language):\n",
    "    plt.figure(figsize=(12, 10))\n",
    "    plt.imshow(wordcloud, interpolation = 'bilinear')\n",
    "    plt.axis(\"off\")\n",
    "    plt.title(language + ' Comments\\n', fontsize=18, fontweight='bold')\n",
    "    plt.show()\n",
    "    \n",
    "plot_wordcloud(wordcloud, '\\nPositively Tuned')"
   ]
  },
  {
   "cell_type": "code",
   "execution_count": null,
   "metadata": {},
   "outputs": [],
   "source": [
    "#What are the most popular words in positive reviews?"
   ]
  },
  {
   "cell_type": "code",
   "execution_count": null,
   "metadata": {},
   "outputs": [],
   "source": [
    "#Import count vectorizer\n",
    "from sklearn.feature_extraction.text import CountVectorizer\n",
    "\n",
    "count = CountVectorizer(stop_words='english').fit(positive_reviews.comments)\n",
    "\n",
    "print('Vocabulary used in positive reviews: {}'.format(len(count.vocabulary_)))\n",
    "\n",
    "bow = count.transform(positive_reviews.comments)\n",
    "sum_words = bow.sum(axis=0)\n",
    "\n",
    "#we sort a list of tuples that contain the word and their occurrence in the corpus\n",
    "words_freq = [(word, sum_words[0, idx]) for word, idx in count.vocabulary_.items()]\n",
    "words_freq =sorted(words_freq, key = lambda x: x[1], reverse=True)"
   ]
  },
  {
   "cell_type": "code",
   "execution_count": null,
   "metadata": {},
   "outputs": [],
   "source": [
    "positive_words = pd.DataFrame(words_freq, columns =['Word', 'Count']) \n"
   ]
  },
  {
   "cell_type": "code",
   "execution_count": null,
   "metadata": {},
   "outputs": [],
   "source": [
    "positive_words = positive_words.head(30)\n",
    "\n",
    "fig,ax = plt.subplots(figsize = (10,10))\n",
    "positive_words.sort_values(by='Count').plot(x = 'Word',y='Count',kind='barh', ax=ax)\n",
    "\n",
    "ax.set_title('Most Common Words used in Positive Airbnb Reviews')\n",
    "ax.set_ylabel('')"
   ]
  },
  {
   "cell_type": "code",
   "execution_count": null,
   "metadata": {},
   "outputs": [],
   "source": [
    "#Topic modeling and document clustering for postive reviews"
   ]
  },
  {
   "cell_type": "code",
   "execution_count": null,
   "metadata": {},
   "outputs": [],
   "source": [
    "#Import libraries\n",
    "import gensim\n",
    "from gensim.parsing.preprocessing import preprocess_string\n",
    "from gensim.models import Phrases\n",
    "from gensim import corpora, models, similarities"
   ]
  },
  {
   "cell_type": "code",
   "execution_count": null,
   "metadata": {},
   "outputs": [],
   "source": [
    "#Apply preprocess and stem original comments\n",
    "docs = np.array(positive_reviews['comments'].apply(preprocess_string))\n",
    "\n",
    "# Add bigrams and trigrams to docs (only ones that appear 10 times or more).\n",
    "bigram = Phrases(docs, min_count=10)\n",
    "trigram = Phrases(bigram[docs])\n",
    "\n",
    "for idx in range(len(docs)):\n",
    "    for token in bigram[docs[idx]]:\n",
    "        if '_' in token:\n",
    "            # Token is a bigram, add to document.\n",
    "            docs[idx].append(token)\n",
    "    for token in trigram[docs[idx]]:\n",
    "        if '_' in token:\n",
    "            # Token is a bigram, add to document.\n",
    "            docs[idx].append(token)"
   ]
  },
  {
   "cell_type": "code",
   "execution_count": null,
   "metadata": {},
   "outputs": [],
   "source": [
    "#Create dictionary of tokens and print info\n",
    "dictionary = corpora.Dictionary(docs)\n",
    "print('Number of unique words in original documents: {}'.format(len(dictionary)))"
   ]
  },
  {
   "cell_type": "markdown",
   "metadata": {},
   "source": [
    "**Remove rare or common tokens**"
   ]
  },
  {
   "cell_type": "code",
   "execution_count": null,
   "metadata": {},
   "outputs": [],
   "source": [
    "#Filter words that occur in less than 10 documents or more than 25% of documents\n",
    "dictionary.filter_extremes(no_below= 10,no_above=.25 )\n",
    "\n",
    "print('Number of unique words after removing rare and common words: {}'.format(len(dictionary)))"
   ]
  },
  {
   "cell_type": "code",
   "execution_count": null,
   "metadata": {},
   "outputs": [],
   "source": [
    "#Vectorize data\n",
    "corpus = [dictionary.doc2bow(doc) for doc in docs]"
   ]
  },
  {
   "cell_type": "code",
   "execution_count": null,
   "metadata": {},
   "outputs": [],
   "source": [
    "#Initialize Tfidf and fit to corpus\n",
    "tfidf = models.TfidfModel(corpus)\n",
    "\n",
    "#Scale and transform corpus\n",
    "transformed_tfidf = tfidf[corpus]\n",
    "\n",
    "#Fit transformed data to Lda\n",
    "lda = models.LdaMulticore(corpus= transformed_tfidf, num_topics=10, id2word=dictionary)"
   ]
  },
  {
   "cell_type": "code",
   "execution_count": null,
   "metadata": {},
   "outputs": [],
   "source": [
    "#Import pyLDAvis to visualize topics found in LDA\n",
    "import pyLDAvis.gensim\n",
    "pyLDAvis.enable_notebook()\n",
    "\n",
    "#Create plot\n",
    "vis = pyLDAvis.gensim.prepare(lda, corpus, dictionary)\n",
    "vis"
   ]
  },
  {
   "cell_type": "markdown",
   "metadata": {},
   "source": [
    "**Takeaways**"
   ]
  },
  {
   "cell_type": "markdown",
   "metadata": {},
   "source": [
    "## Negative Reviews"
   ]
  },
  {
   "cell_type": "code",
   "execution_count": null,
   "metadata": {},
   "outputs": [],
   "source": [
    "#Preview some of the negative reviews\n",
    "negative_reviews.comments[10:15]"
   ]
  },
  {
   "cell_type": "markdown",
   "metadata": {},
   "source": [
    "**Wordcloud of negative comments**"
   ]
  },
  {
   "cell_type": "code",
   "execution_count": null,
   "metadata": {},
   "outputs": [],
   "source": [
    "#Create wordcloud\n",
    "wordcloud = WordCloud(max_font_size=200, max_words=200, background_color=\"lightgray\",\n",
    "                      width= 3000, height = 2000).generate(str(negative_reviews.comments.values))\n",
    "\n",
    "#Plot wordcloud\n",
    "plot_wordcloud(wordcloud, '\\nNegatively Tuned')"
   ]
  },
  {
   "cell_type": "code",
   "execution_count": null,
   "metadata": {},
   "outputs": [],
   "source": []
  },
  {
   "cell_type": "markdown",
   "metadata": {},
   "source": [
    "#What are the most popular words in negative reviews?"
   ]
  },
  {
   "cell_type": "code",
   "execution_count": null,
   "metadata": {},
   "outputs": [],
   "source": [
    "#Instantiate CountVectorizer and fit to comments\n",
    "count = CountVectorizer(stop_words='english').fit(negative_reviews.comments)\n",
    "\n",
    "#Print length of unique words in negative comments\n",
    "print('Vocabulary used in negative reviews: {}'.format(len(count.vocabulary_)))\n",
    "\n",
    "#Create bag of words from comments\n",
    "bow = count.transform(negative_reviews.comments)\n",
    "sum_words = bow.sum(axis=0)\n",
    "\n",
    "#we sort a list of tuples that contain the word and their occurrence in the corpus\n",
    "words_freq = [(word, sum_words[0, idx]) for word, idx in count.vocabulary_.items()]\n",
    "words_freq =sorted(words_freq, key = lambda x: x[1], reverse=True)"
   ]
  },
  {
   "cell_type": "code",
   "execution_count": null,
   "metadata": {},
   "outputs": [],
   "source": [
    "#Create df with vocab and their corresponding counts \n",
    "negative_words = pd.DataFrame(words_freq, columns =['Word', 'Count']) "
   ]
  },
  {
   "cell_type": "code",
   "execution_count": null,
   "metadata": {},
   "outputs": [],
   "source": [
    "#Capture the 30 most used words\n",
    "negative_words = negative_words.head(30)\n",
    "\n",
    "#Plot\n",
    "fig,ax = plt.subplots(figsize = (10,10))\n",
    "negative_words.sort_values(by='Count').plot(x = 'Word',y='Count',kind='barh', ax=ax, color = 'skyblue')\n",
    "\n",
    "#Set plot aesthetics\n",
    "ax.set_title('Most Common Words used in Negative Airbnb Reviews')\n",
    "ax.set_ylabel('')"
   ]
  },
  {
   "cell_type": "code",
   "execution_count": null,
   "metadata": {},
   "outputs": [],
   "source": [
    "#Topic modeling for negative reviews"
   ]
  },
  {
   "cell_type": "code",
   "execution_count": null,
   "metadata": {},
   "outputs": [],
   "source": [
    "#Apply preprocess and stem original comments\n",
    "docs = np.array(negative_reviews['comments'].apply(preprocess_string))\n",
    "\n",
    "# Add bigrams and trigrams to docs (only ones that appear 10 times or more).\n",
    "bigram = Phrases(docs, min_count=10)\n",
    "trigram = Phrases(bigram[docs])\n",
    "\n",
    "for idx in range(len(docs)):\n",
    "    for token in bigram[docs[idx]]:\n",
    "        if '_' in token:\n",
    "            # Token is a bigram, add to document.\n",
    "            docs[idx].append(token)\n",
    "    for token in trigram[docs[idx]]:\n",
    "        if '_' in token:\n",
    "            # Token is a bigram, add to document.\n",
    "            docs[idx].append(token)"
   ]
  },
  {
   "cell_type": "code",
   "execution_count": null,
   "metadata": {},
   "outputs": [],
   "source": [
    "#Create dictionary of tokens and print info\n",
    "dictionary = corpora.Dictionary(docs)\n",
    "print('Number of unique words in original documents: {}'.format(len(dictionary)))"
   ]
  },
  {
   "cell_type": "markdown",
   "metadata": {},
   "source": [
    "**Remove rare or common tokens**"
   ]
  },
  {
   "cell_type": "code",
   "execution_count": null,
   "metadata": {},
   "outputs": [],
   "source": [
    "#Filter words that occur in less than 10 documents or more than 25% of documents\n",
    "dictionary.filter_extremes(no_below= 10,no_above=.25 )\n",
    "\n",
    "print('Number of unique words after removing rare and common words: {}'.format(len(dictionary)))"
   ]
  },
  {
   "cell_type": "code",
   "execution_count": null,
   "metadata": {},
   "outputs": [],
   "source": [
    "#Vectorize data\n",
    "corpus = [dictionary.doc2bow(doc) for doc in docs]"
   ]
  },
  {
   "cell_type": "code",
   "execution_count": null,
   "metadata": {},
   "outputs": [],
   "source": [
    "#Initialize Tfidf and fit to corpus\n",
    "tfidf = models.TfidfModel(corpus)\n",
    "\n",
    "#Scale and transform corpus\n",
    "transformed_tfidf = tfidf[corpus]\n",
    "\n",
    "#Fit transformed data to Lda\n",
    "lda = models.LdaMulticore(corpus= transformed_tfidf, num_topics=10, id2word=dictionary)"
   ]
  },
  {
   "cell_type": "code",
   "execution_count": null,
   "metadata": {},
   "outputs": [],
   "source": [
    "#Create plot\n",
    "vis = pyLDAvis.gensim.prepare(lda, corpus, dictionary)\n",
    "vis"
   ]
  },
  {
   "cell_type": "code",
   "execution_count": null,
   "metadata": {},
   "outputs": [],
   "source": []
  },
  {
   "cell_type": "code",
   "execution_count": null,
   "metadata": {},
   "outputs": [],
   "source": []
  },
  {
   "cell_type": "code",
   "execution_count": null,
   "metadata": {},
   "outputs": [],
   "source": []
  },
  {
   "cell_type": "code",
   "execution_count": null,
   "metadata": {},
   "outputs": [],
   "source": [
    "#what insights can you gain?"
   ]
  },
  {
   "cell_type": "code",
   "execution_count": null,
   "metadata": {},
   "outputs": [],
   "source": []
  },
  {
   "cell_type": "code",
   "execution_count": null,
   "metadata": {},
   "outputs": [],
   "source": []
  },
  {
   "cell_type": "code",
   "execution_count": null,
   "metadata": {},
   "outputs": [],
   "source": []
  },
  {
   "cell_type": "code",
   "execution_count": null,
   "metadata": {},
   "outputs": [],
   "source": []
  },
  {
   "cell_type": "code",
   "execution_count": null,
   "metadata": {},
   "outputs": [],
   "source": []
  },
  {
   "cell_type": "code",
   "execution_count": null,
   "metadata": {},
   "outputs": [],
   "source": []
  },
  {
   "cell_type": "code",
   "execution_count": null,
   "metadata": {},
   "outputs": [],
   "source": []
  }
 ],
 "metadata": {
  "kernelspec": {
   "display_name": "Python 3",
   "language": "python",
   "name": "python3"
  },
  "language_info": {
   "codemirror_mode": {
    "name": "ipython",
    "version": 3
   },
   "file_extension": ".py",
   "mimetype": "text/x-python",
   "name": "python",
   "nbconvert_exporter": "python",
   "pygments_lexer": "ipython3",
   "version": "3.7.3"
  }
 },
 "nbformat": 4,
 "nbformat_minor": 4
}
