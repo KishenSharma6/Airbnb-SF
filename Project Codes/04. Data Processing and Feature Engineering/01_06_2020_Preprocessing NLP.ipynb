{
 "cells": [
  {
   "cell_type": "markdown",
   "metadata": {},
   "source": [
    "### Principal Component Analysis"
   ]
  },
  {
   "cell_type": "markdown",
   "metadata": {},
   "source": [
    "## Reviews Preparation for Natural Language Processing\n",
    "\n",
    "Add review_scores_rating from listings data to reviews data. Listings data only has review scores pertaining to the most recent review for a particular listing. This means that there will be many reviews that do not have a score, which we will remove during the merge."
   ]
  },
  {
   "cell_type": "code",
   "execution_count": null,
   "metadata": {},
   "outputs": [],
   "source": [
    "#Set path to get cleaned listings data\n",
    "path = r'Data\\02_Intermediate\\listings_cleaned.csv'\n",
    "\n",
    "#Parse dates\n",
    "parse_dates = ['last_review']\n",
    "\n",
    "#Read in Airbnb cleaned_listings Data\n",
    "listings = pd.read_csv(path,index_col=0, parse_dates=parse_dates, low_memory=False, sep='\\t')"
   ]
  },
  {
   "cell_type": "code",
   "execution_count": null,
   "metadata": {},
   "outputs": [],
   "source": [
    "#Check listings\n",
    "listings.head()"
   ]
  },
  {
   "cell_type": "markdown",
   "metadata": {},
   "source": [
    "**Merge review_scores_rating from listings to corresponding reviews**"
   ]
  },
  {
   "cell_type": "code",
   "execution_count": null,
   "metadata": {},
   "outputs": [],
   "source": [
    "#Merge\n",
    "review_scores = reviews.merge(listings.loc[:,['last_review','id','review_scores_rating']], how='left', left_on= ['listing_id', 'date'], \n",
    "                              right_on=['id', 'last_review'], suffixes=('_review', '_listings'))\n",
    "#Check\n",
    "review_scores.head()"
   ]
  },
  {
   "cell_type": "markdown",
   "metadata": {},
   "source": [
    "### Cleaning Merged Data Set for NLP"
   ]
  },
  {
   "cell_type": "code",
   "execution_count": 8,
   "metadata": {},
   "outputs": [
    {
     "ename": "NameError",
     "evalue": "name 'reviews' is not defined",
     "output_type": "error",
     "traceback": [
      "\u001b[1;31m---------------------------------------------------------------------------\u001b[0m",
      "\u001b[1;31mNameError\u001b[0m                                 Traceback (most recent call last)",
      "\u001b[1;32m<ipython-input-8-a6acc5f38caf>\u001b[0m in \u001b[0;36m<module>\u001b[1;34m\u001b[0m\n\u001b[0;32m      1\u001b[0m \u001b[1;31m#View review_scores shape\u001b[0m\u001b[1;33m\u001b[0m\u001b[1;33m\u001b[0m\u001b[1;33m\u001b[0m\u001b[0m\n\u001b[1;32m----> 2\u001b[1;33m \u001b[0mprint\u001b[0m\u001b[1;33m(\u001b[0m\u001b[1;34m'review_scores original data shape:'\u001b[0m\u001b[1;33m,\u001b[0m\u001b[0mreviews\u001b[0m\u001b[1;33m.\u001b[0m\u001b[0mshape\u001b[0m\u001b[1;33m)\u001b[0m\u001b[1;33m\u001b[0m\u001b[1;33m\u001b[0m\u001b[0m\n\u001b[0m\u001b[0;32m      3\u001b[0m \u001b[1;33m\u001b[0m\u001b[0m\n\u001b[0;32m      4\u001b[0m \u001b[1;31m#View missing values in review_scores\u001b[0m\u001b[1;33m\u001b[0m\u001b[1;33m\u001b[0m\u001b[1;33m\u001b[0m\u001b[0m\n\u001b[0;32m      5\u001b[0m \u001b[0mprint\u001b[0m\u001b[1;33m(\u001b[0m\u001b[1;34m'Missing values:'\u001b[0m\u001b[1;33m,\u001b[0m \u001b[0mreview_scores\u001b[0m\u001b[1;33m.\u001b[0m\u001b[0misna\u001b[0m\u001b[1;33m(\u001b[0m\u001b[1;33m)\u001b[0m\u001b[1;33m.\u001b[0m\u001b[0msum\u001b[0m\u001b[1;33m(\u001b[0m\u001b[1;33m)\u001b[0m\u001b[1;33m)\u001b[0m\u001b[1;33m\u001b[0m\u001b[1;33m\u001b[0m\u001b[0m\n",
      "\u001b[1;31mNameError\u001b[0m: name 'reviews' is not defined"
     ]
    }
   ],
   "source": [
    "#View review_scores shape\n",
    "print('review_scores original data shape:',reviews.shape)\n",
    "\n",
    "#View missing values in review_scores\n",
    "print('Missing values:', review_scores.isna().sum())"
   ]
  },
  {
   "cell_type": "code",
   "execution_count": null,
   "metadata": {},
   "outputs": [],
   "source": [
    "#Drop unnecessary columns from review_scores\n",
    "review_scores.drop(columns=['last_review', 'id_listings'], axis = 1, inplace= True)\n",
    "\n",
    "#Rename columns\n",
    "review_scores.rename(columns={'review_scores_rating':'review_rating'}, inplace=True)\n",
    "\n",
    "#Drop duplicate values\n",
    "review_scores.drop_duplicates(inplace=True)\n",
    "\n",
    "#Strip leading and trailing white space\n",
    "review_scores.comments = review_scores.comments.str.strip()\n",
    "\n",
    "#View updated reviews shape and missing values\n",
    "print('Updated reviews data shape:',review_scores.shape)\n",
    "print('Missing values: \\n', review_scores.isna().sum())"
   ]
  },
  {
   "cell_type": "code",
   "execution_count": null,
   "metadata": {},
   "outputs": [],
   "source": [
    "#Filter rows that do not contain english characters in the comments\n",
    "review_scores.comments.replace('[^a-zA-Z0-9]',' ',regex = True, inplace=True)\n",
    "\n",
    "#Remove puncuation from comments\n",
    "review_scores.comments = review_scores.comments.str.replace(r'[^\\w\\s]+', '')\n",
    "\n",
    "#Replace empty comments with nan\n",
    "review_scores.comments = review_scores.comments.replace('', np.nan)\n",
    "\n",
    "#Remove rows with missing comments and/or review_rating\n",
    "review_scores.dropna(subset=['comments', 'review_rating'], inplace=True)\n",
    "\n",
    "#View updated reviews shape\n",
    "print('Updated reviews data shape:',review_scores.shape)\n",
    "print('Missing values: \\n', review_scores.isna().sum())"
   ]
  },
  {
   "cell_type": "code",
   "execution_count": null,
   "metadata": {},
   "outputs": [],
   "source": [
    "#filter out rows where comments are less than 2 characters long\n",
    "review_scores = review_scores[review_scores.comments.apply(len) > 2]\n"
   ]
  },
  {
   "cell_type": "code",
   "execution_count": null,
   "metadata": {},
   "outputs": [],
   "source": [
    "#View updated reviews shape\n",
    "print('Updated reviews data shape:',review_scores.shape)\n",
    "\n",
    "#View review_scores\n",
    "display(review_scores)"
   ]
  },
  {
   "cell_type": "code",
   "execution_count": null,
   "metadata": {},
   "outputs": [],
   "source": []
  },
  {
   "cell_type": "markdown",
   "metadata": {},
   "source": [
    "Text Analysis\n",
    "\n",
    "Some questions to explore:\n",
    "- What are the topics of negative reviews vs positive reviews?\n",
    "- Does greater word usage correlate positively with a more negative experience?\n",
    "- How would you advise first time hosts to increase the liklihood of a positive review?\n"
   ]
  },
  {
   "cell_type": "code",
   "execution_count": null,
   "metadata": {},
   "outputs": [],
   "source": []
  },
  {
   "cell_type": "markdown",
   "metadata": {},
   "source": [
    "Split data into training and test sets"
   ]
  },
  {
   "cell_type": "code",
   "execution_count": null,
   "metadata": {},
   "outputs": [],
   "source": [
    "# #Convert comments and review_rating into arrays\n",
    "# X = review_scores['comments'].values #training data\n",
    "# y = review_scores['review_rating'].values #target data\n",
    "\n",
    "# #Check\n",
    "# print(X.shape)\n",
    "# print(y.shape)"
   ]
  },
  {
   "cell_type": "code",
   "execution_count": null,
   "metadata": {},
   "outputs": [],
   "source": [
    "# #instantiate test_train_split\n",
    "# from sklearn.model_selection import train_test_split\n",
    "\n",
    "# #Split data\n",
    "# X_train, X_test, y_train, y_test = train_test_split(X, y, random_state=42)\n",
    "\n",
    "# #Check \n",
    "# print(X_train.shape, y_train.shape)\n",
    "# print(X_test.shape, y_test.shape)\n",
    "# print(X_train)"
   ]
  },
  {
   "cell_type": "markdown",
   "metadata": {},
   "source": [
    "Tokenize comments"
   ]
  },
  {
   "cell_type": "code",
   "execution_count": null,
   "metadata": {},
   "outputs": [],
   "source": [
    "# #Plot histogram of review scores\n",
    "# review_scores.review_rating.hist(bins=50)\n",
    "\n",
    "# print(review_scores.shape)"
   ]
  },
  {
   "cell_type": "code",
   "execution_count": null,
   "metadata": {},
   "outputs": [],
   "source": [
    "# #Summon CountVectorizer\n",
    "# from sklearn.feature_extraction.text import CountVectorizer\n",
    "\n",
    "# #Instantiate CountVectorizer\n",
    "# vect = CountVectorizer()\n",
    "\n",
    "# #fit to training data\n",
    "# vect = vect.fit(X_train)\n",
    "\n",
    "# #Transform\n",
    "# X_train_transformed = vect.transform(X_train)"
   ]
  },
  {
   "cell_type": "code",
   "execution_count": null,
   "metadata": {},
   "outputs": [],
   "source": [
    "# #View representation of X_train_transformed\n",
    "# print('X_train_transformed representation: {}'.format(repr(X_train_transformed)))\n",
    "\n",
    "# #Capture information about features\n",
    "# feature_names = vect.get_feature_names()\n",
    "# print('Number of features: {:,} '.format(len(feature_names)))\n",
    "# print('\\nEvery 2000th features: {}'.format(feature_names[::200]))"
   ]
  },
  {
   "cell_type": "markdown",
   "metadata": {},
   "source": [
    "Naive implementation of SVR using "
   ]
  },
  {
   "cell_type": "code",
   "execution_count": null,
   "metadata": {},
   "outputs": [],
   "source": [
    "# #Normalize word count matrix\n",
    "# from sklearn.feature_extraction.text import TfidfVectorizer \n",
    "\n",
    "# #reduce the dimensionality to retain the first N components which capture the major variance\n",
    "# from sklearn.decomposition import TruncatedSVD \n",
    "\n",
    "# from sklearn.svm import SVR\n",
    "\n",
    "# #Summon Pipeline\n",
    "# from sklearn.pipeline import Pipeline\n",
    "\n",
    "# #Instantiate pipeline\n",
    "# pipeline = Pipeline(steps=[('tfidf', TfidfVectorizer()), \n",
    "#                            ('svd', TruncatedSVD(random_state=42)), \n",
    "#                            ('clf', SVR())])\n",
    "# #Check\n",
    "# print(pipeline)"
   ]
  },
  {
   "cell_type": "markdown",
   "metadata": {},
   "source": [
    "Pipeline Optimization"
   ]
  },
  {
   "cell_type": "code",
   "execution_count": null,
   "metadata": {},
   "outputs": [],
   "source": [
    "# #Summon RandomizedSearchCV\n",
    "# from sklearn.model_selection import RandomizedSearchCV\n",
    "\n",
    "# #Set Param grid for RandomizedSearchCV to explore\n",
    "# param_grid= {'tfidf__max_df':(.5,.75, 1.0),\n",
    "#              'svd__n_components': (50, 100, 150, 200),\n",
    "#              'clf__C':(.1,1,10)}\n",
    "\n",
    "# #Instantiate model\n",
    "# random_search = RandomizedSearchCV(estimator=pipeline,param_distributions=param_grid,\n",
    "#                             verbose=10, n_jobs=-1, scoring = 'r2')\n",
    "# #Score\n",
    "# random_search.fit(X_train, y_train)"
   ]
  },
  {
   "cell_type": "code",
   "execution_count": null,
   "metadata": {},
   "outputs": [],
   "source": [
    "# #View average score\n",
    "# print(\"Best score: {:.3f}\".format(random_search.best_score_))\n",
    "# print(\"Best parameters set:\")\n",
    "# best_parameters = random_search.best_estimator_.get_params()\n"
   ]
  },
  {
   "cell_type": "code",
   "execution_count": null,
   "metadata": {},
   "outputs": [],
   "source": [
    "#test using regression"
   ]
  },
  {
   "cell_type": "markdown",
   "metadata": {},
   "source": [
    "# Machine Learning"
   ]
  },
  {
   "cell_type": "markdown",
   "metadata": {},
   "source": [
    "Is there value in capturing the numeric counts of amenities per listing? See below"
   ]
  },
  {
   "cell_type": "code",
   "execution_count": null,
   "metadata": {},
   "outputs": [],
   "source": [
    "# #Split strings on commas into features\n",
    "# df.amenities=df.amenities.str.split(pat=',', expand = False)\n",
    "\n",
    "# #Create amenities count and assign to df\n",
    "# df['amenities_count'] = df['amenities'].str.len()"
   ]
  }
 ],
 "metadata": {
  "kernelspec": {
   "display_name": "Python 3",
   "language": "python",
   "name": "python3"
  },
  "language_info": {
   "codemirror_mode": {
    "name": "ipython",
    "version": 3
   },
   "file_extension": ".py",
   "mimetype": "text/x-python",
   "name": "python",
   "nbconvert_exporter": "python",
   "pygments_lexer": "ipython3",
   "version": "3.7.3"
  }
 },
 "nbformat": 4,
 "nbformat_minor": 4
}
