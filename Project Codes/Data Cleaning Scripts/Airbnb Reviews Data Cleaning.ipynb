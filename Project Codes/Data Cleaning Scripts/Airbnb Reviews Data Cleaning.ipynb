{
 "cells": [
  {
   "cell_type": "markdown",
   "metadata": {},
   "source": [
    "# Data Cleaning - Airbnb Reviews"
   ]
  },
  {
   "cell_type": "markdown",
   "metadata": {},
   "source": [
    "## Introduction\n",
    "\n",
    "In the following notebook, I will be cleaning an aggregation of Airbnb Reviews Data of the San Francisco area. This aggregation consists of reviews data from 11/2018 through 10/2019.\n",
    "\n",
    "The aggregation source code can be found [here](https://github.com/KishenSharma6/Airbnb-SF_ML_-_Text_Analysis/blob/master/Airbnb%20Raw%20Data%20Aggregation.ipynb)\n",
    "\n",
    "Raw data can be found [here](https://github.com/KishenSharma6/Airbnb-SF_ML_-_Text_Analysis/tree/master/Data/01_Raw/SF%20Airbnb%20Raw%20Data)"
   ]
  },
  {
   "cell_type": "markdown",
   "metadata": {},
   "source": [
    "**Read in necessary libraries**"
   ]
  },
  {
   "cell_type": "code",
   "execution_count": 256,
   "metadata": {},
   "outputs": [],
   "source": [
    "#Read in libraries\n",
    "import pandas as pd\n",
    "import pandas_profiling\n",
    "\n",
    "import re\n",
    "\n",
    "import numpy as np"
   ]
  },
  {
   "cell_type": "markdown",
   "metadata": {},
   "source": [
    "**Set Additional Settings for Notebook**"
   ]
  },
  {
   "cell_type": "code",
   "execution_count": 257,
   "metadata": {},
   "outputs": [],
   "source": [
    "#supress future warnings\n",
    "import warnings\n",
    "warnings.simplefilter(action='ignore', category=FutureWarning)\n",
    "\n",
    "#Set plot aesthetics for notebook\n",
    "sns.set(style='whitegrid', palette='pastel', color_codes=True)\n",
    "\n",
    "#Increase number of columns and rows displayed by Pandas\n",
    "pd.set_option('display.max_columns', 100)\n",
    "pd.set_option('display.max_rows',100)\n",
    "\n",
    "#Ignore warnings\n",
    "import warnings; warnings.simplefilter('ignore')"
   ]
  },
  {
   "cell_type": "markdown",
   "metadata": {},
   "source": [
    "**Read in Data**"
   ]
  },
  {
   "cell_type": "code",
   "execution_count": 258,
   "metadata": {},
   "outputs": [],
   "source": [
    "#Set path to get aggregated Calendar data\n",
    "path = r'C:\\Users\\kishe\\Documents\\Data Science\\Projects\\Python Projects\\In Progress\\Air BnB - SF\\SF Airbnb Raw Data - Aggregated\\SF_Reviews_Nov2018_Oct2019.csv'\n",
    "\n",
    "#Parse dates\n",
    "parse_dates = ['date']\n",
    "\n",
    "#Read in Airbnb Review Data\n",
    "reviews = pd.read_csv(path, sep='\\t', parse_dates=parse_dates,index_col=0)\n"
   ]
  },
  {
   "cell_type": "markdown",
   "metadata": {},
   "source": [
    "## Pandas Profiling Report"
   ]
  },
  {
   "cell_type": "code",
   "execution_count": 259,
   "metadata": {},
   "outputs": [],
   "source": [
    "# #Create Pandas Profiling Report for reviews data\n",
    "# profile = reviews.profile_report(title='Airbnb Reviews Report', check_correlation_pearson= False, \n",
    "# correlations={'pearson': False,\n",
    "# 'spearman': False,\n",
    "# 'kendall': False,\n",
    "# 'phi_k': False,\n",
    "# 'cramers': False,\n",
    "# 'recoded':False}, \n",
    "# plot={'histogram':{'bayesian_blocks_bins': False}})\n",
    "\n",
    "# #Write profile to an HTML file\n",
    "# profile.to_file(output_file=\"Airbnb Reviews Report.html\")\n",
    "\n",
    "# #View pandas profile for reviews data\n",
    "# profile"
   ]
  },
  {
   "cell_type": "markdown",
   "metadata": {},
   "source": [
    "## Data Cleaning"
   ]
  },
  {
   "cell_type": "markdown",
   "metadata": {},
   "source": [
    "**Missing Data**"
   ]
  },
  {
   "cell_type": "code",
   "execution_count": 260,
   "metadata": {},
   "outputs": [
    {
     "name": "stdout",
     "output_type": "stream",
     "text": [
      "Original shape of reviews: (430766, 6)\n",
      "\n",
      "Missing values: \n",
      " comments         477\n",
      "date               0\n",
      "id                 0\n",
      "listing_id         0\n",
      "reviewer_id        0\n",
      "reviewer_name      1\n",
      "dtype: int64\n"
     ]
    }
   ],
   "source": [
    "#Print current reviews shape\n",
    "print('Original shape of reviews:', reviews.shape,end='\\n\\n')\n",
    "\n",
    "#Replace blank comments with NAN\n",
    "reviews.comments.replace('^\\s*$', np.nan, regex=True, inplace=True)\n",
    "\n",
    "#View missing values\n",
    "print('Missing values: \\n', reviews.isna().sum())"
   ]
  },
  {
   "cell_type": "code",
   "execution_count": 261,
   "metadata": {},
   "outputs": [],
   "source": [
    "#Remove rows with NA in comments\n",
    "reviews  = reviews[~reviews.comments.isna()]\n",
    "\n",
    "#reviewer_name does not have significance to comments or score from listings. Replacing with '-'\n",
    "reviews.reviewer_name.fillna('-', inplace = True)"
   ]
  },
  {
   "cell_type": "markdown",
   "metadata": {},
   "source": [
    "**Comment Anomalies**"
   ]
  },
  {
   "cell_type": "markdown",
   "metadata": {},
   "source": [
    "The reviews data, as it is, does not contain review scores. This information is located within the listings dataset. In another notebook, we will merge the 2 datasets and perform an NLP analysis. \n",
    "\n",
    "In the meantime, there are a couple things we will want to check for before we can consider this data clean enough to run a text analysis on. Some of the things we need to check our comments for and consider removing are:\n",
    "\n",
    "- Short length comments\n",
    "- New line, tabs, and rogue spaces\n",
    "- Punctation"
   ]
  },
  {
   "cell_type": "code",
   "execution_count": 262,
   "metadata": {},
   "outputs": [
    {
     "name": "stdout",
     "output_type": "stream",
     "text": [
      "Current shape of reviews: (429536, 6)\n"
     ]
    }
   ],
   "source": [
    "#Remove Punctuation\n",
    "reviews.comments.replace('[^\\w\\s]+', '', regex=True, inplace=True)\n",
    "\n",
    "#Remove \\n,\\r and \\t\n",
    "reviews.comments.replace('(\\\\n|\\\\t|\\\\r)', ' ',regex=True, inplace=True)\n",
    "\n",
    "#Replace new blank comments with NAN\n",
    "reviews.comments.replace('^\\s*$', np.nan, regex=True, inplace=True)\n",
    "\n",
    "#Remove new rows with NA in comments\n",
    "reviews  = reviews[~reviews.comments.isna()]\n",
    "\n",
    "#Strip trailing and leading whitespace\n",
    "reviews['comments'].str.strip()\n",
    "\n",
    "#Remove rows where comments character string < 3\n",
    "reviews = reviews[reviews.comments.apply(len) > 3].sort_values(by='comments')\n",
    "\n",
    "#Print current reviews shape\n",
    "print('Current shape of reviews:', reviews.shape)"
   ]
  },
  {
   "cell_type": "markdown",
   "metadata": {},
   "source": [
    "**Non-English Languages**"
   ]
  },
  {
   "cell_type": "code",
   "execution_count": 263,
   "metadata": {},
   "outputs": [
    {
     "name": "stdout",
     "output_type": "stream",
     "text": [
      "Rows containg non-English characters:  26064\n",
      "Current shape of reviews: (403472, 6)\n"
     ]
    }
   ],
   "source": [
    "#Check for strings that contain characters outside of ascii(latin) alphabet\n",
    "def isEnglish(s):\n",
    "    try:\n",
    "        s.encode(encoding='utf-8').decode('ascii')\n",
    "    except UnicodeDecodeError:\n",
    "        return False\n",
    "    else:\n",
    "        return True\n",
    "\n",
    "#How many rows contain non-ascii characters?\n",
    "print('Rows containg non-English characters: ',len(reviews[reviews.comments.apply(isEnglish) == False]))\n",
    "\n",
    "#Removing rows containing non-ascii characters\n",
    "reviews = reviews[reviews.comments.apply(isEnglish) == True]\n",
    "\n",
    "#Print current reviews shape\n",
    "print('Current shape of reviews:', reviews.shape)"
   ]
  },
  {
   "cell_type": "code",
   "execution_count": 264,
   "metadata": {},
   "outputs": [],
   "source": [
    "# #Set path to write listings\n",
    "# path = r'C:\\Users\\kishe\\Documents\\Data Science\\Projects\\Python Projects\\In Progress\\Air BnB - SF\\Data\\02_Intermediate\\12_24_2019_reviews_cleaned.csv'\n",
    "\n",
    "# #Write listings to path\n",
    "# reviews.to_csv(path)"
   ]
  }
 ],
 "metadata": {
  "kernelspec": {
   "display_name": "Python 3",
   "language": "python",
   "name": "python3"
  },
  "language_info": {
   "codemirror_mode": {
    "name": "ipython",
    "version": 3
   },
   "file_extension": ".py",
   "mimetype": "text/x-python",
   "name": "python",
   "nbconvert_exporter": "python",
   "pygments_lexer": "ipython3",
   "version": "3.7.3"
  }
 },
 "nbformat": 4,
 "nbformat_minor": 4
}
