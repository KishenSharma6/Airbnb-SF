{
 "cells": [
  {
   "cell_type": "markdown",
   "metadata": {},
   "source": [
    "# Introduction\n",
    "\n",
    "In my analysis, I will be exploring the following:\n",
    "\n",
    "- Based on the reviews of the last year, what makes a good user experience at a Airbnb rental? What makes a poor user experience? What would you advise to new Airbnb hosts to ensure high reviews and consistent renters?\n",
    "- What are some of the seasonal Airbnb trends you've noticed in the San Francisco area? When are the down months over the last year? Which months are the most busy? Which areas were the most popular during these times? How have prices changed over time?\n",
    "- Are airbnb's that are available for monthly rent competitive with the local markets?\n",
    "- Can you create a price predictor for listings price? What features allows renters to charge more?"
   ]
  },
  {
   "cell_type": "code",
   "execution_count": 2,
   "metadata": {},
   "outputs": [],
   "source": [
    "#Read in libraries\n",
    "import dask.dataframe as dd\n",
    "import swifter\n",
    "\n",
    "import pandas as pd\n",
    "import pandas_profiling\n",
    "\n",
    "import re\n",
    "\n",
    "import numpy as np\n",
    "from scipy import stats\n",
    "\n",
    "import matplotlib.pyplot as plt\n",
    "import seaborn as sns"
   ]
  },
  {
   "cell_type": "code",
   "execution_count": 3,
   "metadata": {},
   "outputs": [],
   "source": [
    "#supress future warnings\n",
    "import warnings\n",
    "warnings.simplefilter(action='ignore', category=FutureWarning)"
   ]
  },
  {
   "cell_type": "code",
   "execution_count": 4,
   "metadata": {},
   "outputs": [],
   "source": [
    "#Set pandas backend to create interactive plots\n",
    "#pd.options.plotting.backend = 'hvplot'\n",
    "\n",
    "#Whats the defailt back end? Not all plots work with this"
   ]
  },
  {
   "cell_type": "code",
   "execution_count": 5,
   "metadata": {},
   "outputs": [],
   "source": [
    "#Set plot aesthetics for notebook\n",
    "sns.set(style='whitegrid', palette='pastel', color_codes=True)\n",
    "\n",
    "#Increase number of columns and rows displayed by Pandas\n",
    "pd.set_option('display.max_columns', 500)\n",
    "pd.set_option('display.max_rows',100)\n",
    "\n",
    "#Set float format\n",
    "pd.options.display.float_format = '{:.0f}'.format\n",
    "\n",
    "#Ignore warnings\n",
    "import warnings; warnings.simplefilter('ignore')"
   ]
  },
  {
   "cell_type": "markdown",
   "metadata": {},
   "source": [
    "**Read in Data**"
   ]
  },
  {
   "cell_type": "code",
   "execution_count": 6,
   "metadata": {},
   "outputs": [],
   "source": [
    "path = r'C:\\Users\\kishe\\Documents\\Data Science\\Projects\\Python Projects\\In Progress\\Air BnB - SF\\Data\\02_Intermediate/'"
   ]
  },
  {
   "cell_type": "code",
   "execution_count": null,
   "metadata": {},
   "outputs": [],
   "source": [
    "#Read in Airbnb Listings Data\n",
    "listings = pd.read_csv(path + '12_27_2019_Listings_Cleaned.csv',index_col=0, low_memory=False, sep=',')\n",
    "\n",
    "#Parse dates\n",
    "parse_dates = ['date']\n",
    "\n",
    "#Read in Airbnb Calendar and Reviews data\n",
    "calendar = pd.read_csv(path + '12_23_2019_Calendar_Cleaned.csv', sep = ',',\n",
    "                       parse_dates=parse_dates, low_memory=False,index_col=0)\n",
    "\n",
    "reviews = pd.read_csv(path + '12_24_2019_Reviews_Cleaned.csv', sep=',',\n",
    "                      parse_dates=parse_dates,index_col=0)"
   ]
  },
  {
   "cell_type": "code",
   "execution_count": null,
   "metadata": {},
   "outputs": [],
   "source": [
    "#Read in Zillow data\n",
    "zillow = pd.read_csv(path + '12_29_2019_Zillow_Cleaned.csv', parse_dates=['Date'],\n",
    "                     index_col=0, sep=',')"
   ]
  },
  {
   "cell_type": "markdown",
   "metadata": {},
   "source": [
    "# Data Preview"
   ]
  },
  {
   "cell_type": "markdown",
   "metadata": {},
   "source": [
    "**Airbnb Listings Data**"
   ]
  },
  {
   "cell_type": "code",
   "execution_count": null,
   "metadata": {},
   "outputs": [],
   "source": [
    "#Preview listings data\n",
    "display(listings.head().T)"
   ]
  },
  {
   "cell_type": "markdown",
   "metadata": {},
   "source": [
    "**Airbnb Reviews Data**"
   ]
  },
  {
   "cell_type": "code",
   "execution_count": null,
   "metadata": {},
   "outputs": [],
   "source": [
    "#Preview reviews data\n",
    "display(reviews.head())"
   ]
  },
  {
   "cell_type": "markdown",
   "metadata": {},
   "source": [
    "**Airbnb Calendar Data**"
   ]
  },
  {
   "cell_type": "code",
   "execution_count": null,
   "metadata": {},
   "outputs": [],
   "source": [
    "#Preview calendar data\n",
    "display(calendar.head())"
   ]
  },
  {
   "cell_type": "markdown",
   "metadata": {},
   "source": [
    "**Zillow Data**"
   ]
  },
  {
   "cell_type": "code",
   "execution_count": null,
   "metadata": {},
   "outputs": [],
   "source": [
    "#Preview zillow data\n",
    "display(zillow.head())"
   ]
  },
  {
   "cell_type": "markdown",
   "metadata": {},
   "source": [
    "# Data Exploration"
   ]
  },
  {
   "cell_type": "markdown",
   "metadata": {},
   "source": [
    "- How has Airbnb grown over the last year? Which neighborhoods have shown the most growth?\n",
    "- What are the metrics for the different neighborhoods in SF?\n",
    "- Are airbnb's that are available for monthly rent competitive with the local rent market? Is Airbnb a legitmate option to consider for short term living as opposed to finding month to month leases?\n",
    "- What are the different data distributions for the different outcome variables we are interested in exploring?\n",
    "\n"
   ]
  },
  {
   "cell_type": "markdown",
   "metadata": {},
   "source": [
    "#### What are the different data distributions for the different outcome variables we are interested in exploring?\n"
   ]
  },
  {
   "cell_type": "markdown",
   "metadata": {},
   "source": [
    "date"
   ]
  },
  {
   "cell_type": "code",
   "execution_count": null,
   "metadata": {},
   "outputs": [],
   "source": [
    "calendar.date.hist()"
   ]
  },
  {
   "cell_type": "code",
   "execution_count": null,
   "metadata": {},
   "outputs": [],
   "source": [
    "#plot hist\n",
    "listings.review_scores_rating.hist(bins = 80)\n",
    "\n",
    "#plot the mean\n",
    "mean = np.mean(listings.review_scores_rating)\n",
    "\n",
    "plt.axvline(mean, color='r', linewidth=2, linestyle='--', label= str(round(mean,2)))"
   ]
  },
  {
   "cell_type": "markdown",
   "metadata": {},
   "source": [
    "Listings price"
   ]
  },
  {
   "cell_type": "code",
   "execution_count": null,
   "metadata": {},
   "outputs": [],
   "source": [
    "#KDE\n",
    "ax = sns.kdeplot(listings.price, shade=True, color=\"grey\")\n",
    "#plot the mean\n",
    "mean = np.mean(listings.price)\n",
    "\n",
    "plt.axvline(mean, color='r', linewidth=2, linestyle='--', label= str(round(mean,2)))"
   ]
  },
  {
   "cell_type": "code",
   "execution_count": null,
   "metadata": {},
   "outputs": [],
   "source": [
    "listings.monthly_price.hist(bins = 30)\n",
    "\n",
    "#plot the mean\n",
    "mean = np.mean(listings.monthly_price)\n",
    "\n",
    "plt.axvline(mean, color='r', linewidth=2, linestyle='--', label= str(round(mean,2)))"
   ]
  },
  {
   "cell_type": "code",
   "execution_count": null,
   "metadata": {},
   "outputs": [],
   "source": [
    "listings.weekly_price.hist(bins = 30)\n",
    "\n",
    "#plot the mean\n",
    "mean = np.mean(listings.weekly_price)\n",
    "\n",
    "plt.axvline(mean, color='r', linewidth=2, linestyle='--', label= str(round(mean,2)))"
   ]
  },
  {
   "cell_type": "markdown",
   "metadata": {},
   "source": [
    "#### How has Airbnb grown over the last year(11/2018 - 10/2019)?"
   ]
  },
  {
   "cell_type": "markdown",
   "metadata": {},
   "source": [
    "Let's begin by taking a look at the number of unique listings per month available for rent from Airbnb hosts."
   ]
  },
  {
   "cell_type": "code",
   "execution_count": null,
   "metadata": {},
   "outputs": [],
   "source": [
    "#Convert date to month year and add to calendar\n",
    "#calendar['month_year'] = pd.to_datetime(calendar['date']).dt.to_period('M') #would this work in time series?\n",
    "calendar.set_index('date', inplace=True)\n",
    "\n",
    "#Extract date info from index\n",
    "calendar['year'] = calendar.index.year\n",
    "calendar['month'] = calendar.index.month\n",
    "calendar['weekday'] = calendar.index.weekday_name\n",
    "\n",
    "calendar.head()"
   ]
  },
  {
   "cell_type": "code",
   "execution_count": null,
   "metadata": {},
   "outputs": [],
   "source": [
    "#Calendar data only through 2019 december\n",
    "last_year = calendar.loc[(calendar.year < 2020)]"
   ]
  },
  {
   "cell_type": "code",
   "execution_count": null,
   "metadata": {},
   "outputs": [],
   "source": [
    "#Group last year by month_year and get a count of unique listings per day\n",
    "last_year_daily = last_year.groupby(['date'])['listing_id'].agg({'nunique'}).reset_index()"
   ]
  },
  {
   "cell_type": "code",
   "execution_count": null,
   "metadata": {},
   "outputs": [],
   "source": [
    "# #Rename columns\n",
    "last_year_daily =last_year_daily.rename(columns = {'nunique': 'listings'})"
   ]
  },
  {
   "cell_type": "code",
   "execution_count": null,
   "metadata": {},
   "outputs": [],
   "source": [
    "last_year_monthly = last_year.reset_index()\n",
    "last_year_monthly.head()"
   ]
  },
  {
   "cell_type": "code",
   "execution_count": null,
   "metadata": {},
   "outputs": [],
   "source": [
    "last_year_monthly['month_year'] = pd.to_datetime(last_year_monthly['date']).dt.to_period('M') #would this work in time series?\n",
    "last_year_monthly = last_year_monthly.groupby('month_year')['listing_id'].agg({'nunique'}).reset_index()\n",
    "\n",
    "# #Rename columns\n",
    "last_year_monthly =last_year_monthly.rename(columns = {'nunique': 'listings'})"
   ]
  },
  {
   "cell_type": "code",
   "execution_count": null,
   "metadata": {},
   "outputs": [],
   "source": [
    "#Set 538 plot style\n",
    "plt.style.use('fivethirtyeight')\n",
    "\n",
    "\n",
    "#Plot daily unique listings data\n",
    "ax = last_year_daily.plot(x='date', y='listings', kind = 'line',style='o-', markersize=.5,\n",
    "          label= 'Daily Unique Listings',figsize = (15,10),\n",
    "         linewidth = 1.5)\n",
    " \n",
    "\n",
    "#plot weekly\n",
    "\n",
    "\n",
    "#plot montly average\n",
    "last_year_monthly.plot(x='month_year', y='listings',kind = 'line',style='o-', markersize= 10,\n",
    "          label= 'Monthly Unique Listings',\n",
    "         linewidth = 1.5 , ax=ax)\n",
    "\n",
    "#Set fontdict\n",
    "fontdict={'weight' : 'bold',\n",
    "          'size': 17}\n",
    "\n",
    "#Set x and y labels\n",
    "ax.set_xlabel('Month',fontdict=fontdict)\n",
    "ax.set_ylabel('Count', fontdict=fontdict)\n",
    "\n",
    "#Format yticks\n",
    "ax.set_yticklabels(['{:,}'.format(int(x)) for x in ax.get_yticks().tolist()])\n",
    "\n",
    "#Set Title\n",
    "ax.set_title('Growth of Airbnb Listings in San Francisco', fontweight = 'bold', fontsize=22)\n",
    "\n",
    "#Adjust plot margins\n",
    "ax.margins(0,.12)\n",
    "\n",
    "#Mute vertical grid lines\n",
    "ax.grid(b = False, which ='major', axis = 'x')\n",
    "\n",
    "#Add Text\n",
    "xs,ys=last_year_monthly['month_year'], last_year_monthly['listings']\n",
    "\n",
    "for x,y in zip(xs,ys):\n",
    "    label = '{:,}'.format(y)\n",
    "    plt.annotate(label, (x,y),textcoords=\"offset points\",fontsize = 9, xytext=(-40,20), ha='center')\n",
    "\n",
    "#Set legend\n",
    "plt.legend(title='Legend', frameon = True, loc='upper left');"
   ]
  },
  {
   "cell_type": "markdown",
   "metadata": {},
   "source": [
    "Over the last year, there has been significant growth in the number of listings available for rent month to month. Let us look into the number of nights booked by users over the last year."
   ]
  },
  {
   "cell_type": "markdown",
   "metadata": {},
   "source": [
    "**Growth by neighborhood September 2018 - December 2019**\n",
    "\n",
    "We'll merge our calendar data with listings data to capture neighborhood data"
   ]
  },
  {
   "cell_type": "code",
   "execution_count": null,
   "metadata": {},
   "outputs": [],
   "source": [
    "#Convert calendar to dask to improve speed on merge\n",
    "calendar_dd = dd.from_pandas(calendar, npartitions=3)\n"
   ]
  },
  {
   "cell_type": "code",
   "execution_count": null,
   "metadata": {},
   "outputs": [],
   "source": [
    "#capture listing id and neighbourhood_cleansed from listings for merge\n",
    "neighborhoods = listings[['id', 'neighbourhood_cleansed']]\n",
    "\n",
    "calendar_dd = calendar_dd.reset_index()\n",
    "\n",
    "#Merge with calendar_dd\n",
    "neighborhood_growth = calendar_dd.merge(neighborhoods, left_on ='listing_id', right_on='id')\n",
    "\n",
    "#Drop redundant columnsa\n",
    "neighborhood_growth= neighborhood_growth.drop(columns = ['id'])"
   ]
  },
  {
   "cell_type": "code",
   "execution_count": null,
   "metadata": {},
   "outputs": [],
   "source": [
    "neighborhood_growth=neighborhood_growth[(neighborhood_growth['date'] < '2020-01-01')]\n",
    "\n",
    "#convert to pandas\n",
    "neighborhood_growth_pd = neighborhood_growth.compute()\n",
    "\n",
    "#Group last year by month_year and get a count of unique listings per month\n",
    "neighborhood_growth_pd = neighborhood_growth_pd.groupby(['neighbourhood_cleansed', 'year', 'month'])['listing_id'].agg({'nunique'}).reset_index()\n",
    "\n",
    "#Rename columns\n",
    "neighborhood_growth_pd =neighborhood_growth_pd.rename(columns = {'neighbourhood_cleansed': 'neighborhoods',\n",
    "                                                                 'nunique': 'listings'})"
   ]
  },
  {
   "cell_type": "code",
   "execution_count": null,
   "metadata": {},
   "outputs": [],
   "source": [
    "neighborhood_growth_pd = neighborhood_growth_pd.sort_values(by=['year','month', 'listings'], ascending=False)"
   ]
  },
  {
   "cell_type": "code",
   "execution_count": null,
   "metadata": {},
   "outputs": [],
   "source": [
    "#Set fig size\n",
    "f, ax = plt.subplots(figsize = (6,15))\n",
    "\n",
    "#set style and color_pallete\n",
    "sns.set(style='whitegrid')\n",
    "\n",
    "#Set color codes for modern data\n",
    "sns.set_color_codes('pastel')\n",
    "\n",
    "#plot data from \n",
    "j = sns.barplot(x = 'listings', y = 'neighborhoods', color = 'b',\n",
    "            data = neighborhood_growth_pd.loc[(neighborhood_growth_pd.month == 12 ) & \n",
    "                                         (neighborhood_growth_pd.year == 2019)],\n",
    "                label = 'December 2019')\n",
    "\n",
    "#Set color codes for older data\n",
    "sns.set_color_codes('dark')\n",
    "\n",
    "#Plot data from 2018-09\n",
    "g = sns.barplot(x = 'listings', y = 'neighborhoods', color = 'b',\n",
    "            data = neighborhood_growth_pd.loc[(neighborhood_growth_pd.month == 9 ) & \n",
    "                                         (neighborhood_growth_pd.year == 2018)],\n",
    "                label = 'September 2018')\n",
    "\n",
    "#Set legend info\n",
    "ax.legend(frameon = True, ncol = 2, loc= 'lower center');\n",
    "\n",
    "#Set Labels\n",
    "ax.set(ylabel=\"\", xlabel=\"Airbnb Listings\")\n",
    "ax.set_title('Explosion of Airbnb', fontweight = 'bold', fontsize = 18)\n",
    "\n",
    "\n",
    "sns.despine(left=True, bottom=True)\n"
   ]
  },
  {
   "cell_type": "markdown",
   "metadata": {},
   "source": [
    "**Prices by property type**\n"
   ]
  },
  {
   "cell_type": "code",
   "execution_count": null,
   "metadata": {},
   "outputs": [],
   "source": [
    "#Set 538 plot style\n",
    "plt.style.use('ggplot')\n",
    "\n",
    "#Counts of property types\n",
    "prop_count = listings.groupby('property_type')['id'].count().sort_values(ascending = False).reset_index()\n",
    "prop_count.plot(x = 'property_type', y = 'id', kind = 'bar')"
   ]
  },
  {
   "cell_type": "code",
   "execution_count": null,
   "metadata": {},
   "outputs": [],
   "source": [
    "#Get top 15 common prop types\n",
    "prop_list=list(prop_count.property_type.head(15))\n",
    "\n",
    "#sort top 15 by median value\n",
    "test = listings[listings.property_type.isin(prop_list)].groupby('property_type')['price'].median().sort_values(ascending = False).reset_index()"
   ]
  },
  {
   "cell_type": "code",
   "execution_count": null,
   "metadata": {},
   "outputs": [],
   "source": [
    "test_list = test.property_type.tolist()"
   ]
  },
  {
   "cell_type": "code",
   "execution_count": null,
   "metadata": {},
   "outputs": [],
   "source": [
    "#Set 538 plot style\n",
    "plt.style.use('fivethirtyeight')\n",
    "\n",
    "#Set Figure\n",
    "f, ax = plt.subplots(figsize= (10,5))\n",
    "\n",
    "#Plot\n",
    "g= sns.boxplot(x=\"property_type\", y=\"price\", order=test_list, \n",
    "               width = .4,palette=sns.light_palette((210, 90, 60), input=\"husl\"),\n",
    "             data=listings[listings.property_type.isin(test_list)], ax=ax)\n",
    "\n",
    "#Set Title\n",
    "ax.set_title('15 Most common properties with listing price', fontweight = 'bold', fontsize=22)\n",
    "\n",
    "#Set x and y Labels\n",
    "ax.set_ylabel('Price per Night($)',fontdict=fontdict)\n",
    "ax.set_xlabel('Property Type',fontdict=fontdict)\n",
    "\n",
    "#Rotate x_ticklabels\n",
    "g.set_xticklabels(g.get_xticklabels(), rotation=45, horizontalalignment='right');\n",
    "\n",
    "#Format ticks on y-axis"
   ]
  },
  {
   "cell_type": "markdown",
   "metadata": {},
   "source": [
    "**Heat map**"
   ]
  },
  {
   "cell_type": "code",
   "execution_count": null,
   "metadata": {},
   "outputs": [],
   "source": [
    "corr = listings.corr()\n",
    "plt.figure(figsize=(15, 15))\n",
    "ax = sns.heatmap(\n",
    "    corr, \n",
    "    vmin=-1, vmax=1, center=0,linewidths=.1,\n",
    "    cmap=sns.diverging_palette(20, 220, n=200),\n",
    "    square=True\n",
    ")\n",
    "ax.set_xticklabels(\n",
    "    ax.get_xticklabels(),\n",
    "    rotation=45,\n",
    "    horizontalalignment='right'\n",
    ");"
   ]
  },
  {
   "cell_type": "code",
   "execution_count": null,
   "metadata": {},
   "outputs": [],
   "source": []
  },
  {
   "cell_type": "markdown",
   "metadata": {},
   "source": [
    "# Zillow"
   ]
  },
  {
   "cell_type": "code",
   "execution_count": 38,
   "metadata": {},
   "outputs": [
    {
     "data": {
      "text/plain": [
       "City                   object\n",
       "County                 object\n",
       "Metro                  object\n",
       "Zip                     int64\n",
       "State                  object\n",
       "SizeRank                int64\n",
       "Bedrooms                int64\n",
       "Date           datetime64[ns]\n",
       "Median_Rent           float64\n",
       "dtype: object"
      ]
     },
     "execution_count": 38,
     "metadata": {},
     "output_type": "execute_result"
    }
   ],
   "source": [
    "zillow.dtypes"
   ]
  },
  {
   "cell_type": "code",
   "execution_count": 39,
   "metadata": {},
   "outputs": [],
   "source": [
    "zillow.set_index(keys = 'Date', inplace=True)"
   ]
  },
  {
   "cell_type": "code",
   "execution_count": 40,
   "metadata": {},
   "outputs": [],
   "source": [
    "zillow['Year'] = zillow.index.year\n",
    "zillow['Month'] = zillow.index.month\n",
    "zillow['Weekday_Name'] = zillow.index.weekday_name"
   ]
  },
  {
   "cell_type": "code",
   "execution_count": 41,
   "metadata": {},
   "outputs": [
    {
     "data": {
      "text/html": [
       "<div>\n",
       "<style scoped>\n",
       "    .dataframe tbody tr th:only-of-type {\n",
       "        vertical-align: middle;\n",
       "    }\n",
       "\n",
       "    .dataframe tbody tr th {\n",
       "        vertical-align: top;\n",
       "    }\n",
       "\n",
       "    .dataframe thead th {\n",
       "        text-align: right;\n",
       "    }\n",
       "</style>\n",
       "<table border=\"1\" class=\"dataframe\">\n",
       "  <thead>\n",
       "    <tr style=\"text-align: right;\">\n",
       "      <th></th>\n",
       "      <th>City</th>\n",
       "      <th>County</th>\n",
       "      <th>Metro</th>\n",
       "      <th>Zip</th>\n",
       "      <th>State</th>\n",
       "      <th>SizeRank</th>\n",
       "      <th>Bedrooms</th>\n",
       "      <th>Median_Rent</th>\n",
       "      <th>Year</th>\n",
       "      <th>Month</th>\n",
       "      <th>Weekday_Name</th>\n",
       "    </tr>\n",
       "    <tr>\n",
       "      <th>Date</th>\n",
       "      <th></th>\n",
       "      <th></th>\n",
       "      <th></th>\n",
       "      <th></th>\n",
       "      <th></th>\n",
       "      <th></th>\n",
       "      <th></th>\n",
       "      <th></th>\n",
       "      <th></th>\n",
       "      <th></th>\n",
       "      <th></th>\n",
       "    </tr>\n",
       "  </thead>\n",
       "  <tbody>\n",
       "    <tr>\n",
       "      <th>2010-03-01</th>\n",
       "      <td>Virginia Beach</td>\n",
       "      <td>Virginia Beach City</td>\n",
       "      <td>Virginia Beach-Norfolk-Newport News</td>\n",
       "      <td>23462</td>\n",
       "      <td>VA</td>\n",
       "      <td>83</td>\n",
       "      <td>3</td>\n",
       "      <td>1200</td>\n",
       "      <td>2010</td>\n",
       "      <td>3</td>\n",
       "      <td>Monday</td>\n",
       "    </tr>\n",
       "    <tr>\n",
       "      <th>2010-04-01</th>\n",
       "      <td>Virginia Beach</td>\n",
       "      <td>Virginia Beach City</td>\n",
       "      <td>Virginia Beach-Norfolk-Newport News</td>\n",
       "      <td>23462</td>\n",
       "      <td>VA</td>\n",
       "      <td>83</td>\n",
       "      <td>3</td>\n",
       "      <td>1250</td>\n",
       "      <td>2010</td>\n",
       "      <td>4</td>\n",
       "      <td>Thursday</td>\n",
       "    </tr>\n",
       "    <tr>\n",
       "      <th>2010-05-01</th>\n",
       "      <td>Virginia Beach</td>\n",
       "      <td>Virginia Beach City</td>\n",
       "      <td>Virginia Beach-Norfolk-Newport News</td>\n",
       "      <td>23462</td>\n",
       "      <td>VA</td>\n",
       "      <td>83</td>\n",
       "      <td>3</td>\n",
       "      <td>1200</td>\n",
       "      <td>2010</td>\n",
       "      <td>5</td>\n",
       "      <td>Saturday</td>\n",
       "    </tr>\n",
       "    <tr>\n",
       "      <th>2010-06-01</th>\n",
       "      <td>Virginia Beach</td>\n",
       "      <td>Virginia Beach City</td>\n",
       "      <td>Virginia Beach-Norfolk-Newport News</td>\n",
       "      <td>23462</td>\n",
       "      <td>VA</td>\n",
       "      <td>83</td>\n",
       "      <td>3</td>\n",
       "      <td>1250</td>\n",
       "      <td>2010</td>\n",
       "      <td>6</td>\n",
       "      <td>Tuesday</td>\n",
       "    </tr>\n",
       "    <tr>\n",
       "      <th>2010-07-01</th>\n",
       "      <td>Virginia Beach</td>\n",
       "      <td>Virginia Beach City</td>\n",
       "      <td>Virginia Beach-Norfolk-Newport News</td>\n",
       "      <td>23462</td>\n",
       "      <td>VA</td>\n",
       "      <td>83</td>\n",
       "      <td>3</td>\n",
       "      <td>1225</td>\n",
       "      <td>2010</td>\n",
       "      <td>7</td>\n",
       "      <td>Thursday</td>\n",
       "    </tr>\n",
       "  </tbody>\n",
       "</table>\n",
       "</div>"
      ],
      "text/plain": [
       "                      City               County  \\\n",
       "Date                                              \n",
       "2010-03-01  Virginia Beach  Virginia Beach City   \n",
       "2010-04-01  Virginia Beach  Virginia Beach City   \n",
       "2010-05-01  Virginia Beach  Virginia Beach City   \n",
       "2010-06-01  Virginia Beach  Virginia Beach City   \n",
       "2010-07-01  Virginia Beach  Virginia Beach City   \n",
       "\n",
       "                                          Metro    Zip State  SizeRank  \\\n",
       "Date                                                                     \n",
       "2010-03-01  Virginia Beach-Norfolk-Newport News  23462    VA        83   \n",
       "2010-04-01  Virginia Beach-Norfolk-Newport News  23462    VA        83   \n",
       "2010-05-01  Virginia Beach-Norfolk-Newport News  23462    VA        83   \n",
       "2010-06-01  Virginia Beach-Norfolk-Newport News  23462    VA        83   \n",
       "2010-07-01  Virginia Beach-Norfolk-Newport News  23462    VA        83   \n",
       "\n",
       "            Bedrooms  Median_Rent  Year  Month Weekday_Name  \n",
       "Date                                                         \n",
       "2010-03-01         3         1200  2010      3       Monday  \n",
       "2010-04-01         3         1250  2010      4     Thursday  \n",
       "2010-05-01         3         1200  2010      5     Saturday  \n",
       "2010-06-01         3         1250  2010      6      Tuesday  \n",
       "2010-07-01         3         1225  2010      7     Thursday  "
      ]
     },
     "execution_count": 41,
     "metadata": {},
     "output_type": "execute_result"
    }
   ],
   "source": [
    "zillow.head()"
   ]
  },
  {
   "cell_type": "markdown",
   "metadata": {},
   "source": [
    "# Time Series Analysis"
   ]
  },
  {
   "cell_type": "markdown",
   "metadata": {},
   "source": [
    "For this analysis, we will isolate the rows in our Zillow data that are in the zipcode or city of the listings data."
   ]
  },
  {
   "cell_type": "code",
   "execution_count": 42,
   "metadata": {},
   "outputs": [
    {
     "name": "stdout",
     "output_type": "stream",
     "text": [
      "(2015, 11)\n"
     ]
    },
    {
     "data": {
      "text/html": [
       "<div>\n",
       "<style scoped>\n",
       "    .dataframe tbody tr th:only-of-type {\n",
       "        vertical-align: middle;\n",
       "    }\n",
       "\n",
       "    .dataframe tbody tr th {\n",
       "        vertical-align: top;\n",
       "    }\n",
       "\n",
       "    .dataframe thead th {\n",
       "        text-align: right;\n",
       "    }\n",
       "</style>\n",
       "<table border=\"1\" class=\"dataframe\">\n",
       "  <thead>\n",
       "    <tr style=\"text-align: right;\">\n",
       "      <th></th>\n",
       "      <th>City</th>\n",
       "      <th>County</th>\n",
       "      <th>Metro</th>\n",
       "      <th>Zip</th>\n",
       "      <th>State</th>\n",
       "      <th>SizeRank</th>\n",
       "      <th>Bedrooms</th>\n",
       "      <th>Median_Rent</th>\n",
       "      <th>Year</th>\n",
       "      <th>Month</th>\n",
       "      <th>Weekday_Name</th>\n",
       "    </tr>\n",
       "    <tr>\n",
       "      <th>Date</th>\n",
       "      <th></th>\n",
       "      <th></th>\n",
       "      <th></th>\n",
       "      <th></th>\n",
       "      <th></th>\n",
       "      <th></th>\n",
       "      <th></th>\n",
       "      <th></th>\n",
       "      <th></th>\n",
       "      <th></th>\n",
       "      <th></th>\n",
       "    </tr>\n",
       "  </thead>\n",
       "  <tbody>\n",
       "    <tr>\n",
       "      <th>2019-11-01</th>\n",
       "      <td>San Francisco</td>\n",
       "      <td>San Francisco</td>\n",
       "      <td>San Francisco-Oakland-Hayward</td>\n",
       "      <td>94105</td>\n",
       "      <td>CA</td>\n",
       "      <td>2269</td>\n",
       "      <td>2</td>\n",
       "      <td>5800</td>\n",
       "      <td>2019</td>\n",
       "      <td>11</td>\n",
       "      <td>Friday</td>\n",
       "    </tr>\n",
       "    <tr>\n",
       "      <th>2019-11-01</th>\n",
       "      <td>Sausalito</td>\n",
       "      <td>Marin</td>\n",
       "      <td>San Francisco-Oakland-Hayward</td>\n",
       "      <td>94965</td>\n",
       "      <td>CA</td>\n",
       "      <td>2434</td>\n",
       "      <td>2</td>\n",
       "      <td>3650</td>\n",
       "      <td>2019</td>\n",
       "      <td>11</td>\n",
       "      <td>Friday</td>\n",
       "    </tr>\n",
       "    <tr>\n",
       "      <th>2019-11-01</th>\n",
       "      <td>San Francisco</td>\n",
       "      <td>San Francisco</td>\n",
       "      <td>San Francisco-Oakland-Hayward</td>\n",
       "      <td>94158</td>\n",
       "      <td>CA</td>\n",
       "      <td>2477</td>\n",
       "      <td>2</td>\n",
       "      <td>5288</td>\n",
       "      <td>2019</td>\n",
       "      <td>11</td>\n",
       "      <td>Friday</td>\n",
       "    </tr>\n",
       "    <tr>\n",
       "      <th>2019-11-01</th>\n",
       "      <td>San Francisco</td>\n",
       "      <td>San Francisco</td>\n",
       "      <td>San Francisco-Oakland-Hayward</td>\n",
       "      <td>94110</td>\n",
       "      <td>CA</td>\n",
       "      <td>82</td>\n",
       "      <td>3</td>\n",
       "      <td>5575</td>\n",
       "      <td>2019</td>\n",
       "      <td>11</td>\n",
       "      <td>Friday</td>\n",
       "    </tr>\n",
       "    <tr>\n",
       "      <th>2019-11-01</th>\n",
       "      <td>San Francisco</td>\n",
       "      <td>San Francisco</td>\n",
       "      <td>San Francisco-Oakland-Hayward</td>\n",
       "      <td>94115</td>\n",
       "      <td>CA</td>\n",
       "      <td>518</td>\n",
       "      <td>3</td>\n",
       "      <td>6500</td>\n",
       "      <td>2019</td>\n",
       "      <td>11</td>\n",
       "      <td>Friday</td>\n",
       "    </tr>\n",
       "  </tbody>\n",
       "</table>\n",
       "</div>"
      ],
      "text/plain": [
       "                     City          County                          Metro  \\\n",
       "Date                                                                       \n",
       "2019-11-01  San Francisco  San Francisco   San Francisco-Oakland-Hayward   \n",
       "2019-11-01      Sausalito          Marin   San Francisco-Oakland-Hayward   \n",
       "2019-11-01  San Francisco  San Francisco   San Francisco-Oakland-Hayward   \n",
       "2019-11-01  San Francisco  San Francisco   San Francisco-Oakland-Hayward   \n",
       "2019-11-01  San Francisco  San Francisco   San Francisco-Oakland-Hayward   \n",
       "\n",
       "              Zip State  SizeRank  Bedrooms  Median_Rent  Year  Month  \\\n",
       "Date                                                                    \n",
       "2019-11-01  94105    CA      2269         2         5800  2019     11   \n",
       "2019-11-01  94965    CA      2434         2         3650  2019     11   \n",
       "2019-11-01  94158    CA      2477         2         5288  2019     11   \n",
       "2019-11-01  94110    CA        82         3         5575  2019     11   \n",
       "2019-11-01  94115    CA       518         3         6500  2019     11   \n",
       "\n",
       "           Weekday_Name  \n",
       "Date                     \n",
       "2019-11-01       Friday  \n",
       "2019-11-01       Friday  \n",
       "2019-11-01       Friday  \n",
       "2019-11-01       Friday  \n",
       "2019-11-01       Friday  "
      ]
     },
     "metadata": {},
     "output_type": "display_data"
    }
   ],
   "source": [
    "#Capture zip information from listings\n",
    "listings_zip = list(listings.zipcode.unique())\n",
    "\n",
    "#Capture city information from listings \n",
    "listings_cities = list(listings.city.unique())\n",
    "\n",
    "#Capture SF Data\n",
    "sf_zillow = zillow[zillow['Zip'].isin(listings_zip) | zillow['City'].isin(listings_cities)]\n",
    "\n",
    "#Check\n",
    "print(sf_zillow.shape)\n",
    "display(sf_zillow.tail())"
   ]
  },
  {
   "cell_type": "code",
   "execution_count": 1,
   "metadata": {},
   "outputs": [
    {
     "ename": "NameError",
     "evalue": "name 'plt' is not defined",
     "output_type": "error",
     "traceback": [
      "\u001b[1;31m---------------------------------------------------------------------------\u001b[0m",
      "\u001b[1;31mNameError\u001b[0m                                 Traceback (most recent call last)",
      "\u001b[1;32m<ipython-input-1-dfab7f55f13c>\u001b[0m in \u001b[0;36m<module>\u001b[1;34m\u001b[0m\n\u001b[0;32m      1\u001b[0m \u001b[1;31m#SF vs rest of US Rent\u001b[0m\u001b[1;33m\u001b[0m\u001b[1;33m\u001b[0m\u001b[1;33m\u001b[0m\u001b[0m\n\u001b[0;32m      2\u001b[0m \u001b[1;33m\u001b[0m\u001b[0m\n\u001b[1;32m----> 3\u001b[1;33m \u001b[0mplt\u001b[0m\u001b[1;33m.\u001b[0m\u001b[0mstyle\u001b[0m\u001b[1;33m.\u001b[0m\u001b[0muse\u001b[0m\u001b[1;33m(\u001b[0m\u001b[1;34m'ggplot'\u001b[0m\u001b[1;33m)\u001b[0m\u001b[1;33m\u001b[0m\u001b[1;33m\u001b[0m\u001b[0m\n\u001b[0m\u001b[0;32m      4\u001b[0m \u001b[1;33m\u001b[0m\u001b[0m\n\u001b[0;32m      5\u001b[0m \u001b[0mfig\u001b[0m\u001b[1;33m,\u001b[0m \u001b[0max\u001b[0m \u001b[1;33m=\u001b[0m \u001b[0mplt\u001b[0m\u001b[1;33m.\u001b[0m\u001b[0msubplots\u001b[0m\u001b[1;33m(\u001b[0m\u001b[0mfigsize\u001b[0m \u001b[1;33m=\u001b[0m \u001b[1;33m(\u001b[0m\u001b[1;36m12\u001b[0m\u001b[1;33m,\u001b[0m\u001b[1;36m5\u001b[0m\u001b[1;33m)\u001b[0m\u001b[1;33m)\u001b[0m\u001b[1;33m\u001b[0m\u001b[1;33m\u001b[0m\u001b[0m\n",
      "\u001b[1;31mNameError\u001b[0m: name 'plt' is not defined"
     ]
    }
   ],
   "source": [
    "#SF vs rest of US Rent\n",
    "\n",
    "plt.style.use('ggplot')\n",
    "\n",
    "fig, ax = plt.subplots(figsize = (12,5))\n",
    "sf_zillow.groupby('Date')['Median_Rent'].mean().plot(kind = 'line')\n",
    "\n",
    "zillow.loc['2011-09-01':'2019-11-01'].groupby(['Date'])['Median_Rent'].mean().plot(x_compat=True, kind = 'line', color= 'g')#green\n",
    "\n",
    "\n",
    "#We also noted each state's region size ranking, which represents how big it is population-wise;\n",
    "#California is ranked No. 1 with the largest population of all states, while Wyoming is ranked No. 51\n",
    "zillow[zillow.SizeRank < 10].loc['2011-09-01':'2019-11-01'].groupby(['Date'])['Median_Rent'].mean().plot(x_compat=True, kind = 'line')"
   ]
  },
  {
   "cell_type": "markdown",
   "metadata": {},
   "source": [
    "Airbnb monthly rent vs bay area rent "
   ]
  },
  {
   "cell_type": "code",
   "execution_count": null,
   "metadata": {},
   "outputs": [],
   "source": [
    "#Capture id and monthly_price from listings data for merge with calendar data\n",
    "to_merge = listings[['id','monthly_price']]\n",
    "\n"
   ]
  },
  {
   "cell_type": "code",
   "execution_count": null,
   "metadata": {},
   "outputs": [],
   "source": [
    "monthly_listings_dd = calendar_dd.merge(to_merge, left_on='listing_id', right_on='id')"
   ]
  },
  {
   "cell_type": "code",
   "execution_count": null,
   "metadata": {},
   "outputs": [],
   "source": [
    "monthly_listings = monthly_listings_dd.compute()"
   ]
  },
  {
   "cell_type": "code",
   "execution_count": null,
   "metadata": {},
   "outputs": [],
   "source": [
    "test_pd=test_pd[-test_pd.monthly_price.isna()]\n",
    "\n",
    "test_pd.drop_duplicates(inplace = True)"
   ]
  },
  {
   "cell_type": "code",
   "execution_count": null,
   "metadata": {},
   "outputs": [],
   "source": [
    "#Convert date to month-year format\n",
    "test_pd\n",
    "#test_pd['date'] = pd.to_datetime(test_pd['date']).dt.to_period('M')"
   ]
  },
  {
   "cell_type": "code",
   "execution_count": null,
   "metadata": {},
   "outputs": [],
   "source": [
    "test_pd.set_index('date', inplace=True)"
   ]
  },
  {
   "cell_type": "code",
   "execution_count": null,
   "metadata": {},
   "outputs": [],
   "source": [
    "test_pd.sort_index(inplace=True)"
   ]
  },
  {
   "cell_type": "code",
   "execution_count": null,
   "metadata": {},
   "outputs": [],
   "source": [
    "test_pd['Year'] = test_pd.index.year\n",
    "test_pd['Month'] = test_pd.index.month\n",
    "test_pd['Weekday Name'] = test_pd.index.weekday_name"
   ]
  },
  {
   "cell_type": "code",
   "execution_count": null,
   "metadata": {},
   "outputs": [],
   "source": [
    "test_pd.head()"
   ]
  },
  {
   "cell_type": "code",
   "execution_count": null,
   "metadata": {},
   "outputs": [],
   "source": [
    "test_pd.loc['2018-09':'2019-12'].groupby('date')['monthly_price'].mean().plot()"
   ]
  },
  {
   "cell_type": "code",
   "execution_count": null,
   "metadata": {},
   "outputs": [],
   "source": [
    "sf_zillow.loc['2018-09':'2019-12'].groupby(['Date'])['Median_Rent'].mean().plot(kind = 'line')"
   ]
  },
  {
   "cell_type": "code",
   "execution_count": null,
   "metadata": {},
   "outputs": [],
   "source": [
    "#test_pd.loc['2018-09':'2019-12'].groupby('date')['monthly_price'].mean().plot(kind = 'box')\n",
    "sns.boxplot(x='Month', y = 'monthly_price', data = test_pd)"
   ]
  },
  {
   "cell_type": "code",
   "execution_count": null,
   "metadata": {},
   "outputs": [],
   "source": [
    "sf_zillow.tail()"
   ]
  },
  {
   "cell_type": "code",
   "execution_count": null,
   "metadata": {},
   "outputs": [],
   "source": [
    "calendar.head()"
   ]
  },
  {
   "cell_type": "markdown",
   "metadata": {},
   "source": [
    "* Comparing monthly rent of airbnb to zillow"
   ]
  },
  {
   "cell_type": "code",
   "execution_count": null,
   "metadata": {},
   "outputs": [],
   "source": [
    "listings.head(2)"
   ]
  },
  {
   "cell_type": "raw",
   "metadata": {},
   "source": [
    "airbnb rent over last eyar vs zillow?\n",
    "factor by bedroom?"
   ]
  },
  {
   "cell_type": "code",
   "execution_count": null,
   "metadata": {},
   "outputs": [],
   "source": [
    "#test = sf_zillow.groupby(['Bedrooms', 'Date'])['Median_Rent'].mean().reset_index()\n",
    "fig, ax = plt.subplots(figsize=(10,5))\n",
    "\n",
    "sf_zillow.groupby(\"Bedrooms\")['Median_Rent'].plot(kind=\"line\", ax=ax)\n",
    "plt.legend(title='Bedrooms', frameon = True, loc='upper right', labels=['studio', 'single','two','three'])\n"
   ]
  },
  {
   "cell_type": "code",
   "execution_count": null,
   "metadata": {},
   "outputs": [],
   "source": []
  },
  {
   "cell_type": "markdown",
   "metadata": {},
   "source": [
    "# Other variables and relationships worth exploring"
   ]
  },
  {
   "cell_type": "markdown",
   "metadata": {},
   "source": [
    "### Principal Component Analysis"
   ]
  },
  {
   "cell_type": "code",
   "execution_count": null,
   "metadata": {},
   "outputs": [],
   "source": []
  }
 ],
 "metadata": {
  "kernelspec": {
   "display_name": "Python 3",
   "language": "python",
   "name": "python3"
  },
  "language_info": {
   "codemirror_mode": {
    "name": "ipython",
    "version": 3
   },
   "file_extension": ".py",
   "mimetype": "text/x-python",
   "name": "python",
   "nbconvert_exporter": "python",
   "pygments_lexer": "ipython3",
   "version": "3.7.3"
  }
 },
 "nbformat": 4,
 "nbformat_minor": 4
}
