{
 "cells": [
  {
   "cell_type": "markdown",
   "metadata": {},
   "source": [
    "# Introduction\n",
    "\n",
    "In the following notebook, I will be performing an EDA of some Airbnb data in the San Francisco area. This data pertains to the last calendar year, which at the time of this analysis would be December 2018 - December 2019.\n",
    "\n",
    "In the following analysis, I will be looking to explore the data and answer the following questions:\n",
    "\n",
    "- Based on the reviews of the last year, what makes a good user experience at a Airbnb rental? What makes a poor user experience? What would you advise to new Airbnb hosts to ensure high reviews and consistent renters?\n",
    "- What are some of the seasonal Airbnb trends you've noticed in the San Francisco area? When are the down months over the last year? Which months are the most busy? Which areas were the most popular during these times? How have prices changed over time?\n",
    "- Are airbnb's that are available for monthly rent competitive with the local markets?\n",
    "- Can you create a price predictor for listings price? What features allows renters to charge more?\n",
    "\n",
    "\n",
    "*GitHub Repo References*\n",
    "The raw data files can be found [here](https://github.com/KishenSharma6/Airbnb-SF_ML_-_Text_Analysis/tree/master/Data/01_Raw).\n",
    "\n",
    "The raw data aggregation scripts can be found [here](https://github.com/KishenSharma6/Airbnb-SF_ML_-_Text_Analysis/tree/master/Project%20Codes/01.%20Raw%20Data%20Aggregation%20Scripts).\n",
    "\n",
    "The data cleaning scripts used to tidy the raw data aggregation can be found [here](https://github.com/KishenSharma6/Airbnb-SF_ML_-_Text_Analysis/tree/master/Project%20Codes/02.%20Data%20Cleaning%20Scripts)."
   ]
  },
  {
   "cell_type": "code",
   "execution_count": 56,
   "metadata": {},
   "outputs": [],
   "source": [
    "#Read in libraries\n",
    "import dask.dataframe as dd\n",
    "import swifter\n",
    "\n",
    "import pandas as pd\n",
    "import pandas_profiling\n",
    "\n",
    "import re\n",
    "\n",
    "import numpy as np\n",
    "from scipy import stats\n",
    "\n",
    "import matplotlib.pyplot as plt\n",
    "import seaborn as sns"
   ]
  },
  {
   "cell_type": "code",
   "execution_count": 57,
   "metadata": {},
   "outputs": [],
   "source": [
    "#supress future warnings\n",
    "import warnings\n",
    "warnings.simplefilter(action='ignore', category=FutureWarning)"
   ]
  },
  {
   "cell_type": "code",
   "execution_count": 58,
   "metadata": {},
   "outputs": [],
   "source": [
    "#Set plot aesthetics for notebook\n",
    "sns.set(style='whitegrid', palette='pastel', color_codes=True)\n",
    "\n",
    "#Increase number of columns and rows displayed by Pandas\n",
    "pd.set_option('display.max_columns', 500)\n",
    "pd.set_option('display.max_rows',100)\n",
    "\n",
    "#Set float format\n",
    "pd.options.display.float_format = '{:.0f}'.format\n",
    "\n",
    "#Ignore warnings\n",
    "import warnings; warnings.simplefilter('ignore')"
   ]
  },
  {
   "cell_type": "markdown",
   "metadata": {},
   "source": [
    "**Read in Data**"
   ]
  },
  {
   "cell_type": "code",
   "execution_count": 59,
   "metadata": {},
   "outputs": [],
   "source": [
    "path = r'C:\\Users\\kishe\\Documents\\Data Science\\Projects\\Python Projects\\In Progress\\Air BnB - SF\\Data\\02_Intermediate/'"
   ]
  },
  {
   "cell_type": "code",
   "execution_count": 60,
   "metadata": {},
   "outputs": [],
   "source": [
    "#Read in Airbnb Listings Data\n",
    "listings = pd.read_csv(path + '01_04_2020_Listings_Cleaned.csv',index_col=0, low_memory=True, sep=',')\n",
    "\n",
    "#Read in Airbnb Calendar and Reviews data\n",
    "calendar = pd.read_csv(path + '01_04_2019_Calendar_Cleaned.csv', sep = ',',\n",
    "                       parse_dates=['date'], low_memory=True,index_col=0)"
   ]
  },
  {
   "cell_type": "code",
   "execution_count": 61,
   "metadata": {},
   "outputs": [],
   "source": [
    "#Read in Zillow data\n",
    "zillow = pd.read_csv(path + '12_29_2019_Zillow_Cleaned.csv', parse_dates=['Date'],\n",
    "                     index_col=0, sep=',')"
   ]
  },
  {
   "cell_type": "markdown",
   "metadata": {},
   "source": [
    "# Data Preview"
   ]
  },
  {
   "cell_type": "markdown",
   "metadata": {},
   "source": [
    "**Airbnb Listings Data**"
   ]
  },
  {
   "cell_type": "code",
   "execution_count": 62,
   "metadata": {},
   "outputs": [
    {
     "data": {
      "text/html": [
       "<div>\n",
       "<style scoped>\n",
       "    .dataframe tbody tr th:only-of-type {\n",
       "        vertical-align: middle;\n",
       "    }\n",
       "\n",
       "    .dataframe tbody tr th {\n",
       "        vertical-align: top;\n",
       "    }\n",
       "\n",
       "    .dataframe thead th {\n",
       "        text-align: right;\n",
       "    }\n",
       "</style>\n",
       "<table border=\"1\" class=\"dataframe\">\n",
       "  <thead>\n",
       "    <tr style=\"text-align: right;\">\n",
       "      <th></th>\n",
       "      <th>accommodates</th>\n",
       "      <th>amenities</th>\n",
       "      <th>availability_30</th>\n",
       "      <th>availability_365</th>\n",
       "      <th>bathrooms</th>\n",
       "      <th>bed_type</th>\n",
       "      <th>bedrooms</th>\n",
       "      <th>beds</th>\n",
       "      <th>calculated_host_listings_count</th>\n",
       "      <th>calculated_host_listings_count_private_rooms</th>\n",
       "      <th>calculated_host_listings_count_shared_rooms</th>\n",
       "      <th>calendar_last_scraped</th>\n",
       "      <th>calendar_updated</th>\n",
       "      <th>cancellation_policy</th>\n",
       "      <th>city</th>\n",
       "      <th>cleaning_fee</th>\n",
       "      <th>description</th>\n",
       "      <th>extra_people</th>\n",
       "      <th>first_review</th>\n",
       "      <th>guests_included</th>\n",
       "      <th>host_about</th>\n",
       "      <th>host_has_profile_pic</th>\n",
       "      <th>host_id</th>\n",
       "      <th>host_identity_verified</th>\n",
       "      <th>host_is_superhost</th>\n",
       "      <th>host_listings_count</th>\n",
       "      <th>host_location</th>\n",
       "      <th>host_name</th>\n",
       "      <th>host_neighbourhood</th>\n",
       "      <th>host_response_rate</th>\n",
       "      <th>host_response_time</th>\n",
       "      <th>host_since</th>\n",
       "      <th>host_verifications</th>\n",
       "      <th>house_rules</th>\n",
       "      <th>id</th>\n",
       "      <th>instant_bookable</th>\n",
       "      <th>is_location_exact</th>\n",
       "      <th>jurisdiction_names</th>\n",
       "      <th>last_review</th>\n",
       "      <th>latitude</th>\n",
       "      <th>longitude</th>\n",
       "      <th>market</th>\n",
       "      <th>maximum_maximum_nights</th>\n",
       "      <th>name</th>\n",
       "      <th>neighborhood_overview</th>\n",
       "      <th>neighbourhood_cleansed</th>\n",
       "      <th>number_of_reviews</th>\n",
       "      <th>number_of_reviews_ltm</th>\n",
       "      <th>price</th>\n",
       "      <th>property_type</th>\n",
       "      <th>require_guest_phone_verification</th>\n",
       "      <th>require_guest_profile_picture</th>\n",
       "      <th>requires_license</th>\n",
       "      <th>review_scores_accuracy</th>\n",
       "      <th>review_scores_checkin</th>\n",
       "      <th>review_scores_cleanliness</th>\n",
       "      <th>review_scores_communication</th>\n",
       "      <th>review_scores_location</th>\n",
       "      <th>review_scores_rating</th>\n",
       "      <th>review_scores_value</th>\n",
       "      <th>reviews_per_month</th>\n",
       "      <th>room_type</th>\n",
       "      <th>scrape_id</th>\n",
       "      <th>security_deposit</th>\n",
       "      <th>space</th>\n",
       "      <th>summary</th>\n",
       "      <th>transit</th>\n",
       "      <th>zipcode</th>\n",
       "      <th>weekly_price</th>\n",
       "      <th>monthly_price</th>\n",
       "    </tr>\n",
       "  </thead>\n",
       "  <tbody>\n",
       "    <tr>\n",
       "      <th>0</th>\n",
       "      <td>3</td>\n",
       "      <td>TV  Cable TV  Internet Wifi Kitchen  Pets liv...</td>\n",
       "      <td>0</td>\n",
       "      <td>77</td>\n",
       "      <td>1</td>\n",
       "      <td>Real Bed</td>\n",
       "      <td>1</td>\n",
       "      <td>2</td>\n",
       "      <td>1</td>\n",
       "      <td>0</td>\n",
       "      <td>0</td>\n",
       "      <td>2019-04-03 00:00:00.000000</td>\n",
       "      <td>NaN</td>\n",
       "      <td>moderate</td>\n",
       "      <td>San Francisco</td>\n",
       "      <td>100</td>\n",
       "      <td>New update: the house next door is under const...</td>\n",
       "      <td>25</td>\n",
       "      <td>2009-07-23 00:00:00.000000</td>\n",
       "      <td>2</td>\n",
       "      <td>We are a family with 2 boys born in 2009 and 2...</td>\n",
       "      <td>True</td>\n",
       "      <td>1169</td>\n",
       "      <td>True</td>\n",
       "      <td>True</td>\n",
       "      <td>1</td>\n",
       "      <td>San Francisco, California, United States</td>\n",
       "      <td>Holly</td>\n",
       "      <td>Duboce Triangle</td>\n",
       "      <td>100</td>\n",
       "      <td>within an hour</td>\n",
       "      <td>2008-07-31 00:00:00.000000</td>\n",
       "      <td>email    phone    facebook    reviews    kba</td>\n",
       "      <td>* No Pets - even visiting guests for a short t...</td>\n",
       "      <td>958</td>\n",
       "      <td>True</td>\n",
       "      <td>True</td>\n",
       "      <td>{\"SAN FRANCISCO\"}</td>\n",
       "      <td>2019-03-16 00:00:00.000000</td>\n",
       "      <td>38</td>\n",
       "      <td>-122</td>\n",
       "      <td>San Francisco</td>\n",
       "      <td>30</td>\n",
       "      <td>Bright, Modern Garden Unit - 1BR/1B</td>\n",
       "      <td>*Quiet cul de sac in friendly neighborhood *St...</td>\n",
       "      <td>Western Addition</td>\n",
       "      <td>183</td>\n",
       "      <td>51</td>\n",
       "      <td>170</td>\n",
       "      <td>Apartment</td>\n",
       "      <td>False</td>\n",
       "      <td>False</td>\n",
       "      <td>True</td>\n",
       "      <td>10</td>\n",
       "      <td>10</td>\n",
       "      <td>10</td>\n",
       "      <td>10</td>\n",
       "      <td>10</td>\n",
       "      <td>97</td>\n",
       "      <td>10</td>\n",
       "      <td>2</td>\n",
       "      <td>Entire home/apt</td>\n",
       "      <td>20190403130253</td>\n",
       "      <td>100</td>\n",
       "      <td>Newly remodeled, modern, and bright garden uni...</td>\n",
       "      <td>New update: the house next door is under const...</td>\n",
       "      <td>*Public Transportation is 1/2 block away.  *Ce...</td>\n",
       "      <td>94117</td>\n",
       "      <td>1120</td>\n",
       "      <td>4200</td>\n",
       "    </tr>\n",
       "    <tr>\n",
       "      <th>1</th>\n",
       "      <td>5</td>\n",
       "      <td>Internet Wifi Kitchen Heating  Family/kid fri...</td>\n",
       "      <td>0</td>\n",
       "      <td>0</td>\n",
       "      <td>1</td>\n",
       "      <td>Real Bed</td>\n",
       "      <td>2</td>\n",
       "      <td>3</td>\n",
       "      <td>1</td>\n",
       "      <td>0</td>\n",
       "      <td>0</td>\n",
       "      <td>2019-04-03 00:00:00.000000</td>\n",
       "      <td>NaN</td>\n",
       "      <td>strict_14_with_grace_period</td>\n",
       "      <td>San Francisco</td>\n",
       "      <td>100</td>\n",
       "      <td>We live in a large Victorian house on a quiet ...</td>\n",
       "      <td>0</td>\n",
       "      <td>2009-05-03 00:00:00.000000</td>\n",
       "      <td>2</td>\n",
       "      <td>Philip: English transplant to the Bay Area and...</td>\n",
       "      <td>True</td>\n",
       "      <td>8904</td>\n",
       "      <td>True</td>\n",
       "      <td>False</td>\n",
       "      <td>2</td>\n",
       "      <td>San Francisco, California, United States</td>\n",
       "      <td>Philip And Tania</td>\n",
       "      <td>Bernal Heights</td>\n",
       "      <td>80</td>\n",
       "      <td>within a day</td>\n",
       "      <td>2009-03-02 00:00:00.000000</td>\n",
       "      <td>email    phone    reviews    kba    work_ema...</td>\n",
       "      <td>Please respect the house, the art work, the fu...</td>\n",
       "      <td>5858</td>\n",
       "      <td>False</td>\n",
       "      <td>True</td>\n",
       "      <td>{\"SAN FRANCISCO\"}</td>\n",
       "      <td>2017-08-06 00:00:00.000000</td>\n",
       "      <td>38</td>\n",
       "      <td>-122</td>\n",
       "      <td>San Francisco</td>\n",
       "      <td>60</td>\n",
       "      <td>Creative Sanctuary</td>\n",
       "      <td>I love how our neighborhood feels quiet but is...</td>\n",
       "      <td>Bernal Heights</td>\n",
       "      <td>111</td>\n",
       "      <td>0</td>\n",
       "      <td>235</td>\n",
       "      <td>Apartment</td>\n",
       "      <td>False</td>\n",
       "      <td>False</td>\n",
       "      <td>True</td>\n",
       "      <td>10</td>\n",
       "      <td>10</td>\n",
       "      <td>10</td>\n",
       "      <td>10</td>\n",
       "      <td>10</td>\n",
       "      <td>98</td>\n",
       "      <td>9</td>\n",
       "      <td>1</td>\n",
       "      <td>Entire home/apt</td>\n",
       "      <td>20190403130253</td>\n",
       "      <td>nan</td>\n",
       "      <td>We live in a large Victorian house on a quiet ...</td>\n",
       "      <td>NaN</td>\n",
       "      <td>The train is two blocks away and you can stop ...</td>\n",
       "      <td>94110</td>\n",
       "      <td>1600</td>\n",
       "      <td>5500</td>\n",
       "    </tr>\n",
       "    <tr>\n",
       "      <th>2</th>\n",
       "      <td>2</td>\n",
       "      <td>TV Internet Wifi Kitchen  Free street parking...</td>\n",
       "      <td>30</td>\n",
       "      <td>365</td>\n",
       "      <td>4</td>\n",
       "      <td>Real Bed</td>\n",
       "      <td>1</td>\n",
       "      <td>1</td>\n",
       "      <td>9</td>\n",
       "      <td>9</td>\n",
       "      <td>0</td>\n",
       "      <td>2019-04-03 00:00:00.000000</td>\n",
       "      <td>NaN</td>\n",
       "      <td>strict_14_with_grace_period</td>\n",
       "      <td>San Francisco</td>\n",
       "      <td>50</td>\n",
       "      <td>Nice and good public transportation.  7 minute...</td>\n",
       "      <td>12</td>\n",
       "      <td>2009-08-31 00:00:00.000000</td>\n",
       "      <td>1</td>\n",
       "      <td>7 minutes walk to UCSF.  15 minutes walk to US...</td>\n",
       "      <td>True</td>\n",
       "      <td>21994</td>\n",
       "      <td>True</td>\n",
       "      <td>False</td>\n",
       "      <td>10</td>\n",
       "      <td>San Francisco, California, United States</td>\n",
       "      <td>Aaron</td>\n",
       "      <td>Cole Valley</td>\n",
       "      <td>100</td>\n",
       "      <td>within a few hours</td>\n",
       "      <td>2009-06-17 00:00:00.000000</td>\n",
       "      <td>email    phone    reviews    jumio    govern...</td>\n",
       "      <td>No party, No smoking, not for any kinds of smo...</td>\n",
       "      <td>7918</td>\n",
       "      <td>False</td>\n",
       "      <td>True</td>\n",
       "      <td>{\"SAN FRANCISCO\"}</td>\n",
       "      <td>2016-11-21 00:00:00.000000</td>\n",
       "      <td>38</td>\n",
       "      <td>-122</td>\n",
       "      <td>San Francisco</td>\n",
       "      <td>60</td>\n",
       "      <td>A Friendly Room - UCSF/USF - San Francisco</td>\n",
       "      <td>Shopping old town, restaurants, McDonald, Whol...</td>\n",
       "      <td>Haight Ashbury</td>\n",
       "      <td>17</td>\n",
       "      <td>0</td>\n",
       "      <td>65</td>\n",
       "      <td>Apartment</td>\n",
       "      <td>False</td>\n",
       "      <td>False</td>\n",
       "      <td>True</td>\n",
       "      <td>8</td>\n",
       "      <td>9</td>\n",
       "      <td>8</td>\n",
       "      <td>9</td>\n",
       "      <td>9</td>\n",
       "      <td>85</td>\n",
       "      <td>8</td>\n",
       "      <td>0</td>\n",
       "      <td>Private room</td>\n",
       "      <td>20190403130253</td>\n",
       "      <td>200</td>\n",
       "      <td>Room rental-sunny view room/sink/Wi Fi (inner ...</td>\n",
       "      <td>Nice and good public transportation.  7 minute...</td>\n",
       "      <td>N Juda Muni and bus stop.  Street parking.</td>\n",
       "      <td>94117</td>\n",
       "      <td>485</td>\n",
       "      <td>1685</td>\n",
       "    </tr>\n",
       "    <tr>\n",
       "      <th>3</th>\n",
       "      <td>2</td>\n",
       "      <td>TV Internet Wifi Kitchen  Free street parking...</td>\n",
       "      <td>30</td>\n",
       "      <td>365</td>\n",
       "      <td>4</td>\n",
       "      <td>Real Bed</td>\n",
       "      <td>1</td>\n",
       "      <td>1</td>\n",
       "      <td>9</td>\n",
       "      <td>9</td>\n",
       "      <td>0</td>\n",
       "      <td>2019-04-03 00:00:00.000000</td>\n",
       "      <td>NaN</td>\n",
       "      <td>strict_14_with_grace_period</td>\n",
       "      <td>San Francisco</td>\n",
       "      <td>50</td>\n",
       "      <td>Nice and good public transportation.  7 minute...</td>\n",
       "      <td>12</td>\n",
       "      <td>2014-09-08 00:00:00.000000</td>\n",
       "      <td>1</td>\n",
       "      <td>7 minutes walk to UCSF.  15 minutes walk to US...</td>\n",
       "      <td>True</td>\n",
       "      <td>21994</td>\n",
       "      <td>True</td>\n",
       "      <td>False</td>\n",
       "      <td>10</td>\n",
       "      <td>San Francisco, California, United States</td>\n",
       "      <td>Aaron</td>\n",
       "      <td>Cole Valley</td>\n",
       "      <td>100</td>\n",
       "      <td>within a few hours</td>\n",
       "      <td>2009-06-17 00:00:00.000000</td>\n",
       "      <td>email    phone    reviews    jumio    govern...</td>\n",
       "      <td>no pet no smoke no party inside the building</td>\n",
       "      <td>8142</td>\n",
       "      <td>False</td>\n",
       "      <td>True</td>\n",
       "      <td>{\"SAN FRANCISCO\"}</td>\n",
       "      <td>2018-09-12 00:00:00.000000</td>\n",
       "      <td>38</td>\n",
       "      <td>-122</td>\n",
       "      <td>San Francisco</td>\n",
       "      <td>90</td>\n",
       "      <td>Friendly Room Apt. Style -UCSF/USF - San Franc...</td>\n",
       "      <td>NaN</td>\n",
       "      <td>Haight Ashbury</td>\n",
       "      <td>8</td>\n",
       "      <td>1</td>\n",
       "      <td>65</td>\n",
       "      <td>Apartment</td>\n",
       "      <td>False</td>\n",
       "      <td>False</td>\n",
       "      <td>True</td>\n",
       "      <td>9</td>\n",
       "      <td>10</td>\n",
       "      <td>9</td>\n",
       "      <td>10</td>\n",
       "      <td>9</td>\n",
       "      <td>93</td>\n",
       "      <td>9</td>\n",
       "      <td>0</td>\n",
       "      <td>Private room</td>\n",
       "      <td>20190403130253</td>\n",
       "      <td>200</td>\n",
       "      <td>Room rental Sunny view Rm/Wi-Fi/TV/sink/large ...</td>\n",
       "      <td>Nice and good public transportation.  7 minute...</td>\n",
       "      <td>N Juda Muni, Bus and UCSF Shuttle. small shopp...</td>\n",
       "      <td>94117</td>\n",
       "      <td>490</td>\n",
       "      <td>1685</td>\n",
       "    </tr>\n",
       "    <tr>\n",
       "      <th>5</th>\n",
       "      <td>6</td>\n",
       "      <td>TV  Cable TV  Internet Wifi Kitchen  Free par...</td>\n",
       "      <td>0</td>\n",
       "      <td>20</td>\n",
       "      <td>1</td>\n",
       "      <td>Real Bed</td>\n",
       "      <td>2</td>\n",
       "      <td>3</td>\n",
       "      <td>1</td>\n",
       "      <td>0</td>\n",
       "      <td>0</td>\n",
       "      <td>2019-04-03 00:00:00.000000</td>\n",
       "      <td>NaN</td>\n",
       "      <td>moderate</td>\n",
       "      <td>San Francisco</td>\n",
       "      <td>125</td>\n",
       "      <td>Fully furnished 2BR, 1BA flat in beautiful Vic...</td>\n",
       "      <td>0</td>\n",
       "      <td>2009-08-14 00:00:00.000000</td>\n",
       "      <td>1</td>\n",
       "      <td>We are a family of three who love  live music,...</td>\n",
       "      <td>True</td>\n",
       "      <td>25601</td>\n",
       "      <td>False</td>\n",
       "      <td>False</td>\n",
       "      <td>1</td>\n",
       "      <td>San Francisco, California, United States</td>\n",
       "      <td>Sandy</td>\n",
       "      <td>Western Addition/NOPA</td>\n",
       "      <td>90</td>\n",
       "      <td>within a day</td>\n",
       "      <td>2009-07-14 00:00:00.000000</td>\n",
       "      <td>email    phone    facebook    reviews</td>\n",
       "      <td>No smoking, as I'm quite allergic. Please put ...</td>\n",
       "      <td>8567</td>\n",
       "      <td>False</td>\n",
       "      <td>True</td>\n",
       "      <td>{\"SAN FRANCISCO\"}</td>\n",
       "      <td>2019-03-30 00:00:00.000000</td>\n",
       "      <td>38</td>\n",
       "      <td>-122</td>\n",
       "      <td>San Francisco</td>\n",
       "      <td>365</td>\n",
       "      <td>Lovely 2BR flat Great Location</td>\n",
       "      <td>The neighborhood is very centrally located, cl...</td>\n",
       "      <td>Western Addition</td>\n",
       "      <td>32</td>\n",
       "      <td>5</td>\n",
       "      <td>255</td>\n",
       "      <td>Apartment</td>\n",
       "      <td>False</td>\n",
       "      <td>False</td>\n",
       "      <td>True</td>\n",
       "      <td>9</td>\n",
       "      <td>10</td>\n",
       "      <td>8</td>\n",
       "      <td>10</td>\n",
       "      <td>9</td>\n",
       "      <td>90</td>\n",
       "      <td>9</td>\n",
       "      <td>0</td>\n",
       "      <td>Entire home/apt</td>\n",
       "      <td>20190403130253</td>\n",
       "      <td>0</td>\n",
       "      <td>Fully furnished 2BR, 1BA flat in beautiful Vic...</td>\n",
       "      <td>NaN</td>\n",
       "      <td>We're 2 blocks from several bus lines that can...</td>\n",
       "      <td>94115</td>\n",
       "      <td>nan</td>\n",
       "      <td>nan</td>\n",
       "    </tr>\n",
       "  </tbody>\n",
       "</table>\n",
       "</div>"
      ],
      "text/plain": [
       "   accommodates                                          amenities  \\\n",
       "0             3   TV  Cable TV  Internet Wifi Kitchen  Pets liv...   \n",
       "1             5   Internet Wifi Kitchen Heating  Family/kid fri...   \n",
       "2             2   TV Internet Wifi Kitchen  Free street parking...   \n",
       "3             2   TV Internet Wifi Kitchen  Free street parking...   \n",
       "5             6   TV  Cable TV  Internet Wifi Kitchen  Free par...   \n",
       "\n",
       "   availability_30  availability_365  bathrooms  bed_type  bedrooms  beds  \\\n",
       "0                0                77          1  Real Bed         1     2   \n",
       "1                0                 0          1  Real Bed         2     3   \n",
       "2               30               365          4  Real Bed         1     1   \n",
       "3               30               365          4  Real Bed         1     1   \n",
       "5                0                20          1  Real Bed         2     3   \n",
       "\n",
       "   calculated_host_listings_count  \\\n",
       "0                               1   \n",
       "1                               1   \n",
       "2                               9   \n",
       "3                               9   \n",
       "5                               1   \n",
       "\n",
       "   calculated_host_listings_count_private_rooms  \\\n",
       "0                                             0   \n",
       "1                                             0   \n",
       "2                                             9   \n",
       "3                                             9   \n",
       "5                                             0   \n",
       "\n",
       "   calculated_host_listings_count_shared_rooms       calendar_last_scraped  \\\n",
       "0                                            0  2019-04-03 00:00:00.000000   \n",
       "1                                            0  2019-04-03 00:00:00.000000   \n",
       "2                                            0  2019-04-03 00:00:00.000000   \n",
       "3                                            0  2019-04-03 00:00:00.000000   \n",
       "5                                            0  2019-04-03 00:00:00.000000   \n",
       "\n",
       "  calendar_updated          cancellation_policy           city  cleaning_fee  \\\n",
       "0              NaN                     moderate  San Francisco           100   \n",
       "1              NaN  strict_14_with_grace_period  San Francisco           100   \n",
       "2              NaN  strict_14_with_grace_period  San Francisco            50   \n",
       "3              NaN  strict_14_with_grace_period  San Francisco            50   \n",
       "5              NaN                     moderate  San Francisco           125   \n",
       "\n",
       "                                         description  extra_people  \\\n",
       "0  New update: the house next door is under const...            25   \n",
       "1  We live in a large Victorian house on a quiet ...             0   \n",
       "2  Nice and good public transportation.  7 minute...            12   \n",
       "3  Nice and good public transportation.  7 minute...            12   \n",
       "5  Fully furnished 2BR, 1BA flat in beautiful Vic...             0   \n",
       "\n",
       "                 first_review  guests_included  \\\n",
       "0  2009-07-23 00:00:00.000000                2   \n",
       "1  2009-05-03 00:00:00.000000                2   \n",
       "2  2009-08-31 00:00:00.000000                1   \n",
       "3  2014-09-08 00:00:00.000000                1   \n",
       "5  2009-08-14 00:00:00.000000                1   \n",
       "\n",
       "                                          host_about  host_has_profile_pic  \\\n",
       "0  We are a family with 2 boys born in 2009 and 2...                  True   \n",
       "1  Philip: English transplant to the Bay Area and...                  True   \n",
       "2  7 minutes walk to UCSF.  15 minutes walk to US...                  True   \n",
       "3  7 minutes walk to UCSF.  15 minutes walk to US...                  True   \n",
       "5  We are a family of three who love  live music,...                  True   \n",
       "\n",
       "   host_id  host_identity_verified  host_is_superhost  host_listings_count  \\\n",
       "0     1169                    True               True                    1   \n",
       "1     8904                    True              False                    2   \n",
       "2    21994                    True              False                   10   \n",
       "3    21994                    True              False                   10   \n",
       "5    25601                   False              False                    1   \n",
       "\n",
       "                              host_location         host_name  \\\n",
       "0  San Francisco, California, United States             Holly   \n",
       "1  San Francisco, California, United States  Philip And Tania   \n",
       "2  San Francisco, California, United States             Aaron   \n",
       "3  San Francisco, California, United States             Aaron   \n",
       "5  San Francisco, California, United States             Sandy   \n",
       "\n",
       "      host_neighbourhood  host_response_rate  host_response_time  \\\n",
       "0        Duboce Triangle                 100      within an hour   \n",
       "1         Bernal Heights                  80        within a day   \n",
       "2            Cole Valley                 100  within a few hours   \n",
       "3            Cole Valley                 100  within a few hours   \n",
       "5  Western Addition/NOPA                  90        within a day   \n",
       "\n",
       "                   host_since  \\\n",
       "0  2008-07-31 00:00:00.000000   \n",
       "1  2009-03-02 00:00:00.000000   \n",
       "2  2009-06-17 00:00:00.000000   \n",
       "3  2009-06-17 00:00:00.000000   \n",
       "5  2009-07-14 00:00:00.000000   \n",
       "\n",
       "                                  host_verifications  \\\n",
       "0     email    phone    facebook    reviews    kba     \n",
       "1    email    phone    reviews    kba    work_ema...   \n",
       "2    email    phone    reviews    jumio    govern...   \n",
       "3    email    phone    reviews    jumio    govern...   \n",
       "5            email    phone    facebook    reviews     \n",
       "\n",
       "                                         house_rules    id  instant_bookable  \\\n",
       "0  * No Pets - even visiting guests for a short t...   958              True   \n",
       "1  Please respect the house, the art work, the fu...  5858             False   \n",
       "2  No party, No smoking, not for any kinds of smo...  7918             False   \n",
       "3       no pet no smoke no party inside the building  8142             False   \n",
       "5  No smoking, as I'm quite allergic. Please put ...  8567             False   \n",
       "\n",
       "   is_location_exact jurisdiction_names                 last_review  latitude  \\\n",
       "0               True  {\"SAN FRANCISCO\"}  2019-03-16 00:00:00.000000        38   \n",
       "1               True  {\"SAN FRANCISCO\"}  2017-08-06 00:00:00.000000        38   \n",
       "2               True  {\"SAN FRANCISCO\"}  2016-11-21 00:00:00.000000        38   \n",
       "3               True  {\"SAN FRANCISCO\"}  2018-09-12 00:00:00.000000        38   \n",
       "5               True  {\"SAN FRANCISCO\"}  2019-03-30 00:00:00.000000        38   \n",
       "\n",
       "   longitude         market  maximum_maximum_nights  \\\n",
       "0       -122  San Francisco                      30   \n",
       "1       -122  San Francisco                      60   \n",
       "2       -122  San Francisco                      60   \n",
       "3       -122  San Francisco                      90   \n",
       "5       -122  San Francisco                     365   \n",
       "\n",
       "                                                name  \\\n",
       "0                Bright, Modern Garden Unit - 1BR/1B   \n",
       "1                                 Creative Sanctuary   \n",
       "2         A Friendly Room - UCSF/USF - San Francisco   \n",
       "3  Friendly Room Apt. Style -UCSF/USF - San Franc...   \n",
       "5                     Lovely 2BR flat Great Location   \n",
       "\n",
       "                               neighborhood_overview neighbourhood_cleansed  \\\n",
       "0  *Quiet cul de sac in friendly neighborhood *St...       Western Addition   \n",
       "1  I love how our neighborhood feels quiet but is...         Bernal Heights   \n",
       "2  Shopping old town, restaurants, McDonald, Whol...         Haight Ashbury   \n",
       "3                                                NaN         Haight Ashbury   \n",
       "5  The neighborhood is very centrally located, cl...       Western Addition   \n",
       "\n",
       "   number_of_reviews  number_of_reviews_ltm  price property_type  \\\n",
       "0                183                     51    170     Apartment   \n",
       "1                111                      0    235     Apartment   \n",
       "2                 17                      0     65     Apartment   \n",
       "3                  8                      1     65     Apartment   \n",
       "5                 32                      5    255     Apartment   \n",
       "\n",
       "   require_guest_phone_verification  require_guest_profile_picture  \\\n",
       "0                             False                          False   \n",
       "1                             False                          False   \n",
       "2                             False                          False   \n",
       "3                             False                          False   \n",
       "5                             False                          False   \n",
       "\n",
       "   requires_license  review_scores_accuracy  review_scores_checkin  \\\n",
       "0              True                      10                     10   \n",
       "1              True                      10                     10   \n",
       "2              True                       8                      9   \n",
       "3              True                       9                     10   \n",
       "5              True                       9                     10   \n",
       "\n",
       "   review_scores_cleanliness  review_scores_communication  \\\n",
       "0                         10                           10   \n",
       "1                         10                           10   \n",
       "2                          8                            9   \n",
       "3                          9                           10   \n",
       "5                          8                           10   \n",
       "\n",
       "   review_scores_location  review_scores_rating  review_scores_value  \\\n",
       "0                      10                    97                   10   \n",
       "1                      10                    98                    9   \n",
       "2                       9                    85                    8   \n",
       "3                       9                    93                    9   \n",
       "5                       9                    90                    9   \n",
       "\n",
       "   reviews_per_month        room_type      scrape_id  security_deposit  \\\n",
       "0                  2  Entire home/apt 20190403130253               100   \n",
       "1                  1  Entire home/apt 20190403130253               nan   \n",
       "2                  0     Private room 20190403130253               200   \n",
       "3                  0     Private room 20190403130253               200   \n",
       "5                  0  Entire home/apt 20190403130253                 0   \n",
       "\n",
       "                                               space  \\\n",
       "0  Newly remodeled, modern, and bright garden uni...   \n",
       "1  We live in a large Victorian house on a quiet ...   \n",
       "2  Room rental-sunny view room/sink/Wi Fi (inner ...   \n",
       "3  Room rental Sunny view Rm/Wi-Fi/TV/sink/large ...   \n",
       "5  Fully furnished 2BR, 1BA flat in beautiful Vic...   \n",
       "\n",
       "                                             summary  \\\n",
       "0  New update: the house next door is under const...   \n",
       "1                                                NaN   \n",
       "2  Nice and good public transportation.  7 minute...   \n",
       "3  Nice and good public transportation.  7 minute...   \n",
       "5                                                NaN   \n",
       "\n",
       "                                             transit  zipcode  weekly_price  \\\n",
       "0  *Public Transportation is 1/2 block away.  *Ce...    94117          1120   \n",
       "1  The train is two blocks away and you can stop ...    94110          1600   \n",
       "2         N Juda Muni and bus stop.  Street parking.    94117           485   \n",
       "3  N Juda Muni, Bus and UCSF Shuttle. small shopp...    94117           490   \n",
       "5  We're 2 blocks from several bus lines that can...    94115           nan   \n",
       "\n",
       "   monthly_price  \n",
       "0           4200  \n",
       "1           5500  \n",
       "2           1685  \n",
       "3           1685  \n",
       "5            nan  "
      ]
     },
     "metadata": {},
     "output_type": "display_data"
    }
   ],
   "source": [
    "#Preview listings data\n",
    "display(listings.head())"
   ]
  },
  {
   "cell_type": "markdown",
   "metadata": {},
   "source": [
    "**Airbnb Calendar Data**"
   ]
  },
  {
   "cell_type": "code",
   "execution_count": 63,
   "metadata": {},
   "outputs": [
    {
     "data": {
      "text/html": [
       "<div>\n",
       "<style scoped>\n",
       "    .dataframe tbody tr th:only-of-type {\n",
       "        vertical-align: middle;\n",
       "    }\n",
       "\n",
       "    .dataframe tbody tr th {\n",
       "        vertical-align: top;\n",
       "    }\n",
       "\n",
       "    .dataframe thead th {\n",
       "        text-align: right;\n",
       "    }\n",
       "</style>\n",
       "<table border=\"1\" class=\"dataframe\">\n",
       "  <thead>\n",
       "    <tr style=\"text-align: right;\">\n",
       "      <th></th>\n",
       "      <th>adjusted_price</th>\n",
       "      <th>available</th>\n",
       "      <th>date</th>\n",
       "      <th>listing_id</th>\n",
       "      <th>maximum_nights</th>\n",
       "      <th>minimum_nights</th>\n",
       "      <th>price</th>\n",
       "    </tr>\n",
       "  </thead>\n",
       "  <tbody>\n",
       "    <tr>\n",
       "      <th>0</th>\n",
       "      <td>80</td>\n",
       "      <td>0</td>\n",
       "      <td>2019-04-03</td>\n",
       "      <td>187730</td>\n",
       "      <td>120</td>\n",
       "      <td>3</td>\n",
       "      <td>80</td>\n",
       "    </tr>\n",
       "    <tr>\n",
       "      <th>1</th>\n",
       "      <td>80</td>\n",
       "      <td>0</td>\n",
       "      <td>2019-04-04</td>\n",
       "      <td>187730</td>\n",
       "      <td>120</td>\n",
       "      <td>3</td>\n",
       "      <td>80</td>\n",
       "    </tr>\n",
       "    <tr>\n",
       "      <th>2</th>\n",
       "      <td>82</td>\n",
       "      <td>1</td>\n",
       "      <td>2019-04-05</td>\n",
       "      <td>187730</td>\n",
       "      <td>120</td>\n",
       "      <td>3</td>\n",
       "      <td>82</td>\n",
       "    </tr>\n",
       "    <tr>\n",
       "      <th>3</th>\n",
       "      <td>82</td>\n",
       "      <td>1</td>\n",
       "      <td>2019-04-06</td>\n",
       "      <td>187730</td>\n",
       "      <td>120</td>\n",
       "      <td>3</td>\n",
       "      <td>82</td>\n",
       "    </tr>\n",
       "    <tr>\n",
       "      <th>4</th>\n",
       "      <td>81</td>\n",
       "      <td>1</td>\n",
       "      <td>2019-04-07</td>\n",
       "      <td>187730</td>\n",
       "      <td>120</td>\n",
       "      <td>3</td>\n",
       "      <td>81</td>\n",
       "    </tr>\n",
       "  </tbody>\n",
       "</table>\n",
       "</div>"
      ],
      "text/plain": [
       "   adjusted_price  available       date  listing_id  maximum_nights  \\\n",
       "0              80          0 2019-04-03      187730             120   \n",
       "1              80          0 2019-04-04      187730             120   \n",
       "2              82          1 2019-04-05      187730             120   \n",
       "3              82          1 2019-04-06      187730             120   \n",
       "4              81          1 2019-04-07      187730             120   \n",
       "\n",
       "   minimum_nights  price  \n",
       "0               3     80  \n",
       "1               3     80  \n",
       "2               3     82  \n",
       "3               3     82  \n",
       "4               3     81  "
      ]
     },
     "metadata": {},
     "output_type": "display_data"
    }
   ],
   "source": [
    "#Preview calendar data\n",
    "display(calendar.head())"
   ]
  },
  {
   "cell_type": "markdown",
   "metadata": {},
   "source": [
    "**Zillow Data**"
   ]
  },
  {
   "cell_type": "code",
   "execution_count": 64,
   "metadata": {},
   "outputs": [
    {
     "data": {
      "text/html": [
       "<div>\n",
       "<style scoped>\n",
       "    .dataframe tbody tr th:only-of-type {\n",
       "        vertical-align: middle;\n",
       "    }\n",
       "\n",
       "    .dataframe tbody tr th {\n",
       "        vertical-align: top;\n",
       "    }\n",
       "\n",
       "    .dataframe thead th {\n",
       "        text-align: right;\n",
       "    }\n",
       "</style>\n",
       "<table border=\"1\" class=\"dataframe\">\n",
       "  <thead>\n",
       "    <tr style=\"text-align: right;\">\n",
       "      <th></th>\n",
       "      <th>City</th>\n",
       "      <th>County</th>\n",
       "      <th>Metro</th>\n",
       "      <th>Zip</th>\n",
       "      <th>State</th>\n",
       "      <th>SizeRank</th>\n",
       "      <th>Bedrooms</th>\n",
       "      <th>Date</th>\n",
       "      <th>Median_Rent</th>\n",
       "    </tr>\n",
       "  </thead>\n",
       "  <tbody>\n",
       "    <tr>\n",
       "      <th>4928</th>\n",
       "      <td>Virginia Beach</td>\n",
       "      <td>Virginia Beach City</td>\n",
       "      <td>Virginia Beach-Norfolk-Newport News</td>\n",
       "      <td>23462</td>\n",
       "      <td>VA</td>\n",
       "      <td>83</td>\n",
       "      <td>3</td>\n",
       "      <td>2010-03-01</td>\n",
       "      <td>1200</td>\n",
       "    </tr>\n",
       "    <tr>\n",
       "      <th>11368</th>\n",
       "      <td>Virginia Beach</td>\n",
       "      <td>Virginia Beach City</td>\n",
       "      <td>Virginia Beach-Norfolk-Newport News</td>\n",
       "      <td>23462</td>\n",
       "      <td>VA</td>\n",
       "      <td>83</td>\n",
       "      <td>3</td>\n",
       "      <td>2010-04-01</td>\n",
       "      <td>1250</td>\n",
       "    </tr>\n",
       "    <tr>\n",
       "      <th>17808</th>\n",
       "      <td>Virginia Beach</td>\n",
       "      <td>Virginia Beach City</td>\n",
       "      <td>Virginia Beach-Norfolk-Newport News</td>\n",
       "      <td>23462</td>\n",
       "      <td>VA</td>\n",
       "      <td>83</td>\n",
       "      <td>3</td>\n",
       "      <td>2010-05-01</td>\n",
       "      <td>1200</td>\n",
       "    </tr>\n",
       "    <tr>\n",
       "      <th>24248</th>\n",
       "      <td>Virginia Beach</td>\n",
       "      <td>Virginia Beach City</td>\n",
       "      <td>Virginia Beach-Norfolk-Newport News</td>\n",
       "      <td>23462</td>\n",
       "      <td>VA</td>\n",
       "      <td>83</td>\n",
       "      <td>3</td>\n",
       "      <td>2010-06-01</td>\n",
       "      <td>1250</td>\n",
       "    </tr>\n",
       "    <tr>\n",
       "      <th>30688</th>\n",
       "      <td>Virginia Beach</td>\n",
       "      <td>Virginia Beach City</td>\n",
       "      <td>Virginia Beach-Norfolk-Newport News</td>\n",
       "      <td>23462</td>\n",
       "      <td>VA</td>\n",
       "      <td>83</td>\n",
       "      <td>3</td>\n",
       "      <td>2010-07-01</td>\n",
       "      <td>1225</td>\n",
       "    </tr>\n",
       "  </tbody>\n",
       "</table>\n",
       "</div>"
      ],
      "text/plain": [
       "                 City               County  \\\n",
       "4928   Virginia Beach  Virginia Beach City   \n",
       "11368  Virginia Beach  Virginia Beach City   \n",
       "17808  Virginia Beach  Virginia Beach City   \n",
       "24248  Virginia Beach  Virginia Beach City   \n",
       "30688  Virginia Beach  Virginia Beach City   \n",
       "\n",
       "                                     Metro    Zip State  SizeRank  Bedrooms  \\\n",
       "4928   Virginia Beach-Norfolk-Newport News  23462    VA        83         3   \n",
       "11368  Virginia Beach-Norfolk-Newport News  23462    VA        83         3   \n",
       "17808  Virginia Beach-Norfolk-Newport News  23462    VA        83         3   \n",
       "24248  Virginia Beach-Norfolk-Newport News  23462    VA        83         3   \n",
       "30688  Virginia Beach-Norfolk-Newport News  23462    VA        83         3   \n",
       "\n",
       "            Date  Median_Rent  \n",
       "4928  2010-03-01         1200  \n",
       "11368 2010-04-01         1250  \n",
       "17808 2010-05-01         1200  \n",
       "24248 2010-06-01         1250  \n",
       "30688 2010-07-01         1225  "
      ]
     },
     "metadata": {},
     "output_type": "display_data"
    }
   ],
   "source": [
    "#Preview zillow data\n",
    "display(zillow.head())"
   ]
  },
  {
   "cell_type": "markdown",
   "metadata": {},
   "source": [
    "# Data Exploration"
   ]
  },
  {
   "cell_type": "markdown",
   "metadata": {},
   "source": [
    "- How has Airbnb grown over the last year? Which neighborhoods have shown the most growth?\n",
    "- What are the metrics for the different neighborhoods in SF?\n",
    "- Are airbnb's that are available for monthly rent competitive with the local rent market? Is Airbnb a legitmate option to consider for short term living as opposed to finding month to month leases?\n",
    "- What are the different data distributions for the different outcome variables we are interested in exploring?\n",
    "\n"
   ]
  },
  {
   "cell_type": "markdown",
   "metadata": {},
   "source": [
    "#### What are the different data distributions for the different outcome variables we are interested in exploring?\n"
   ]
  },
  {
   "cell_type": "markdown",
   "metadata": {},
   "source": [
    "date"
   ]
  },
  {
   "cell_type": "code",
   "execution_count": 65,
   "metadata": {},
   "outputs": [
    {
     "data": {
      "text/plain": [
       "<matplotlib.axes._subplots.AxesSubplot at 0x28e093a47b8>"
      ]
     },
     "execution_count": 65,
     "metadata": {},
     "output_type": "execute_result"
    },
    {
     "data": {
      "image/png": "[encoded data removed]",
      "text/plain": [
       "<Figure size 576x396 with 1 Axes>"
      ]
     },
     "metadata": {},
     "output_type": "display_data"
    }
   ],
   "source": [
    "calendar.date.hist()"
   ]
  },
  {
   "cell_type": "code",
   "execution_count": 66,
   "metadata": {},
   "outputs": [
    {
     "data": {
      "text/plain": [
       "<matplotlib.lines.Line2D at 0x28e22dcb550>"
      ]
     },
     "execution_count": 66,
     "metadata": {},
     "output_type": "execute_result"
    },
    {
     "data": {
      "image/png": "[encoded data removed]",
      "text/plain": [
       "<Figure size 576x396 with 1 Axes>"
      ]
     },
     "metadata": {},
     "output_type": "display_data"
    }
   ],
   "source": [
    "#plot hist\n",
    "listings.review_scores_rating.hist(bins = 80)\n",
    "\n",
    "#plot the mean\n",
    "mean = np.mean(listings.review_scores_rating)\n",
    "\n",
    "plt.axvline(mean, color='r', linewidth=2, linestyle='--', label= str(round(mean,2)))"
   ]
  },
  {
   "cell_type": "markdown",
   "metadata": {},
   "source": [
    "Listings price"
   ]
  },
  {
   "cell_type": "code",
   "execution_count": 67,
   "metadata": {},
   "outputs": [
    {
     "data": {
      "text/plain": [
       "<matplotlib.lines.Line2D at 0x28e0431b748>"
      ]
     },
     "execution_count": 67,
     "metadata": {},
     "output_type": "execute_result"
    },
    {
     "data": {
      "image/png": "[encoded data removed]",
      "text/plain": [
       "<Figure size 576x396 with 1 Axes>"
      ]
     },
     "metadata": {},
     "output_type": "display_data"
    }
   ],
   "source": [
    "#KDE\n",
    "ax = sns.kdeplot(listings.price, shade=True, color=\"grey\")\n",
    "\n",
    "#plot the mean\n",
    "mean = np.mean(listings.price)\n",
    "\n",
    "plt.axvline(mean, color='r', linewidth=2, linestyle='--', label= str(round(mean,2)))"
   ]
  },
  {
   "cell_type": "code",
   "execution_count": 68,
   "metadata": {},
   "outputs": [
    {
     "data": {
      "text/plain": [
       "<matplotlib.lines.Line2D at 0x28e04480c18>"
      ]
     },
     "execution_count": 68,
     "metadata": {},
     "output_type": "execute_result"
    },
    {
     "data": {
      "image/png": "[encoded data removed]",
      "text/plain": [
       "<Figure size 576x396 with 1 Axes>"
      ]
     },
     "metadata": {},
     "output_type": "display_data"
    }
   ],
   "source": [
    "listings.monthly_price.hist(bins = 30)\n",
    "\n",
    "#plot the mean\n",
    "mean = np.mean(listings.monthly_price)\n",
    "\n",
    "plt.axvline(mean, color='r', linewidth=2, linestyle='--', label= str(round(mean,2)))"
   ]
  },
  {
   "cell_type": "code",
   "execution_count": 69,
   "metadata": {},
   "outputs": [
    {
     "data": {
      "text/plain": [
       "<matplotlib.lines.Line2D at 0x28e043ed080>"
      ]
     },
     "execution_count": 69,
     "metadata": {},
     "output_type": "execute_result"
    },
    {
     "data": {
      "image/png": "[encoded data removed]",
      "text/plain": [
       "<Figure size 576x396 with 1 Axes>"
      ]
     },
     "metadata": {},
     "output_type": "display_data"
    }
   ],
   "source": [
    "listings.weekly_price.hist(bins = 30)\n",
    "\n",
    "#plot the mean\n",
    "mean = np.mean(listings.weekly_price)\n",
    "\n",
    "plt.axvline(mean, color='r', linewidth=2, linestyle='--', label= str(round(mean,2)))"
   ]
  },
  {
   "cell_type": "markdown",
   "metadata": {},
   "source": [
    "#### How has Airbnb grown over the last year(12/2018 - 12/2019)?"
   ]
  },
  {
   "cell_type": "markdown",
   "metadata": {},
   "source": [
    "Let's begin by taking a look at the number of unique listings per month available for rent from Airbnb hosts."
   ]
  },
  {
   "cell_type": "code",
   "execution_count": 70,
   "metadata": {},
   "outputs": [
    {
     "ename": "TypeError",
     "evalue": "'DataFrame' object is not callable",
     "output_type": "error",
     "traceback": [
      "\u001b[1;31m---------------------------------------------------------------------------\u001b[0m",
      "\u001b[1;31mTypeError\u001b[0m                                 Traceback (most recent call last)",
      "\u001b[1;32m<ipython-input-70-0a35b57add25>\u001b[0m in \u001b[0;36m<module>\u001b[1;34m\u001b[0m\n\u001b[0;32m     14\u001b[0m \u001b[1;33m\u001b[0m\u001b[0m\n\u001b[0;32m     15\u001b[0m \u001b[1;31m#Check\u001b[0m\u001b[1;33m\u001b[0m\u001b[1;33m\u001b[0m\u001b[1;33m\u001b[0m\u001b[0m\n\u001b[1;32m---> 16\u001b[1;33m \u001b[0mcalendar\u001b[0m\u001b[1;33m(\u001b[0m\u001b[1;33m)\u001b[0m\u001b[1;33m\u001b[0m\u001b[1;33m\u001b[0m\u001b[0m\n\u001b[0m",
      "\u001b[1;31mTypeError\u001b[0m: 'DataFrame' object is not callable"
     ]
    }
   ],
   "source": [
    "#Set date as index for calendar data\n",
    "calendar.set_index('date', inplace=True)\n",
    "\n",
    "#Capture appropriate dates for analysis in Calendar data\n",
    "calendar.loc['2019-12-01':'2020-01-01']\n",
    "\n",
    "# #Convert calendar to dask\n",
    "# calendar = dd.from_pandas(calendar, npartitions=3)\n",
    "\n",
    "#Extract date info from index and assign as columns\n",
    "calendar['year'] = calendar.index.year\n",
    "calendar['month'] = calendar.index.month\n",
    "calendar['weekday'] = calendar.index.weekday_name\n",
    "\n",
    "#Check\n",
    "calendar()"
   ]
  },
  {
   "cell_type": "code",
   "execution_count": null,
   "metadata": {},
   "outputs": [],
   "source": [
    "#Group last year by month_year and get a count of unique listings per day\n",
    "last_year_daily = calendar.groupby(['date'])['listing_id'].agg({'nunique'}).reset_index()"
   ]
  },
  {
   "cell_type": "code",
   "execution_count": null,
   "metadata": {},
   "outputs": [],
   "source": [
    "# #Rename columns\n",
    "last_year_daily =last_year_daily.rename(columns = {'nunique': 'listings'})"
   ]
  },
  {
   "cell_type": "code",
   "execution_count": null,
   "metadata": {},
   "outputs": [],
   "source": [
    "last_year_monthly = last_year.reset_index()\n",
    "last_year_monthly.head()"
   ]
  },
  {
   "cell_type": "code",
   "execution_count": null,
   "metadata": {},
   "outputs": [],
   "source": [
    "last_year_monthly['month_year'] = pd.to_datetime(last_year_monthly['date']).dt.to_period('M') #would this work in time series?\n",
    "last_year_monthly = last_year_monthly.groupby('month_year')['listing_id'].agg({'nunique'}).reset_index()\n",
    "\n",
    "# #Rename columns\n",
    "last_year_monthly =last_year_monthly.rename(columns = {'nunique': 'listings'})"
   ]
  },
  {
   "cell_type": "code",
   "execution_count": null,
   "metadata": {},
   "outputs": [],
   "source": [
    "#Set 538 plot style\n",
    "plt.style.use('fivethirtyeight')\n",
    "\n",
    "\n",
    "#Plot daily unique listings data\n",
    "ax = last_year_daily.plot(x='date', y='listings', kind = 'line',style='o-', markersize=.5,\n",
    "          label= 'Daily Unique Listings',figsize = (15,10),\n",
    "         linewidth = 1.5)\n",
    " \n",
    "#plot montly average\n",
    "last_year_monthly.plot(x='month_year', y='listings',kind = 'line',style='o-', markersize= 10,\n",
    "          label= 'Monthly Unique Listings',\n",
    "         linewidth = 1.5 , ax=ax)\n",
    "\n",
    "#Set fontdict\n",
    "fontdict={'weight' : 'bold',\n",
    "          'size': 17}\n",
    "\n",
    "#Set x and y labels\n",
    "ax.set_xlabel('Month',fontdict=fontdict)\n",
    "ax.set_ylabel('Count', fontdict=fontdict)\n",
    "\n",
    "#Format yticks\n",
    "ax.set_yticklabels(['{:,}'.format(int(x)) for x in ax.get_yticks().tolist()])\n",
    "\n",
    "#Set Title\n",
    "ax.set_title('Growth of Airbnb Listings in San Francisco', fontweight = 'bold', fontsize=22)\n",
    "\n",
    "#Adjust plot margins\n",
    "ax.margins(0,.12)\n",
    "\n",
    "#Mute vertical grid lines\n",
    "ax.grid(b = False, which ='major', axis = 'x')\n",
    "\n",
    "#Add Text\n",
    "xs,ys=last_year_monthly['month_year'], last_year_monthly['listings']\n",
    "\n",
    "for x,y in zip(xs,ys):\n",
    "    label = '{:,}'.format(y)\n",
    "    plt.annotate(label, (x,y),textcoords=\"offset points\",fontsize = 9, xytext=(-40,20), ha='center')\n",
    "\n",
    "#Set legend\n",
    "plt.legend(title='Legend', frameon = True, loc='upper left');"
   ]
  },
  {
   "cell_type": "markdown",
   "metadata": {},
   "source": [
    "Over the last year, there has been significant growth in the number of listings available for rent month to month. Let us look into the number of nights booked by users over the last year."
   ]
  },
  {
   "cell_type": "markdown",
   "metadata": {},
   "source": [
    "**Growth by neighborhood September 2018 - December 2019**\n",
    "\n",
    "We'll merge our calendar data with listings data to capture neighborhood data"
   ]
  },
  {
   "cell_type": "code",
   "execution_count": null,
   "metadata": {},
   "outputs": [],
   "source": []
  },
  {
   "cell_type": "code",
   "execution_count": null,
   "metadata": {},
   "outputs": [],
   "source": [
    "#Convert calendar to dask to improve speed on merge\n",
    "calendar_dd = dd.from_pandas(calendar, npartitions=3)\n"
   ]
  },
  {
   "cell_type": "code",
   "execution_count": null,
   "metadata": {},
   "outputs": [],
   "source": [
    "#capture listing id and neighbourhood_cleansed from listings for merge\n",
    "neighborhoods = listings[['id', 'neighbourhood_cleansed']]\n",
    "\n",
    "calendar_dd = calendar_dd.reset_index()\n",
    "\n",
    "#Merge with calendar_dd\n",
    "neighborhood_growth = calendar_dd.merge(neighborhoods, left_on ='listing_id', right_on='id')\n",
    "\n",
    "#Drop redundant columnsa\n",
    "neighborhood_growth= neighborhood_growth.drop(columns = ['id'])"
   ]
  },
  {
   "cell_type": "code",
   "execution_count": null,
   "metadata": {},
   "outputs": [],
   "source": [
    "neighborhood_growth=neighborhood_growth[(neighborhood_growth['date'] < '2020-01-01')]\n",
    "\n",
    "#convert to pandas\n",
    "neighborhood_growth_pd = neighborhood_growth.compute()\n",
    "\n",
    "#Group last year by month_year and get a count of unique listings per month\n",
    "neighborhood_growth_pd = neighborhood_growth_pd.groupby(['neighbourhood_cleansed', 'year', 'month'])['listing_id'].agg({'nunique'}).reset_index()\n",
    "\n",
    "#Rename columns\n",
    "neighborhood_growth_pd =neighborhood_growth_pd.rename(columns = {'neighbourhood_cleansed': 'neighborhoods',\n",
    "                                                                 'nunique': 'listings'})"
   ]
  },
  {
   "cell_type": "code",
   "execution_count": null,
   "metadata": {},
   "outputs": [],
   "source": [
    "neighborhood_growth_pd = neighborhood_growth_pd.sort_values(by=['year','month', 'listings'], ascending=False)"
   ]
  },
  {
   "cell_type": "code",
   "execution_count": null,
   "metadata": {},
   "outputs": [],
   "source": [
    "#Set fig size\n",
    "f, ax = plt.subplots(figsize = (6,15))\n",
    "\n",
    "#set style and color_pallete\n",
    "sns.set(style='whitegrid')\n",
    "\n",
    "#Set color codes for modern data\n",
    "sns.set_color_codes('pastel')\n",
    "\n",
    "#plot data from \n",
    "j = sns.barplot(x = 'listings', y = 'neighborhoods', color = 'b',\n",
    "            data = neighborhood_growth_pd.loc[(neighborhood_growth_pd.month == 12 ) & \n",
    "                                         (neighborhood_growth_pd.year == 2019)],\n",
    "                label = 'December 2019')\n",
    "\n",
    "#Set color codes for older data\n",
    "sns.set_color_codes('dark')\n",
    "\n",
    "#Plot data from 2018-09\n",
    "g = sns.barplot(x = 'listings', y = 'neighborhoods', color = 'b',\n",
    "            data = neighborhood_growth_pd.loc[(neighborhood_growth_pd.month == 12 ) & \n",
    "                                         (neighborhood_growth_pd.year == 2018)],\n",
    "                label = 'December 2018')\n",
    "\n",
    "#Set legend info\n",
    "ax.legend(frameon = True, ncol = 2, loc= 'lower center');\n",
    "\n",
    "#Set Labels\n",
    "ax.set(ylabel=\"\", xlabel=\"Airbnb Listings\")\n",
    "ax.set_title('Explosion of Airbnb', fontweight = 'bold', fontsize = 18)\n",
    "\n",
    "\n",
    "sns.despine(left=True, bottom=True)\n"
   ]
  },
  {
   "cell_type": "markdown",
   "metadata": {},
   "source": [
    "**Prices by property type**\n"
   ]
  },
  {
   "cell_type": "code",
   "execution_count": null,
   "metadata": {},
   "outputs": [],
   "source": [
    "#Set 538 plot style\n",
    "plt.style.use('ggplot')\n",
    "\n",
    "#Counts of property types\n",
    "prop_count = listings.groupby('property_type')['id'].count().sort_values(ascending = False).reset_index()\n",
    "prop_count.plot(x = 'property_type', y = 'id', kind = 'bar')"
   ]
  },
  {
   "cell_type": "code",
   "execution_count": null,
   "metadata": {},
   "outputs": [],
   "source": [
    "#Get top 15 common prop types\n",
    "prop_list=list(prop_count.property_type.head(15))\n",
    "\n",
    "#sort top 15 by median value\n",
    "test = listings[listings.property_type.isin(prop_list)].groupby('property_type')['price'].median().sort_values(ascending = False).reset_index()"
   ]
  },
  {
   "cell_type": "code",
   "execution_count": null,
   "metadata": {},
   "outputs": [],
   "source": [
    "test_list = test.property_type.tolist()"
   ]
  },
  {
   "cell_type": "code",
   "execution_count": null,
   "metadata": {},
   "outputs": [],
   "source": [
    "#Set 538 plot style\n",
    "plt.style.use('fivethirtyeight')\n",
    "\n",
    "#Set Figure\n",
    "f, ax = plt.subplots(figsize= (10,5))\n",
    "\n",
    "#Plot\n",
    "g= sns.boxplot(x=\"property_type\", y=\"price\", order=test_list, \n",
    "               width = .4,palette=sns.light_palette((210, 90, 60), input=\"husl\"),\n",
    "             data=listings[listings.property_type.isin(test_list)], ax=ax)\n",
    "\n",
    "#Set Title\n",
    "ax.set_title('15 Most common properties with listing price', fontweight = 'bold', fontsize=22)\n",
    "\n",
    "#Set x and y Labels\n",
    "ax.set_ylabel('Price per Night($)',fontdict=fontdict)\n",
    "ax.set_xlabel('Property Type',fontdict=fontdict)\n",
    "\n",
    "#Rotate x_ticklabels\n",
    "g.set_xticklabels(g.get_xticklabels(), rotation=45, horizontalalignment='right');\n",
    "\n",
    "#Format ticks on y-axis"
   ]
  },
  {
   "cell_type": "markdown",
   "metadata": {},
   "source": [
    "**Heat map**"
   ]
  },
  {
   "cell_type": "code",
   "execution_count": null,
   "metadata": {},
   "outputs": [],
   "source": [
    "corr = listings.corr()\n",
    "plt.figure(figsize=(15, 15))\n",
    "ax = sns.heatmap(\n",
    "    corr, \n",
    "    vmin=-1, vmax=1, center=0,linewidths=.1,\n",
    "    cmap=sns.diverging_palette(20, 220, n=200),\n",
    "    square=True\n",
    ")\n",
    "ax.set_xticklabels(\n",
    "    ax.get_xticklabels(),\n",
    "    rotation=45,\n",
    "    horizontalalignment='right'\n",
    ");"
   ]
  },
  {
   "cell_type": "code",
   "execution_count": null,
   "metadata": {},
   "outputs": [],
   "source": []
  },
  {
   "cell_type": "markdown",
   "metadata": {},
   "source": [
    "# Zillow"
   ]
  },
  {
   "cell_type": "code",
   "execution_count": 41,
   "metadata": {},
   "outputs": [],
   "source": [
    "zillow.set_index(keys = 'Date', inplace=True)"
   ]
  },
  {
   "cell_type": "code",
   "execution_count": 42,
   "metadata": {},
   "outputs": [],
   "source": [
    "zillow['Year'] = zillow.index.year\n",
    "zillow['Month'] = zillow.index.month\n",
    "zillow['Weekday_Name'] = zillow.index.weekday_name"
   ]
  },
  {
   "cell_type": "code",
   "execution_count": 43,
   "metadata": {},
   "outputs": [
    {
     "data": {
      "text/html": [
       "<div>\n",
       "<style scoped>\n",
       "    .dataframe tbody tr th:only-of-type {\n",
       "        vertical-align: middle;\n",
       "    }\n",
       "\n",
       "    .dataframe tbody tr th {\n",
       "        vertical-align: top;\n",
       "    }\n",
       "\n",
       "    .dataframe thead th {\n",
       "        text-align: right;\n",
       "    }\n",
       "</style>\n",
       "<table border=\"1\" class=\"dataframe\">\n",
       "  <thead>\n",
       "    <tr style=\"text-align: right;\">\n",
       "      <th></th>\n",
       "      <th>City</th>\n",
       "      <th>County</th>\n",
       "      <th>Metro</th>\n",
       "      <th>Zip</th>\n",
       "      <th>State</th>\n",
       "      <th>SizeRank</th>\n",
       "      <th>Bedrooms</th>\n",
       "      <th>Median_Rent</th>\n",
       "      <th>Year</th>\n",
       "      <th>Month</th>\n",
       "      <th>Weekday_Name</th>\n",
       "    </tr>\n",
       "    <tr>\n",
       "      <th>Date</th>\n",
       "      <th></th>\n",
       "      <th></th>\n",
       "      <th></th>\n",
       "      <th></th>\n",
       "      <th></th>\n",
       "      <th></th>\n",
       "      <th></th>\n",
       "      <th></th>\n",
       "      <th></th>\n",
       "      <th></th>\n",
       "      <th></th>\n",
       "    </tr>\n",
       "  </thead>\n",
       "  <tbody>\n",
       "    <tr>\n",
       "      <th>2010-03-01</th>\n",
       "      <td>Virginia Beach</td>\n",
       "      <td>Virginia Beach City</td>\n",
       "      <td>Virginia Beach-Norfolk-Newport News</td>\n",
       "      <td>23462</td>\n",
       "      <td>VA</td>\n",
       "      <td>83</td>\n",
       "      <td>3</td>\n",
       "      <td>1200</td>\n",
       "      <td>2010</td>\n",
       "      <td>3</td>\n",
       "      <td>Monday</td>\n",
       "    </tr>\n",
       "    <tr>\n",
       "      <th>2010-04-01</th>\n",
       "      <td>Virginia Beach</td>\n",
       "      <td>Virginia Beach City</td>\n",
       "      <td>Virginia Beach-Norfolk-Newport News</td>\n",
       "      <td>23462</td>\n",
       "      <td>VA</td>\n",
       "      <td>83</td>\n",
       "      <td>3</td>\n",
       "      <td>1250</td>\n",
       "      <td>2010</td>\n",
       "      <td>4</td>\n",
       "      <td>Thursday</td>\n",
       "    </tr>\n",
       "    <tr>\n",
       "      <th>2010-05-01</th>\n",
       "      <td>Virginia Beach</td>\n",
       "      <td>Virginia Beach City</td>\n",
       "      <td>Virginia Beach-Norfolk-Newport News</td>\n",
       "      <td>23462</td>\n",
       "      <td>VA</td>\n",
       "      <td>83</td>\n",
       "      <td>3</td>\n",
       "      <td>1200</td>\n",
       "      <td>2010</td>\n",
       "      <td>5</td>\n",
       "      <td>Saturday</td>\n",
       "    </tr>\n",
       "    <tr>\n",
       "      <th>2010-06-01</th>\n",
       "      <td>Virginia Beach</td>\n",
       "      <td>Virginia Beach City</td>\n",
       "      <td>Virginia Beach-Norfolk-Newport News</td>\n",
       "      <td>23462</td>\n",
       "      <td>VA</td>\n",
       "      <td>83</td>\n",
       "      <td>3</td>\n",
       "      <td>1250</td>\n",
       "      <td>2010</td>\n",
       "      <td>6</td>\n",
       "      <td>Tuesday</td>\n",
       "    </tr>\n",
       "    <tr>\n",
       "      <th>2010-07-01</th>\n",
       "      <td>Virginia Beach</td>\n",
       "      <td>Virginia Beach City</td>\n",
       "      <td>Virginia Beach-Norfolk-Newport News</td>\n",
       "      <td>23462</td>\n",
       "      <td>VA</td>\n",
       "      <td>83</td>\n",
       "      <td>3</td>\n",
       "      <td>1225</td>\n",
       "      <td>2010</td>\n",
       "      <td>7</td>\n",
       "      <td>Thursday</td>\n",
       "    </tr>\n",
       "  </tbody>\n",
       "</table>\n",
       "</div>"
      ],
      "text/plain": [
       "                      City               County  \\\n",
       "Date                                              \n",
       "2010-03-01  Virginia Beach  Virginia Beach City   \n",
       "2010-04-01  Virginia Beach  Virginia Beach City   \n",
       "2010-05-01  Virginia Beach  Virginia Beach City   \n",
       "2010-06-01  Virginia Beach  Virginia Beach City   \n",
       "2010-07-01  Virginia Beach  Virginia Beach City   \n",
       "\n",
       "                                          Metro    Zip State  SizeRank  \\\n",
       "Date                                                                     \n",
       "2010-03-01  Virginia Beach-Norfolk-Newport News  23462    VA        83   \n",
       "2010-04-01  Virginia Beach-Norfolk-Newport News  23462    VA        83   \n",
       "2010-05-01  Virginia Beach-Norfolk-Newport News  23462    VA        83   \n",
       "2010-06-01  Virginia Beach-Norfolk-Newport News  23462    VA        83   \n",
       "2010-07-01  Virginia Beach-Norfolk-Newport News  23462    VA        83   \n",
       "\n",
       "            Bedrooms  Median_Rent  Year  Month Weekday_Name  \n",
       "Date                                                         \n",
       "2010-03-01         3         1200  2010      3       Monday  \n",
       "2010-04-01         3         1250  2010      4     Thursday  \n",
       "2010-05-01         3         1200  2010      5     Saturday  \n",
       "2010-06-01         3         1250  2010      6      Tuesday  \n",
       "2010-07-01         3         1225  2010      7     Thursday  "
      ]
     },
     "execution_count": 43,
     "metadata": {},
     "output_type": "execute_result"
    }
   ],
   "source": [
    "zillow.head()"
   ]
  },
  {
   "cell_type": "markdown",
   "metadata": {},
   "source": [
    "# Time Series Analysis"
   ]
  },
  {
   "cell_type": "markdown",
   "metadata": {},
   "source": [
    "For this analysis, we will isolate the rows in our Zillow data that are in the zipcode or city of the listings data."
   ]
  },
  {
   "cell_type": "code",
   "execution_count": 44,
   "metadata": {},
   "outputs": [
    {
     "name": "stdout",
     "output_type": "stream",
     "text": [
      "(2015, 11)\n"
     ]
    },
    {
     "data": {
      "text/html": [
       "<div>\n",
       "<style scoped>\n",
       "    .dataframe tbody tr th:only-of-type {\n",
       "        vertical-align: middle;\n",
       "    }\n",
       "\n",
       "    .dataframe tbody tr th {\n",
       "        vertical-align: top;\n",
       "    }\n",
       "\n",
       "    .dataframe thead th {\n",
       "        text-align: right;\n",
       "    }\n",
       "</style>\n",
       "<table border=\"1\" class=\"dataframe\">\n",
       "  <thead>\n",
       "    <tr style=\"text-align: right;\">\n",
       "      <th></th>\n",
       "      <th>City</th>\n",
       "      <th>County</th>\n",
       "      <th>Metro</th>\n",
       "      <th>Zip</th>\n",
       "      <th>State</th>\n",
       "      <th>SizeRank</th>\n",
       "      <th>Bedrooms</th>\n",
       "      <th>Median_Rent</th>\n",
       "      <th>Year</th>\n",
       "      <th>Month</th>\n",
       "      <th>Weekday_Name</th>\n",
       "    </tr>\n",
       "    <tr>\n",
       "      <th>Date</th>\n",
       "      <th></th>\n",
       "      <th></th>\n",
       "      <th></th>\n",
       "      <th></th>\n",
       "      <th></th>\n",
       "      <th></th>\n",
       "      <th></th>\n",
       "      <th></th>\n",
       "      <th></th>\n",
       "      <th></th>\n",
       "      <th></th>\n",
       "    </tr>\n",
       "  </thead>\n",
       "  <tbody>\n",
       "    <tr>\n",
       "      <th>2019-11-01</th>\n",
       "      <td>San Francisco</td>\n",
       "      <td>San Francisco</td>\n",
       "      <td>San Francisco-Oakland-Hayward</td>\n",
       "      <td>94105</td>\n",
       "      <td>CA</td>\n",
       "      <td>2269</td>\n",
       "      <td>2</td>\n",
       "      <td>5800</td>\n",
       "      <td>2019</td>\n",
       "      <td>11</td>\n",
       "      <td>Friday</td>\n",
       "    </tr>\n",
       "    <tr>\n",
       "      <th>2019-11-01</th>\n",
       "      <td>Sausalito</td>\n",
       "      <td>Marin</td>\n",
       "      <td>San Francisco-Oakland-Hayward</td>\n",
       "      <td>94965</td>\n",
       "      <td>CA</td>\n",
       "      <td>2434</td>\n",
       "      <td>2</td>\n",
       "      <td>3650</td>\n",
       "      <td>2019</td>\n",
       "      <td>11</td>\n",
       "      <td>Friday</td>\n",
       "    </tr>\n",
       "    <tr>\n",
       "      <th>2019-11-01</th>\n",
       "      <td>San Francisco</td>\n",
       "      <td>San Francisco</td>\n",
       "      <td>San Francisco-Oakland-Hayward</td>\n",
       "      <td>94158</td>\n",
       "      <td>CA</td>\n",
       "      <td>2477</td>\n",
       "      <td>2</td>\n",
       "      <td>5288</td>\n",
       "      <td>2019</td>\n",
       "      <td>11</td>\n",
       "      <td>Friday</td>\n",
       "    </tr>\n",
       "    <tr>\n",
       "      <th>2019-11-01</th>\n",
       "      <td>San Francisco</td>\n",
       "      <td>San Francisco</td>\n",
       "      <td>San Francisco-Oakland-Hayward</td>\n",
       "      <td>94110</td>\n",
       "      <td>CA</td>\n",
       "      <td>82</td>\n",
       "      <td>3</td>\n",
       "      <td>5575</td>\n",
       "      <td>2019</td>\n",
       "      <td>11</td>\n",
       "      <td>Friday</td>\n",
       "    </tr>\n",
       "    <tr>\n",
       "      <th>2019-11-01</th>\n",
       "      <td>San Francisco</td>\n",
       "      <td>San Francisco</td>\n",
       "      <td>San Francisco-Oakland-Hayward</td>\n",
       "      <td>94115</td>\n",
       "      <td>CA</td>\n",
       "      <td>518</td>\n",
       "      <td>3</td>\n",
       "      <td>6500</td>\n",
       "      <td>2019</td>\n",
       "      <td>11</td>\n",
       "      <td>Friday</td>\n",
       "    </tr>\n",
       "  </tbody>\n",
       "</table>\n",
       "</div>"
      ],
      "text/plain": [
       "                     City          County                          Metro  \\\n",
       "Date                                                                       \n",
       "2019-11-01  San Francisco  San Francisco   San Francisco-Oakland-Hayward   \n",
       "2019-11-01      Sausalito          Marin   San Francisco-Oakland-Hayward   \n",
       "2019-11-01  San Francisco  San Francisco   San Francisco-Oakland-Hayward   \n",
       "2019-11-01  San Francisco  San Francisco   San Francisco-Oakland-Hayward   \n",
       "2019-11-01  San Francisco  San Francisco   San Francisco-Oakland-Hayward   \n",
       "\n",
       "              Zip State  SizeRank  Bedrooms  Median_Rent  Year  Month  \\\n",
       "Date                                                                    \n",
       "2019-11-01  94105    CA      2269         2         5800  2019     11   \n",
       "2019-11-01  94965    CA      2434         2         3650  2019     11   \n",
       "2019-11-01  94158    CA      2477         2         5288  2019     11   \n",
       "2019-11-01  94110    CA        82         3         5575  2019     11   \n",
       "2019-11-01  94115    CA       518         3         6500  2019     11   \n",
       "\n",
       "           Weekday_Name  \n",
       "Date                     \n",
       "2019-11-01       Friday  \n",
       "2019-11-01       Friday  \n",
       "2019-11-01       Friday  \n",
       "2019-11-01       Friday  \n",
       "2019-11-01       Friday  "
      ]
     },
     "metadata": {},
     "output_type": "display_data"
    }
   ],
   "source": [
    "#Capture zip information from listings\n",
    "listings_zip = list(listings.zipcode.unique())\n",
    "\n",
    "#Capture city information from listings \n",
    "listings_cities = list(listings.city.unique())\n",
    "\n",
    "#Capture SF Data\n",
    "sf_zillow = zillow[zillow['Zip'].isin(listings_zip) | zillow['City'].isin(listings_cities)]\n",
    "\n",
    "#Check\n",
    "print(sf_zillow.shape)\n",
    "display(sf_zillow.tail())"
   ]
  },
  {
   "cell_type": "code",
   "execution_count": null,
   "metadata": {},
   "outputs": [
    {
     "data": {
      "text/plain": [
       "<matplotlib.axes._subplots.AxesSubplot at 0x2002399bf60>"
      ]
     },
     "execution_count": 45,
     "metadata": {},
     "output_type": "execute_result"
    }
   ],
   "source": [
    "#SF vs rest of US Rent\n",
    "\n",
    "plt.style.use('ggplot')\n",
    "\n",
    "fig, ax = plt.subplots(figsize = (12,5))\n",
    "sf_zillow.groupby('Date')['Median_Rent'].mean().plot(kind = 'line')\n",
    "\n",
    "zillow.loc['2011-09-01':'2019-11-01'].groupby(['Date'])['Median_Rent'].mean().plot(x_compat=True, kind = 'line', color= 'g')#green\n",
    "\n",
    "\n",
    "#We also noted each state's region size ranking, which represents how big it is population-wise;\n",
    "#California is ranked No. 1 with the largest population of all states, while Wyoming is ranked No. 51\n",
    "zillow[zillow.SizeRank < 10].loc['2011-09-01':'2019-11-01'].groupby(['Date'])['Median_Rent'].mean().plot(x_compat=True, kind = 'line')"
   ]
  },
  {
   "cell_type": "markdown",
   "metadata": {},
   "source": [
    "Airbnb monthly rent vs bay area rent "
   ]
  },
  {
   "cell_type": "code",
   "execution_count": null,
   "metadata": {},
   "outputs": [],
   "source": [
    "#Capture id and monthly_price from listings data for merge with calendar data\n",
    "to_merge = listings[['id','monthly_price']]\n",
    "\n"
   ]
  },
  {
   "cell_type": "code",
   "execution_count": null,
   "metadata": {},
   "outputs": [],
   "source": [
    "monthly_listings_dd = calendar_dd.merge(to_merge, left_on='listing_id', right_on='id')"
   ]
  },
  {
   "cell_type": "code",
   "execution_count": null,
   "metadata": {},
   "outputs": [],
   "source": [
    "monthly_listings = monthly_listings_dd.compute()"
   ]
  },
  {
   "cell_type": "code",
   "execution_count": null,
   "metadata": {},
   "outputs": [],
   "source": [
    "test_pd=test_pd[-test_pd.monthly_price.isna()]\n",
    "\n",
    "test_pd.drop_duplicates(inplace = True)"
   ]
  },
  {
   "cell_type": "code",
   "execution_count": null,
   "metadata": {},
   "outputs": [],
   "source": [
    "#Convert date to month-year format\n",
    "test_pd\n",
    "#test_pd['date'] = pd.to_datetime(test_pd['date']).dt.to_period('M')"
   ]
  },
  {
   "cell_type": "code",
   "execution_count": null,
   "metadata": {},
   "outputs": [],
   "source": [
    "test_pd.set_index('date', inplace=True)"
   ]
  },
  {
   "cell_type": "code",
   "execution_count": null,
   "metadata": {},
   "outputs": [],
   "source": [
    "test_pd.sort_index(inplace=True)"
   ]
  },
  {
   "cell_type": "code",
   "execution_count": null,
   "metadata": {},
   "outputs": [],
   "source": [
    "test_pd['Year'] = test_pd.index.year\n",
    "test_pd['Month'] = test_pd.index.month\n",
    "test_pd['Weekday Name'] = test_pd.index.weekday_name"
   ]
  },
  {
   "cell_type": "code",
   "execution_count": null,
   "metadata": {},
   "outputs": [],
   "source": [
    "test_pd.head()"
   ]
  },
  {
   "cell_type": "code",
   "execution_count": null,
   "metadata": {},
   "outputs": [],
   "source": [
    "test_pd.loc['2018-09':'2019-12'].groupby('date')['monthly_price'].mean().plot()"
   ]
  },
  {
   "cell_type": "code",
   "execution_count": null,
   "metadata": {},
   "outputs": [],
   "source": [
    "sf_zillow.loc['2018-09':'2019-12'].groupby(['Date'])['Median_Rent'].mean().plot(kind = 'line')"
   ]
  },
  {
   "cell_type": "code",
   "execution_count": null,
   "metadata": {},
   "outputs": [],
   "source": [
    "#test_pd.loc['2018-09':'2019-12'].groupby('date')['monthly_price'].mean().plot(kind = 'box')\n",
    "sns.boxplot(x='Month', y = 'monthly_price', data = test_pd)"
   ]
  },
  {
   "cell_type": "code",
   "execution_count": null,
   "metadata": {},
   "outputs": [],
   "source": [
    "sf_zillow.tail()"
   ]
  },
  {
   "cell_type": "code",
   "execution_count": null,
   "metadata": {},
   "outputs": [],
   "source": [
    "calendar.head()"
   ]
  },
  {
   "cell_type": "markdown",
   "metadata": {},
   "source": [
    "* Comparing monthly rent of airbnb to zillow"
   ]
  },
  {
   "cell_type": "code",
   "execution_count": null,
   "metadata": {},
   "outputs": [],
   "source": [
    "listings.head(2)"
   ]
  },
  {
   "cell_type": "raw",
   "metadata": {},
   "source": [
    "airbnb rent over last eyar vs zillow?\n",
    "factor by bedroom?"
   ]
  },
  {
   "cell_type": "code",
   "execution_count": null,
   "metadata": {},
   "outputs": [],
   "source": [
    "#test = sf_zillow.groupby(['Bedrooms', 'Date'])['Median_Rent'].mean().reset_index()\n",
    "fig, ax = plt.subplots(figsize=(10,5))\n",
    "\n",
    "sf_zillow.groupby(\"Bedrooms\")['Median_Rent'].plot(kind=\"line\", ax=ax)\n",
    "plt.legend(title='Bedrooms', frameon = True, loc='upper right', labels=['studio', 'single','two','three'])\n"
   ]
  },
  {
   "cell_type": "code",
   "execution_count": null,
   "metadata": {},
   "outputs": [],
   "source": []
  },
  {
   "cell_type": "markdown",
   "metadata": {},
   "source": [
    "# Other variables and relationships worth exploring"
   ]
  },
  {
   "cell_type": "markdown",
   "metadata": {},
   "source": [
    "### Principal Component Analysis"
   ]
  },
  {
   "cell_type": "code",
   "execution_count": null,
   "metadata": {},
   "outputs": [],
   "source": []
  }
 ],
 "metadata": {
  "kernelspec": {
   "display_name": "Python 3",
   "language": "python",
   "name": "python3"
  },
  "language_info": {
   "codemirror_mode": {
    "name": "ipython",
    "version": 3
   },
   "file_extension": ".py",
   "mimetype": "text/x-python",
   "name": "python",
   "nbconvert_exporter": "python",
   "pygments_lexer": "ipython3",
   "version": "3.7.3"
  }
 },
 "nbformat": 4,
 "nbformat_minor": 4
}
