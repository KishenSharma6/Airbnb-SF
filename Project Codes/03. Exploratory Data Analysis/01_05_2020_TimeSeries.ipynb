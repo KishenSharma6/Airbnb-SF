{
 "cells": [
  {
   "cell_type": "markdown",
   "metadata": {},
   "source": [
    "# Introduction\n",
    "\n",
    "In the following notebook, I will be performing an EDA of some Airbnb data in the San Francisco area. This data pertains to the last calendar year, which at the time of this analysis would be December 2018 - December 2019.\n",
    "\n",
    "In the following analysis, I will be looking to explore the data and answer the following questions:\n",
    "\n",
    "\n",
    "- What are some of the seasonal Airbnb trends you've noticed in the San Francisco area? When are the down months over the last year? Which months are the most busy? Which areas were the most popular during these times? How have prices changed over time?\n",
    "- Are airbnb's that are available for monthly rent competitive with the local markets?\n",
    "\n",
    "\n",
    "*GitHub Repo References*\n",
    "The raw data files can be found [here](https://github.com/KishenSharma6/Airbnb-SF_ML_-_Text_Analysis/tree/master/Data/01_Raw).\n",
    "\n",
    "The raw data aggregation scripts can be found [here](https://github.com/KishenSharma6/Airbnb-SF_ML_-_Text_Analysis/tree/master/Project%20Codes/01.%20Raw%20Data%20Aggregation%20Scripts).\n",
    "\n",
    "The data cleaning scripts used to tidy the raw data aggregation can be found [here](https://github.com/KishenSharma6/Airbnb-SF_ML_-_Text_Analysis/tree/master/Project%20Codes/02.%20Data%20Cleaning%20Scripts)."
   ]
  },
  {
   "cell_type": "code",
   "execution_count": null,
   "metadata": {},
   "outputs": [],
   "source": [
    "#Read in libraries\n",
    "import dask.dataframe as dd\n",
    "import swifter\n",
    "\n",
    "import pandas as pd\n",
    "import pandas_profiling\n",
    "\n",
    "import re\n",
    "\n",
    "import numpy as np\n",
    "from scipy import stats\n",
    "\n",
    "import matplotlib.pyplot as plt\n",
    "import seaborn as sns"
   ]
  },
  {
   "cell_type": "code",
   "execution_count": null,
   "metadata": {},
   "outputs": [],
   "source": [
    "#supress future warnings\n",
    "import warnings\n",
    "warnings.simplefilter(action='ignore', category=FutureWarning)"
   ]
  },
  {
   "cell_type": "code",
   "execution_count": null,
   "metadata": {},
   "outputs": [],
   "source": [
    "#Set plot aesthetics for notebook\n",
    "sns.set(style='whitegrid', palette='pastel', color_codes=True)\n",
    "\n",
    "#Increase number of columns and rows displayed by Pandas\n",
    "pd.set_option('display.max_columns', 500)\n",
    "pd.set_option('display.max_rows',100)\n",
    "\n",
    "#Set float format\n",
    "pd.options.display.float_format = '{:.0f}'.format\n",
    "\n",
    "#Ignore warnings\n",
    "import warnings; warnings.simplefilter('ignore')"
   ]
  },
  {
   "cell_type": "markdown",
   "metadata": {},
   "source": [
    "**Read in Data**"
   ]
  },
  {
   "cell_type": "code",
   "execution_count": null,
   "metadata": {},
   "outputs": [],
   "source": [
    "path = r'C:\\Users\\kishe\\Documents\\Data Science\\Projects\\Python Projects\\In Progress\\Air BnB - SF\\Data\\02_Intermediate/'"
   ]
  },
  {
   "cell_type": "code",
   "execution_count": null,
   "metadata": {},
   "outputs": [],
   "source": [
    "#Read in Airbnb Listings Data\n",
    "listings = pd.read_csv(path + '01_04_2020_Listings_Cleaned.csv',index_col=0, low_memory=True, sep=',')\n",
    "\n",
    "#Read in Airbnb Calendar and Reviews data\n",
    "calendar = pd.read_csv(path + '01_04_2020_Calendar_Cleaned.csv', sep = ',',\n",
    "                       parse_dates=['date'], low_memory=True,index_col=0)"
   ]
  },
  {
   "cell_type": "code",
   "execution_count": null,
   "metadata": {},
   "outputs": [],
   "source": [
    "#Read in Zillow data\n",
    "zillow = pd.read_csv(path + '12_29_2019_Zillow_Cleaned.csv', parse_dates=['Date'],\n",
    "                     index_col=0, sep=',')"
   ]
  },
  {
   "cell_type": "markdown",
   "metadata": {},
   "source": [
    "# Zillow"
   ]
  },
  {
   "cell_type": "markdown",
   "metadata": {},
   "source": [
    "#### How has Airbnb grown over the last year(12/2018 - 12/2019)?"
   ]
  },
  {
   "cell_type": "markdown",
   "metadata": {},
   "source": [
    "Let's begin by taking a look at the number of unique listings per day, week, and month available for rent from Airbnb hosts."
   ]
  },
  {
   "cell_type": "code",
   "execution_count": null,
   "metadata": {},
   "outputs": [],
   "source": [
    "calendar['month_year'] = pd.to_datetime(calendar['date']).dt.to_period('M')\n",
    "#Set date as index for calendar data\n",
    "calendar.set_index('date', inplace=True)\n",
    "\n",
    "#Capture appropriate dates for analysis in Calendar data\n",
    "calendar= calendar.loc['2018-12-01':'2020-01-01']\n",
    "\n",
    "# #Convert calendar to dask\n",
    "# calendar = dd.from_pandas(calendar, npartitions=3)\n",
    "\n",
    "#Extract date info from index and assign as columns\n",
    "calendar['year'] = calendar.index.year\n",
    "calendar['month'] = calendar.index.month\n",
    "calendar['weekday'] = calendar.index.weekday_name\n",
    "\n",
    "#Check\n",
    "calendar.head()"
   ]
  },
  {
   "cell_type": "code",
   "execution_count": null,
   "metadata": {},
   "outputs": [],
   "source": [
    "#Group last year by month_year and get a count of unique listings per day\n",
    "last_year_daily = calendar.groupby(['date'])['listing_id'].agg({'nunique'}).reset_index()\n",
    "\n",
    "#Rename columns\n",
    "last_year_daily =last_year_daily.rename(columns = {'nunique': 'listings'})"
   ]
  },
  {
   "cell_type": "code",
   "execution_count": null,
   "metadata": {},
   "outputs": [],
   "source": [
    "#Weekly listings\n",
    "print(last_year_daily.shape)\n",
    "last_year_daily.head()"
   ]
  },
  {
   "cell_type": "code",
   "execution_count": null,
   "metadata": {},
   "outputs": [],
   "source": [
    "rolling_mean=last_year_daily.rolling(window=7,min_periods=1).mean()\n",
    "rolling_mean = rolling_mean.rename(columns={'listings':'rolling_wk_avg'})"
   ]
  },
  {
   "cell_type": "code",
   "execution_count": null,
   "metadata": {},
   "outputs": [],
   "source": [
    "rolling_mean.head()"
   ]
  },
  {
   "cell_type": "code",
   "execution_count": null,
   "metadata": {},
   "outputs": [],
   "source": [
    "test= last_year_daily.join(rolling_mean)"
   ]
  },
  {
   "cell_type": "code",
   "execution_count": null,
   "metadata": {},
   "outputs": [],
   "source": [
    "test.head()"
   ]
  },
  {
   "cell_type": "code",
   "execution_count": null,
   "metadata": {},
   "outputs": [],
   "source": [
    "test = test.drop(columns='listings')"
   ]
  },
  {
   "cell_type": "code",
   "execution_count": null,
   "metadata": {},
   "outputs": [],
   "source": [
    "#Capture unique listings a month\n",
    "last_year_monthly = calendar.groupby(['month_year'])['listing_id'].agg({'nunique'}).reset_index()\n",
    "\n",
    "#Rename columns\n",
    "last_year_monthly =last_year_monthly.rename(columns = {'nunique': 'listings'})"
   ]
  },
  {
   "cell_type": "code",
   "execution_count": null,
   "metadata": {},
   "outputs": [],
   "source": [
    "#Set 538 plot style\n",
    "plt.style.use('fivethirtyeight')\n",
    "\n",
    "#Plot daily unique listings data\n",
    "ax = last_year_daily.plot(x='date', y='listings', kind = 'line',style='o-', markersize=.5,\n",
    "          label= 'Daily Unique Listings',figsize = (15,10),\n",
    "         linewidth = 1.5)\n",
    "\n",
    "test.plot(x='date', y='rolling_wk_avg', kind = 'line',style='o-', markersize=.5,\n",
    "          label= 'Weekly Unique Listings',figsize = (15,10),\n",
    "         linewidth = 1.5, ax=ax)\n",
    "\n",
    "#plot montly average\n",
    "last_year_monthly.plot(x='month_year', y='listings',kind = 'line',style='o-', markersize= 7,\n",
    "          label= 'Monthly Unique Listings', linewidth = 1.5 , ax=ax)\n",
    "\n",
    "#Set fontdict\n",
    "fontdict={'weight' : 'bold',\n",
    "          'size': 17}\n",
    "\n",
    "#Set x and y labels\n",
    "ax.set_xlabel('Month',fontdict=fontdict)\n",
    "ax.set_ylabel('Count', fontdict=fontdict)\n",
    "\n",
    "#Format yticks\n",
    "ax.set_yticklabels(['{:,}'.format(int(x)) for x in ax.get_yticks().tolist()])\n",
    "\n",
    "#Set Title\n",
    "ax.set_title('Growth of Airbnb Listings in San Francisco', fontweight = 'bold', fontsize=22)\n",
    "\n",
    "#Adjust plot margins\n",
    "ax.margins(0,.12)\n",
    "\n",
    "#Mute vertical grid lines\n",
    "ax.grid(b = False, which ='major', axis = 'x')\n",
    "\n",
    "#Add Text\n",
    "xs,ys=last_year_monthly['month_year'], last_year_monthly['listings']\n",
    "\n",
    "for x,y in zip(xs,ys):\n",
    "    label = '{:,}'.format(y)\n",
    "    plt.annotate(label, (x,y),textcoords=\"offset points\",fontsize = 9, xytext=(0,0), ha='left')\n",
    "\n",
    "#Set legend\n",
    "plt.legend(title='Legend', frameon = True, loc='upper left');"
   ]
  },
  {
   "cell_type": "markdown",
   "metadata": {},
   "source": [
    "Over the last year, there has been significant growth in the number of listings available for rent month to month. Let us look into the number of nights booked by users over the last year."
   ]
  },
  {
   "cell_type": "markdown",
   "metadata": {},
   "source": []
  },
  {
   "cell_type": "code",
   "execution_count": null,
   "metadata": {},
   "outputs": [],
   "source": [
    "#Set Date as index for zillow data\n",
    "zillow.set_index(keys = 'Date', inplace=True)"
   ]
  },
  {
   "cell_type": "code",
   "execution_count": null,
   "metadata": {},
   "outputs": [],
   "source": [
    "#Extract date info from index and assign to zillow\n",
    "zillow['Year'] = zillow.index.year\n",
    "zillow['Month'] = zillow.index.month\n",
    "zillow['Weekday_Name'] = zillow.index.weekday_name"
   ]
  },
  {
   "cell_type": "code",
   "execution_count": null,
   "metadata": {},
   "outputs": [],
   "source": [
    "zillow.head()"
   ]
  },
  {
   "cell_type": "markdown",
   "metadata": {},
   "source": [
    "# Time Series Analysis"
   ]
  },
  {
   "cell_type": "markdown",
   "metadata": {},
   "source": [
    "For this analysis, we will isolate the rows in our Zillow data that are in the zipcode or city of the listings data."
   ]
  },
  {
   "cell_type": "code",
   "execution_count": null,
   "metadata": {},
   "outputs": [],
   "source": [
    "#Capture zip information from listings\n",
    "listings_zip = list(listings.zipcode.unique())\n",
    "\n",
    "#Capture city information from listings \n",
    "listings_cities = list(listings.city.unique())\n",
    "\n",
    "#Capture SF Data\n",
    "sf_zillow = zillow[zillow['Zip'].isin(listings_zip) | zillow['City'].isin(listings_cities)]\n",
    "\n",
    "#Check\n",
    "print(sf_zillow.shape)\n",
    "display(sf_zillow.tail())"
   ]
  },
  {
   "cell_type": "code",
   "execution_count": null,
   "metadata": {},
   "outputs": [],
   "source": [
    "zillow = zillow.loc['2011-09-01':'2019-11-01']"
   ]
  },
  {
   "cell_type": "code",
   "execution_count": null,
   "metadata": {},
   "outputs": [],
   "source": [
    "#SF vs rest of US Rent\n",
    "\n",
    "plt.style.use('ggplot')\n",
    "\n",
    "fig, ax = plt.subplots(figsize = (12,5))\n",
    "sf_zillow.groupby('Date')['Median_Rent'].mean().plot(kind = 'line', color = 'r')\n",
    "\n",
    "zillow.groupby(['Date'])['Median_Rent'].mean().plot(kind = 'line', color= 'g')#natl average\n",
    "\n",
    "plt.title('Comparing rent accross the Unites states vs SF(in airbnb specofically)')\n",
    "#We also noted each state's region size ranking, which represents how big it is population-wise;\n",
    "#California is ranked No. 1 with the largest population of all states, while Wyoming is ranked No. 51\n",
    "zillow[zillow.SizeRank < 2].groupby(['Date'])['Median_Rent'].mean().plot(kind = 'line', color = 'b')#this is compared to CA\n",
    "zillow[zillow.SizeRank < 10].groupby(['Date'])['Median_Rent'].mean().plot(kind = 'line', color = 'black')#purp(top 10 largest in US)"
   ]
  },
  {
   "cell_type": "markdown",
   "metadata": {},
   "source": [
    "Airbnb monthly rent vs bay area rent "
   ]
  },
  {
   "cell_type": "code",
   "execution_count": null,
   "metadata": {},
   "outputs": [],
   "source": [
    "#Capture id and monthly_price from listings data for merge with calendar data\n",
    "listings_merge = listings[['id','monthly_price']]\n",
    "\n"
   ]
  },
  {
   "cell_type": "code",
   "execution_count": null,
   "metadata": {},
   "outputs": [],
   "source": [
    "calendar_merge = calendar[['listing_id','price','month_year','year','month']]\n",
    "calendar_merge.reset_index(inplace = True)"
   ]
  },
  {
   "cell_type": "code",
   "execution_count": null,
   "metadata": {},
   "outputs": [],
   "source": [
    "monthly_listings = calendar_merge.merge(listings_merge, left_on='listing_id', right_on='id')"
   ]
  },
  {
   "cell_type": "code",
   "execution_count": null,
   "metadata": {},
   "outputs": [],
   "source": [
    "monthly_listings=monthly_listings[-monthly_listings.monthly_price.isna()]\n",
    "\n",
    "monthly_listings.drop_duplicates(inplace = True)"
   ]
  },
  {
   "cell_type": "code",
   "execution_count": null,
   "metadata": {},
   "outputs": [],
   "source": [
    "print(monthly_listings.shape)\n",
    "monthly_listings.head()"
   ]
  },
  {
   "cell_type": "code",
   "execution_count": null,
   "metadata": {},
   "outputs": [],
   "source": [
    "#Convert date to month-year format\n",
    "test_pd\n",
    "#test_pd['date'] = pd.to_datetime(test_pd['date']).dt.to_period('M')"
   ]
  },
  {
   "cell_type": "code",
   "execution_count": null,
   "metadata": {},
   "outputs": [],
   "source": [
    "test_pd.set_index('date', inplace=True)"
   ]
  },
  {
   "cell_type": "code",
   "execution_count": null,
   "metadata": {},
   "outputs": [],
   "source": [
    "test_pd.sort_index(inplace=True)"
   ]
  },
  {
   "cell_type": "code",
   "execution_count": null,
   "metadata": {},
   "outputs": [],
   "source": [
    "test_pd['Year'] = test_pd.index.year\n",
    "test_pd['Month'] = test_pd.index.month\n",
    "test_pd['Weekday Name'] = test_pd.index.weekday_name"
   ]
  },
  {
   "cell_type": "code",
   "execution_count": null,
   "metadata": {},
   "outputs": [],
   "source": [
    "test_pd.head()"
   ]
  },
  {
   "cell_type": "code",
   "execution_count": null,
   "metadata": {},
   "outputs": [],
   "source": [
    "test_pd.loc['2018-09':'2019-12'].groupby('date')['monthly_price'].mean().plot()"
   ]
  },
  {
   "cell_type": "code",
   "execution_count": null,
   "metadata": {},
   "outputs": [],
   "source": [
    "sf_zillow.loc['2018-09':'2019-12'].groupby(['Date'])['Median_Rent'].mean().plot(kind = 'line')"
   ]
  },
  {
   "cell_type": "code",
   "execution_count": null,
   "metadata": {},
   "outputs": [],
   "source": [
    "#test_pd.loc['2018-09':'2019-12'].groupby('date')['monthly_price'].mean().plot(kind = 'box')\n",
    "sns.boxplot(x='Month', y = 'monthly_price', data = test_pd)"
   ]
  },
  {
   "cell_type": "code",
   "execution_count": null,
   "metadata": {},
   "outputs": [],
   "source": [
    "sf_zillow.tail()"
   ]
  },
  {
   "cell_type": "code",
   "execution_count": null,
   "metadata": {},
   "outputs": [],
   "source": [
    "calendar.head()"
   ]
  },
  {
   "cell_type": "markdown",
   "metadata": {},
   "source": [
    "* Comparing monthly rent of airbnb to zillow"
   ]
  },
  {
   "cell_type": "markdown",
   "metadata": {},
   "source": [
    "### Principal Component Analysis"
   ]
  },
  {
   "cell_type": "code",
   "execution_count": null,
   "metadata": {},
   "outputs": [],
   "source": []
  }
 ],
 "metadata": {
  "kernelspec": {
   "display_name": "Python 3",
   "language": "python",
   "name": "python3"
  },
  "language_info": {
   "codemirror_mode": {
    "name": "ipython",
    "version": 3
   },
   "file_extension": ".py",
   "mimetype": "text/x-python",
   "name": "python",
   "nbconvert_exporter": "python",
   "pygments_lexer": "ipython3",
   "version": "3.7.3"
  }
 },
 "nbformat": 4,
 "nbformat_minor": 4
}
