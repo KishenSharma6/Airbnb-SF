{
 "cells": [
  {
   "cell_type": "markdown",
   "metadata": {},
   "source": [
    "# Introduction\n",
    "\n",
    "In the following notebook, I will be performing an EDA of some Airbnb data in the San Francisco area. This data pertains to the last calendar year, which at the time of this analysis would be December 2018 - December 2019.\n",
    "\n",
    "In the following analysis, I will be looking to explore the data and answer the following questions:\n",
    "\n",
    "\n",
    "- What are some of the seasonal Airbnb trends you've noticed in the San Francisco area? When are the down months over the last year? Which months are the most busy? Which areas were the most popular during these times? How have prices changed over time?\n",
    "- Are airbnb's that are available for monthly rent competitive with the local markets?\n",
    "\n",
    "\n",
    "*GitHub Repo References*\n",
    "The raw data files can be found [here](https://github.com/KishenSharma6/Airbnb-SF_ML_-_Text_Analysis/tree/master/Data/01_Raw).\n",
    "\n",
    "The raw data aggregation scripts can be found [here](https://github.com/KishenSharma6/Airbnb-SF_ML_-_Text_Analysis/tree/master/Project%20Codes/01.%20Raw%20Data%20Aggregation%20Scripts).\n",
    "\n",
    "The data cleaning scripts used to tidy the raw data aggregation can be found [here](https://github.com/KishenSharma6/Airbnb-SF_ML_-_Text_Analysis/tree/master/Project%20Codes/02.%20Data%20Cleaning%20Scripts)."
   ]
  },
  {
   "cell_type": "code",
   "execution_count": 56,
   "metadata": {},
   "outputs": [],
   "source": [
    "#Read in libraries\n",
    "import dask.dataframe as dd\n",
    "import swifter\n",
    "\n",
    "import pandas as pd\n",
    "import pandas_profiling\n",
    "\n",
    "import re\n",
    "\n",
    "import numpy as np\n",
    "from scipy import stats\n",
    "\n",
    "import matplotlib.pyplot as plt\n",
    "import seaborn as sns"
   ]
  },
  {
   "cell_type": "code",
   "execution_count": 57,
   "metadata": {},
   "outputs": [],
   "source": [
    "#supress future warnings\n",
    "import warnings\n",
    "warnings.simplefilter(action='ignore', category=FutureWarning)"
   ]
  },
  {
   "cell_type": "code",
   "execution_count": 58,
   "metadata": {},
   "outputs": [],
   "source": [
    "#Set plot aesthetics for notebook\n",
    "sns.set(style='whitegrid', palette='pastel', color_codes=True)\n",
    "\n",
    "#Increase number of columns and rows displayed by Pandas\n",
    "pd.set_option('display.max_columns', 500)\n",
    "pd.set_option('display.max_rows',100)\n",
    "\n",
    "#Set float format\n",
    "pd.options.display.float_format = '{:.0f}'.format\n",
    "\n",
    "#Ignore warnings\n",
    "import warnings; warnings.simplefilter('ignore')"
   ]
  },
  {
   "cell_type": "markdown",
   "metadata": {},
   "source": [
    "**Read in Data**"
   ]
  },
  {
   "cell_type": "code",
   "execution_count": 59,
   "metadata": {},
   "outputs": [],
   "source": [
    "path = r'C:\\Users\\kishe\\Documents\\Data Science\\Projects\\Python Projects\\In Progress\\Air BnB - SF\\Data\\02_Intermediate/'"
   ]
  },
  {
   "cell_type": "code",
   "execution_count": 60,
   "metadata": {},
   "outputs": [],
   "source": [
    "#Read in Airbnb Listings Data\n",
    "listings = pd.read_csv(path + '01_04_2020_Listings_Cleaned.csv',index_col=0, low_memory=True, sep=',')\n",
    "\n",
    "#Read in Airbnb Calendar and Reviews data\n",
    "calendar = pd.read_csv(path + '01_04_2020_Calendar_Cleaned.csv', sep = ',',\n",
    "                       parse_dates=['date'], low_memory=True,index_col=0)"
   ]
  },
  {
   "cell_type": "code",
   "execution_count": 61,
   "metadata": {},
   "outputs": [],
   "source": [
    "#Read in Zillow data\n",
    "zillow = pd.read_csv(path + '12_29_2019_Zillow_Cleaned.csv', parse_dates=['Date'],\n",
    "                     index_col=0, sep=',')"
   ]
  },
  {
   "cell_type": "markdown",
   "metadata": {},
   "source": [
    "# Zillow"
   ]
  },
  {
   "cell_type": "markdown",
   "metadata": {},
   "source": [
    "#### How has Airbnb grown over the last year(12/2018 - 12/2019)?"
   ]
  },
  {
   "cell_type": "markdown",
   "metadata": {},
   "source": [
    "Let's begin by taking a look at the number of unique listings per day, week, and month available for rent from Airbnb hosts."
   ]
  },
  {
   "cell_type": "code",
   "execution_count": 62,
   "metadata": {},
   "outputs": [
    {
     "data": {
      "text/html": [
       "<div>\n",
       "<style scoped>\n",
       "    .dataframe tbody tr th:only-of-type {\n",
       "        vertical-align: middle;\n",
       "    }\n",
       "\n",
       "    .dataframe tbody tr th {\n",
       "        vertical-align: top;\n",
       "    }\n",
       "\n",
       "    .dataframe thead th {\n",
       "        text-align: right;\n",
       "    }\n",
       "</style>\n",
       "<table border=\"1\" class=\"dataframe\">\n",
       "  <thead>\n",
       "    <tr style=\"text-align: right;\">\n",
       "      <th></th>\n",
       "      <th>adjusted_price</th>\n",
       "      <th>available</th>\n",
       "      <th>listing_id</th>\n",
       "      <th>maximum_nights</th>\n",
       "      <th>minimum_nights</th>\n",
       "      <th>price</th>\n",
       "      <th>month_year</th>\n",
       "      <th>year</th>\n",
       "      <th>month</th>\n",
       "      <th>weekday</th>\n",
       "    </tr>\n",
       "    <tr>\n",
       "      <th>date</th>\n",
       "      <th></th>\n",
       "      <th></th>\n",
       "      <th></th>\n",
       "      <th></th>\n",
       "      <th></th>\n",
       "      <th></th>\n",
       "      <th></th>\n",
       "      <th></th>\n",
       "      <th></th>\n",
       "      <th></th>\n",
       "    </tr>\n",
       "  </thead>\n",
       "  <tbody>\n",
       "    <tr>\n",
       "      <th>2019-04-03</th>\n",
       "      <td>80</td>\n",
       "      <td>0</td>\n",
       "      <td>187730</td>\n",
       "      <td>120</td>\n",
       "      <td>3</td>\n",
       "      <td>80</td>\n",
       "      <td>2019-04</td>\n",
       "      <td>2019</td>\n",
       "      <td>4</td>\n",
       "      <td>Wednesday</td>\n",
       "    </tr>\n",
       "    <tr>\n",
       "      <th>2019-04-04</th>\n",
       "      <td>80</td>\n",
       "      <td>0</td>\n",
       "      <td>187730</td>\n",
       "      <td>120</td>\n",
       "      <td>3</td>\n",
       "      <td>80</td>\n",
       "      <td>2019-04</td>\n",
       "      <td>2019</td>\n",
       "      <td>4</td>\n",
       "      <td>Thursday</td>\n",
       "    </tr>\n",
       "    <tr>\n",
       "      <th>2019-04-05</th>\n",
       "      <td>82</td>\n",
       "      <td>1</td>\n",
       "      <td>187730</td>\n",
       "      <td>120</td>\n",
       "      <td>3</td>\n",
       "      <td>82</td>\n",
       "      <td>2019-04</td>\n",
       "      <td>2019</td>\n",
       "      <td>4</td>\n",
       "      <td>Friday</td>\n",
       "    </tr>\n",
       "    <tr>\n",
       "      <th>2019-04-06</th>\n",
       "      <td>82</td>\n",
       "      <td>1</td>\n",
       "      <td>187730</td>\n",
       "      <td>120</td>\n",
       "      <td>3</td>\n",
       "      <td>82</td>\n",
       "      <td>2019-04</td>\n",
       "      <td>2019</td>\n",
       "      <td>4</td>\n",
       "      <td>Saturday</td>\n",
       "    </tr>\n",
       "    <tr>\n",
       "      <th>2019-04-07</th>\n",
       "      <td>81</td>\n",
       "      <td>1</td>\n",
       "      <td>187730</td>\n",
       "      <td>120</td>\n",
       "      <td>3</td>\n",
       "      <td>81</td>\n",
       "      <td>2019-04</td>\n",
       "      <td>2019</td>\n",
       "      <td>4</td>\n",
       "      <td>Sunday</td>\n",
       "    </tr>\n",
       "  </tbody>\n",
       "</table>\n",
       "</div>"
      ],
      "text/plain": [
       "            adjusted_price  available  listing_id  maximum_nights  \\\n",
       "date                                                                \n",
       "2019-04-03              80          0      187730             120   \n",
       "2019-04-04              80          0      187730             120   \n",
       "2019-04-05              82          1      187730             120   \n",
       "2019-04-06              82          1      187730             120   \n",
       "2019-04-07              81          1      187730             120   \n",
       "\n",
       "            minimum_nights  price month_year  year  month    weekday  \n",
       "date                                                                  \n",
       "2019-04-03               3     80    2019-04  2019      4  Wednesday  \n",
       "2019-04-04               3     80    2019-04  2019      4   Thursday  \n",
       "2019-04-05               3     82    2019-04  2019      4     Friday  \n",
       "2019-04-06               3     82    2019-04  2019      4   Saturday  \n",
       "2019-04-07               3     81    2019-04  2019      4     Sunday  "
      ]
     },
     "execution_count": 62,
     "metadata": {},
     "output_type": "execute_result"
    }
   ],
   "source": [
    "calendar['month_year'] = pd.to_datetime(calendar['date']).dt.to_period('M')\n",
    "#Set date as index for calendar data\n",
    "calendar.set_index('date', inplace=True)\n",
    "\n",
    "#Capture appropriate dates for analysis in Calendar data\n",
    "calendar= calendar.loc['2018-12-01':'2020-01-01']\n",
    "\n",
    "# #Convert calendar to dask\n",
    "# calendar = dd.from_pandas(calendar, npartitions=3)\n",
    "\n",
    "#Extract date info from index and assign as columns\n",
    "calendar['year'] = calendar.index.year\n",
    "calendar['month'] = calendar.index.month\n",
    "calendar['weekday'] = calendar.index.weekday_name\n",
    "\n",
    "#Check\n",
    "calendar.head()"
   ]
  },
  {
   "cell_type": "code",
   "execution_count": 63,
   "metadata": {},
   "outputs": [],
   "source": [
    "#Group last year by month_year and get a count of unique listings per day\n",
    "last_year_daily = calendar.groupby(['date'])['listing_id'].agg({'nunique'}).reset_index()\n",
    "\n",
    "#Rename columns\n",
    "last_year_daily =last_year_daily.rename(columns = {'nunique': 'listings'})"
   ]
  },
  {
   "cell_type": "code",
   "execution_count": 64,
   "metadata": {},
   "outputs": [
    {
     "name": "stdout",
     "output_type": "stream",
     "text": [
      "(392, 2)\n"
     ]
    },
    {
     "data": {
      "text/html": [
       "<div>\n",
       "<style scoped>\n",
       "    .dataframe tbody tr th:only-of-type {\n",
       "        vertical-align: middle;\n",
       "    }\n",
       "\n",
       "    .dataframe tbody tr th {\n",
       "        vertical-align: top;\n",
       "    }\n",
       "\n",
       "    .dataframe thead th {\n",
       "        text-align: right;\n",
       "    }\n",
       "</style>\n",
       "<table border=\"1\" class=\"dataframe\">\n",
       "  <thead>\n",
       "    <tr style=\"text-align: right;\">\n",
       "      <th></th>\n",
       "      <th>date</th>\n",
       "      <th>listings</th>\n",
       "    </tr>\n",
       "  </thead>\n",
       "  <tbody>\n",
       "    <tr>\n",
       "      <th>0</th>\n",
       "      <td>2018-12-06</td>\n",
       "      <td>1724</td>\n",
       "    </tr>\n",
       "    <tr>\n",
       "      <th>1</th>\n",
       "      <td>2018-12-07</td>\n",
       "      <td>1840</td>\n",
       "    </tr>\n",
       "    <tr>\n",
       "      <th>2</th>\n",
       "      <td>2018-12-08</td>\n",
       "      <td>1937</td>\n",
       "    </tr>\n",
       "    <tr>\n",
       "      <th>3</th>\n",
       "      <td>2018-12-09</td>\n",
       "      <td>2209</td>\n",
       "    </tr>\n",
       "    <tr>\n",
       "      <th>4</th>\n",
       "      <td>2018-12-10</td>\n",
       "      <td>2323</td>\n",
       "    </tr>\n",
       "  </tbody>\n",
       "</table>\n",
       "</div>"
      ],
      "text/plain": [
       "        date  listings\n",
       "0 2018-12-06      1724\n",
       "1 2018-12-07      1840\n",
       "2 2018-12-08      1937\n",
       "3 2018-12-09      2209\n",
       "4 2018-12-10      2323"
      ]
     },
     "execution_count": 64,
     "metadata": {},
     "output_type": "execute_result"
    }
   ],
   "source": [
    "#Weekly listings\n",
    "print(last_year_daily.shape)\n",
    "last_year_daily.head()"
   ]
  },
  {
   "cell_type": "code",
   "execution_count": 65,
   "metadata": {},
   "outputs": [],
   "source": [
    "rolling_mean=last_year_daily.rolling(window=7,min_periods=1).mean()\n",
    "rolling_mean = rolling_mean.rename(columns={'listings':'rolling_wk_avg'})"
   ]
  },
  {
   "cell_type": "code",
   "execution_count": 66,
   "metadata": {},
   "outputs": [
    {
     "data": {
      "text/html": [
       "<div>\n",
       "<style scoped>\n",
       "    .dataframe tbody tr th:only-of-type {\n",
       "        vertical-align: middle;\n",
       "    }\n",
       "\n",
       "    .dataframe tbody tr th {\n",
       "        vertical-align: top;\n",
       "    }\n",
       "\n",
       "    .dataframe thead th {\n",
       "        text-align: right;\n",
       "    }\n",
       "</style>\n",
       "<table border=\"1\" class=\"dataframe\">\n",
       "  <thead>\n",
       "    <tr style=\"text-align: right;\">\n",
       "      <th></th>\n",
       "      <th>rolling_wk_avg</th>\n",
       "    </tr>\n",
       "  </thead>\n",
       "  <tbody>\n",
       "    <tr>\n",
       "      <th>0</th>\n",
       "      <td>1724</td>\n",
       "    </tr>\n",
       "    <tr>\n",
       "      <th>1</th>\n",
       "      <td>1782</td>\n",
       "    </tr>\n",
       "    <tr>\n",
       "      <th>2</th>\n",
       "      <td>1834</td>\n",
       "    </tr>\n",
       "    <tr>\n",
       "      <th>3</th>\n",
       "      <td>1928</td>\n",
       "    </tr>\n",
       "    <tr>\n",
       "      <th>4</th>\n",
       "      <td>2007</td>\n",
       "    </tr>\n",
       "  </tbody>\n",
       "</table>\n",
       "</div>"
      ],
      "text/plain": [
       "   rolling_wk_avg\n",
       "0            1724\n",
       "1            1782\n",
       "2            1834\n",
       "3            1928\n",
       "4            2007"
      ]
     },
     "execution_count": 66,
     "metadata": {},
     "output_type": "execute_result"
    }
   ],
   "source": [
    "rolling_mean.head()"
   ]
  },
  {
   "cell_type": "code",
   "execution_count": 67,
   "metadata": {},
   "outputs": [],
   "source": [
    "test= last_year_daily.join(rolling_mean)"
   ]
  },
  {
   "cell_type": "code",
   "execution_count": 68,
   "metadata": {},
   "outputs": [
    {
     "data": {
      "text/html": [
       "<div>\n",
       "<style scoped>\n",
       "    .dataframe tbody tr th:only-of-type {\n",
       "        vertical-align: middle;\n",
       "    }\n",
       "\n",
       "    .dataframe tbody tr th {\n",
       "        vertical-align: top;\n",
       "    }\n",
       "\n",
       "    .dataframe thead th {\n",
       "        text-align: right;\n",
       "    }\n",
       "</style>\n",
       "<table border=\"1\" class=\"dataframe\">\n",
       "  <thead>\n",
       "    <tr style=\"text-align: right;\">\n",
       "      <th></th>\n",
       "      <th>date</th>\n",
       "      <th>listings</th>\n",
       "      <th>rolling_wk_avg</th>\n",
       "    </tr>\n",
       "  </thead>\n",
       "  <tbody>\n",
       "    <tr>\n",
       "      <th>0</th>\n",
       "      <td>2018-12-06</td>\n",
       "      <td>1724</td>\n",
       "      <td>1724</td>\n",
       "    </tr>\n",
       "    <tr>\n",
       "      <th>1</th>\n",
       "      <td>2018-12-07</td>\n",
       "      <td>1840</td>\n",
       "      <td>1782</td>\n",
       "    </tr>\n",
       "    <tr>\n",
       "      <th>2</th>\n",
       "      <td>2018-12-08</td>\n",
       "      <td>1937</td>\n",
       "      <td>1834</td>\n",
       "    </tr>\n",
       "    <tr>\n",
       "      <th>3</th>\n",
       "      <td>2018-12-09</td>\n",
       "      <td>2209</td>\n",
       "      <td>1928</td>\n",
       "    </tr>\n",
       "    <tr>\n",
       "      <th>4</th>\n",
       "      <td>2018-12-10</td>\n",
       "      <td>2323</td>\n",
       "      <td>2007</td>\n",
       "    </tr>\n",
       "  </tbody>\n",
       "</table>\n",
       "</div>"
      ],
      "text/plain": [
       "        date  listings  rolling_wk_avg\n",
       "0 2018-12-06      1724            1724\n",
       "1 2018-12-07      1840            1782\n",
       "2 2018-12-08      1937            1834\n",
       "3 2018-12-09      2209            1928\n",
       "4 2018-12-10      2323            2007"
      ]
     },
     "execution_count": 68,
     "metadata": {},
     "output_type": "execute_result"
    }
   ],
   "source": [
    "test.head()"
   ]
  },
  {
   "cell_type": "code",
   "execution_count": 69,
   "metadata": {},
   "outputs": [],
   "source": [
    "test = test.drop(columns='listings')"
   ]
  },
  {
   "cell_type": "code",
   "execution_count": 70,
   "metadata": {},
   "outputs": [],
   "source": [
    "#Capture unique listings a month\n",
    "last_year_monthly = calendar.groupby(['month_year'])['listing_id'].agg({'nunique'}).reset_index()\n",
    "\n",
    "#Rename columns\n",
    "last_year_monthly =last_year_monthly.rename(columns = {'nunique': 'listings'})"
   ]
  },
  {
   "cell_type": "code",
   "execution_count": 71,
   "metadata": {},
   "outputs": [
    {
     "data": {
      "image/png": "[encoded data removed]",
      "text/plain": [
       "<Figure size 1080x720 with 1 Axes>"
      ]
     },
     "metadata": {},
     "output_type": "display_data"
    }
   ],
   "source": [
    "#Set 538 plot style\n",
    "plt.style.use('fivethirtyeight')\n",
    "\n",
    "#Plot daily unique listings data\n",
    "ax = last_year_daily.plot(x='date', y='listings', kind = 'line',style='o-', markersize=.5,\n",
    "          label= 'Daily Unique Listings',figsize = (15,10),\n",
    "         linewidth = 1.5)\n",
    "\n",
    "test.plot(x='date', y='rolling_wk_avg', kind = 'line',style='o-', markersize=.5,\n",
    "          label= 'Weekly Unique Listings',figsize = (15,10),\n",
    "         linewidth = 1.5, ax=ax)\n",
    "\n",
    "#plot montly average\n",
    "last_year_monthly.plot(x='month_year', y='listings',kind = 'line',style='o-', markersize= 7,\n",
    "          label= 'Monthly Unique Listings', linewidth = 1.5 , ax=ax)\n",
    "\n",
    "#Set fontdict\n",
    "fontdict={'weight' : 'bold',\n",
    "          'size': 17}\n",
    "\n",
    "#Set x and y labels\n",
    "ax.set_xlabel('Month',fontdict=fontdict)\n",
    "ax.set_ylabel('Count', fontdict=fontdict)\n",
    "\n",
    "#Format yticks\n",
    "ax.set_yticklabels(['{:,}'.format(int(x)) for x in ax.get_yticks().tolist()])\n",
    "\n",
    "#Set Title\n",
    "ax.set_title('Growth of Airbnb Listings in San Francisco', fontweight = 'bold', fontsize=22)\n",
    "\n",
    "#Adjust plot margins\n",
    "ax.margins(0,.12)\n",
    "\n",
    "#Mute vertical grid lines\n",
    "ax.grid(b = False, which ='major', axis = 'x')\n",
    "\n",
    "#Add Text\n",
    "xs,ys=last_year_monthly['month_year'], last_year_monthly['listings']\n",
    "\n",
    "for x,y in zip(xs,ys):\n",
    "    label = '{:,}'.format(y)\n",
    "    plt.annotate(label, (x,y),textcoords=\"offset points\",fontsize = 9, xytext=(0,0), ha='left')\n",
    "\n",
    "#Set legend\n",
    "plt.legend(title='Legend', frameon = True, loc='upper left');"
   ]
  },
  {
   "cell_type": "markdown",
   "metadata": {},
   "source": [
    "Over the last year, there has been significant growth in the number of listings available for rent month to month. Let us look into the number of nights booked by users over the last year."
   ]
  },
  {
   "cell_type": "markdown",
   "metadata": {},
   "source": [
    "Might be worth looking at a few years worth of reviews and calendar data to see the demand and  growth over time"
   ]
  },
  {
   "cell_type": "code",
   "execution_count": 72,
   "metadata": {},
   "outputs": [],
   "source": [
    "#Set Date as index for zillow data\n",
    "zillow.set_index(keys = 'Date', inplace=True)"
   ]
  },
  {
   "cell_type": "code",
   "execution_count": 73,
   "metadata": {},
   "outputs": [],
   "source": [
    "#Extract date info from index and assign to zillow\n",
    "zillow['Year'] = zillow.index.year\n",
    "zillow['Month'] = zillow.index.month\n",
    "zillow['Weekday_Name'] = zillow.index.weekday_name"
   ]
  },
  {
   "cell_type": "code",
   "execution_count": 74,
   "metadata": {},
   "outputs": [
    {
     "data": {
      "text/html": [
       "<div>\n",
       "<style scoped>\n",
       "    .dataframe tbody tr th:only-of-type {\n",
       "        vertical-align: middle;\n",
       "    }\n",
       "\n",
       "    .dataframe tbody tr th {\n",
       "        vertical-align: top;\n",
       "    }\n",
       "\n",
       "    .dataframe thead th {\n",
       "        text-align: right;\n",
       "    }\n",
       "</style>\n",
       "<table border=\"1\" class=\"dataframe\">\n",
       "  <thead>\n",
       "    <tr style=\"text-align: right;\">\n",
       "      <th></th>\n",
       "      <th>City</th>\n",
       "      <th>County</th>\n",
       "      <th>Metro</th>\n",
       "      <th>Zip</th>\n",
       "      <th>State</th>\n",
       "      <th>SizeRank</th>\n",
       "      <th>Bedrooms</th>\n",
       "      <th>Median_Rent</th>\n",
       "      <th>Year</th>\n",
       "      <th>Month</th>\n",
       "      <th>Weekday_Name</th>\n",
       "    </tr>\n",
       "    <tr>\n",
       "      <th>Date</th>\n",
       "      <th></th>\n",
       "      <th></th>\n",
       "      <th></th>\n",
       "      <th></th>\n",
       "      <th></th>\n",
       "      <th></th>\n",
       "      <th></th>\n",
       "      <th></th>\n",
       "      <th></th>\n",
       "      <th></th>\n",
       "      <th></th>\n",
       "    </tr>\n",
       "  </thead>\n",
       "  <tbody>\n",
       "    <tr>\n",
       "      <th>2010-03-01</th>\n",
       "      <td>Virginia Beach</td>\n",
       "      <td>Virginia Beach City</td>\n",
       "      <td>Virginia Beach-Norfolk-Newport News</td>\n",
       "      <td>23462</td>\n",
       "      <td>VA</td>\n",
       "      <td>83</td>\n",
       "      <td>3</td>\n",
       "      <td>1200</td>\n",
       "      <td>2010</td>\n",
       "      <td>3</td>\n",
       "      <td>Monday</td>\n",
       "    </tr>\n",
       "    <tr>\n",
       "      <th>2010-04-01</th>\n",
       "      <td>Virginia Beach</td>\n",
       "      <td>Virginia Beach City</td>\n",
       "      <td>Virginia Beach-Norfolk-Newport News</td>\n",
       "      <td>23462</td>\n",
       "      <td>VA</td>\n",
       "      <td>83</td>\n",
       "      <td>3</td>\n",
       "      <td>1250</td>\n",
       "      <td>2010</td>\n",
       "      <td>4</td>\n",
       "      <td>Thursday</td>\n",
       "    </tr>\n",
       "    <tr>\n",
       "      <th>2010-05-01</th>\n",
       "      <td>Virginia Beach</td>\n",
       "      <td>Virginia Beach City</td>\n",
       "      <td>Virginia Beach-Norfolk-Newport News</td>\n",
       "      <td>23462</td>\n",
       "      <td>VA</td>\n",
       "      <td>83</td>\n",
       "      <td>3</td>\n",
       "      <td>1200</td>\n",
       "      <td>2010</td>\n",
       "      <td>5</td>\n",
       "      <td>Saturday</td>\n",
       "    </tr>\n",
       "    <tr>\n",
       "      <th>2010-06-01</th>\n",
       "      <td>Virginia Beach</td>\n",
       "      <td>Virginia Beach City</td>\n",
       "      <td>Virginia Beach-Norfolk-Newport News</td>\n",
       "      <td>23462</td>\n",
       "      <td>VA</td>\n",
       "      <td>83</td>\n",
       "      <td>3</td>\n",
       "      <td>1250</td>\n",
       "      <td>2010</td>\n",
       "      <td>6</td>\n",
       "      <td>Tuesday</td>\n",
       "    </tr>\n",
       "    <tr>\n",
       "      <th>2010-07-01</th>\n",
       "      <td>Virginia Beach</td>\n",
       "      <td>Virginia Beach City</td>\n",
       "      <td>Virginia Beach-Norfolk-Newport News</td>\n",
       "      <td>23462</td>\n",
       "      <td>VA</td>\n",
       "      <td>83</td>\n",
       "      <td>3</td>\n",
       "      <td>1225</td>\n",
       "      <td>2010</td>\n",
       "      <td>7</td>\n",
       "      <td>Thursday</td>\n",
       "    </tr>\n",
       "  </tbody>\n",
       "</table>\n",
       "</div>"
      ],
      "text/plain": [
       "                      City               County  \\\n",
       "Date                                              \n",
       "2010-03-01  Virginia Beach  Virginia Beach City   \n",
       "2010-04-01  Virginia Beach  Virginia Beach City   \n",
       "2010-05-01  Virginia Beach  Virginia Beach City   \n",
       "2010-06-01  Virginia Beach  Virginia Beach City   \n",
       "2010-07-01  Virginia Beach  Virginia Beach City   \n",
       "\n",
       "                                          Metro    Zip State  SizeRank  \\\n",
       "Date                                                                     \n",
       "2010-03-01  Virginia Beach-Norfolk-Newport News  23462    VA        83   \n",
       "2010-04-01  Virginia Beach-Norfolk-Newport News  23462    VA        83   \n",
       "2010-05-01  Virginia Beach-Norfolk-Newport News  23462    VA        83   \n",
       "2010-06-01  Virginia Beach-Norfolk-Newport News  23462    VA        83   \n",
       "2010-07-01  Virginia Beach-Norfolk-Newport News  23462    VA        83   \n",
       "\n",
       "            Bedrooms  Median_Rent  Year  Month Weekday_Name  \n",
       "Date                                                         \n",
       "2010-03-01         3         1200  2010      3       Monday  \n",
       "2010-04-01         3         1250  2010      4     Thursday  \n",
       "2010-05-01         3         1200  2010      5     Saturday  \n",
       "2010-06-01         3         1250  2010      6      Tuesday  \n",
       "2010-07-01         3         1225  2010      7     Thursday  "
      ]
     },
     "execution_count": 74,
     "metadata": {},
     "output_type": "execute_result"
    }
   ],
   "source": [
    "zillow.head()"
   ]
  },
  {
   "cell_type": "markdown",
   "metadata": {},
   "source": [
    "# Time Series Analysis"
   ]
  },
  {
   "cell_type": "markdown",
   "metadata": {},
   "source": [
    "For this analysis, we will isolate the rows in our Zillow data that are in the zipcode or city of the listings data."
   ]
  },
  {
   "cell_type": "code",
   "execution_count": 75,
   "metadata": {},
   "outputs": [
    {
     "name": "stdout",
     "output_type": "stream",
     "text": [
      "(2015, 11)\n"
     ]
    },
    {
     "data": {
      "text/html": [
       "<div>\n",
       "<style scoped>\n",
       "    .dataframe tbody tr th:only-of-type {\n",
       "        vertical-align: middle;\n",
       "    }\n",
       "\n",
       "    .dataframe tbody tr th {\n",
       "        vertical-align: top;\n",
       "    }\n",
       "\n",
       "    .dataframe thead th {\n",
       "        text-align: right;\n",
       "    }\n",
       "</style>\n",
       "<table border=\"1\" class=\"dataframe\">\n",
       "  <thead>\n",
       "    <tr style=\"text-align: right;\">\n",
       "      <th></th>\n",
       "      <th>City</th>\n",
       "      <th>County</th>\n",
       "      <th>Metro</th>\n",
       "      <th>Zip</th>\n",
       "      <th>State</th>\n",
       "      <th>SizeRank</th>\n",
       "      <th>Bedrooms</th>\n",
       "      <th>Median_Rent</th>\n",
       "      <th>Year</th>\n",
       "      <th>Month</th>\n",
       "      <th>Weekday_Name</th>\n",
       "    </tr>\n",
       "    <tr>\n",
       "      <th>Date</th>\n",
       "      <th></th>\n",
       "      <th></th>\n",
       "      <th></th>\n",
       "      <th></th>\n",
       "      <th></th>\n",
       "      <th></th>\n",
       "      <th></th>\n",
       "      <th></th>\n",
       "      <th></th>\n",
       "      <th></th>\n",
       "      <th></th>\n",
       "    </tr>\n",
       "  </thead>\n",
       "  <tbody>\n",
       "    <tr>\n",
       "      <th>2019-11-01</th>\n",
       "      <td>San Francisco</td>\n",
       "      <td>San Francisco</td>\n",
       "      <td>San Francisco-Oakland-Hayward</td>\n",
       "      <td>94105</td>\n",
       "      <td>CA</td>\n",
       "      <td>2269</td>\n",
       "      <td>2</td>\n",
       "      <td>5800</td>\n",
       "      <td>2019</td>\n",
       "      <td>11</td>\n",
       "      <td>Friday</td>\n",
       "    </tr>\n",
       "    <tr>\n",
       "      <th>2019-11-01</th>\n",
       "      <td>Sausalito</td>\n",
       "      <td>Marin</td>\n",
       "      <td>San Francisco-Oakland-Hayward</td>\n",
       "      <td>94965</td>\n",
       "      <td>CA</td>\n",
       "      <td>2434</td>\n",
       "      <td>2</td>\n",
       "      <td>3650</td>\n",
       "      <td>2019</td>\n",
       "      <td>11</td>\n",
       "      <td>Friday</td>\n",
       "    </tr>\n",
       "    <tr>\n",
       "      <th>2019-11-01</th>\n",
       "      <td>San Francisco</td>\n",
       "      <td>San Francisco</td>\n",
       "      <td>San Francisco-Oakland-Hayward</td>\n",
       "      <td>94158</td>\n",
       "      <td>CA</td>\n",
       "      <td>2477</td>\n",
       "      <td>2</td>\n",
       "      <td>5288</td>\n",
       "      <td>2019</td>\n",
       "      <td>11</td>\n",
       "      <td>Friday</td>\n",
       "    </tr>\n",
       "    <tr>\n",
       "      <th>2019-11-01</th>\n",
       "      <td>San Francisco</td>\n",
       "      <td>San Francisco</td>\n",
       "      <td>San Francisco-Oakland-Hayward</td>\n",
       "      <td>94110</td>\n",
       "      <td>CA</td>\n",
       "      <td>82</td>\n",
       "      <td>3</td>\n",
       "      <td>5575</td>\n",
       "      <td>2019</td>\n",
       "      <td>11</td>\n",
       "      <td>Friday</td>\n",
       "    </tr>\n",
       "    <tr>\n",
       "      <th>2019-11-01</th>\n",
       "      <td>San Francisco</td>\n",
       "      <td>San Francisco</td>\n",
       "      <td>San Francisco-Oakland-Hayward</td>\n",
       "      <td>94115</td>\n",
       "      <td>CA</td>\n",
       "      <td>518</td>\n",
       "      <td>3</td>\n",
       "      <td>6500</td>\n",
       "      <td>2019</td>\n",
       "      <td>11</td>\n",
       "      <td>Friday</td>\n",
       "    </tr>\n",
       "  </tbody>\n",
       "</table>\n",
       "</div>"
      ],
      "text/plain": [
       "                     City          County                          Metro  \\\n",
       "Date                                                                       \n",
       "2019-11-01  San Francisco  San Francisco   San Francisco-Oakland-Hayward   \n",
       "2019-11-01      Sausalito          Marin   San Francisco-Oakland-Hayward   \n",
       "2019-11-01  San Francisco  San Francisco   San Francisco-Oakland-Hayward   \n",
       "2019-11-01  San Francisco  San Francisco   San Francisco-Oakland-Hayward   \n",
       "2019-11-01  San Francisco  San Francisco   San Francisco-Oakland-Hayward   \n",
       "\n",
       "              Zip State  SizeRank  Bedrooms  Median_Rent  Year  Month  \\\n",
       "Date                                                                    \n",
       "2019-11-01  94105    CA      2269         2         5800  2019     11   \n",
       "2019-11-01  94965    CA      2434         2         3650  2019     11   \n",
       "2019-11-01  94158    CA      2477         2         5288  2019     11   \n",
       "2019-11-01  94110    CA        82         3         5575  2019     11   \n",
       "2019-11-01  94115    CA       518         3         6500  2019     11   \n",
       "\n",
       "           Weekday_Name  \n",
       "Date                     \n",
       "2019-11-01       Friday  \n",
       "2019-11-01       Friday  \n",
       "2019-11-01       Friday  \n",
       "2019-11-01       Friday  \n",
       "2019-11-01       Friday  "
      ]
     },
     "metadata": {},
     "output_type": "display_data"
    }
   ],
   "source": [
    "#Capture zip information from listings\n",
    "listings_zip = list(listings.zipcode.unique())\n",
    "\n",
    "#Capture city information from listings \n",
    "listings_cities = list(listings.city.unique())\n",
    "\n",
    "#Capture SF Data\n",
    "sf_zillow = zillow[zillow['Zip'].isin(listings_zip) | zillow['City'].isin(listings_cities)]\n",
    "\n",
    "#Check\n",
    "print(sf_zillow.shape)\n",
    "display(sf_zillow.tail())"
   ]
  },
  {
   "cell_type": "code",
   "execution_count": 76,
   "metadata": {},
   "outputs": [],
   "source": [
    "zillow = zillow.loc['2011-09-01':'2019-11-01']"
   ]
  },
  {
   "cell_type": "code",
   "execution_count": 77,
   "metadata": {},
   "outputs": [
    {
     "data": {
      "text/plain": [
       "<matplotlib.axes._subplots.AxesSubplot at 0x1cab4caacf8>"
      ]
     },
     "execution_count": 77,
     "metadata": {},
     "output_type": "execute_result"
    },
    {
     "data": {
      "image/png": "[encoded data removed]",
      "text/plain": [
       "<Figure size 864x360 with 1 Axes>"
      ]
     },
     "metadata": {},
     "output_type": "display_data"
    }
   ],
   "source": [
    "#SF vs rest of US Rent\n",
    "\n",
    "plt.style.use('ggplot')\n",
    "\n",
    "fig, ax = plt.subplots(figsize = (12,5))\n",
    "sf_zillow.groupby('Date')['Median_Rent'].mean().plot(kind = 'line', color = 'r')\n",
    "\n",
    "zillow.groupby(['Date'])['Median_Rent'].mean().plot(kind = 'line', color= 'g')#natl average\n",
    "\n",
    "plt.title('Comparing rent accross the Unites states vs SF(in airbnb specofically)')\n",
    "#We also noted each state's region size ranking, which represents how big it is population-wise;\n",
    "#California is ranked No. 1 with the largest population of all states, while Wyoming is ranked No. 51\n",
    "zillow[zillow.SizeRank < 2].groupby(['Date'])['Median_Rent'].mean().plot(kind = 'line', color = 'b')#this is compared to CA\n",
    "zillow[zillow.SizeRank < 10].groupby(['Date'])['Median_Rent'].mean().plot(kind = 'line', color = 'black')#purp(top 10 largest in US)"
   ]
  },
  {
   "cell_type": "markdown",
   "metadata": {},
   "source": [
    "Airbnb monthly rent vs bay area rent "
   ]
  },
  {
   "cell_type": "code",
   "execution_count": 78,
   "metadata": {},
   "outputs": [],
   "source": [
    "#Capture id and monthly_price from listings data for merge with calendar data\n",
    "listings_merge = listings[['id','monthly_price']]\n",
    "\n"
   ]
  },
  {
   "cell_type": "code",
   "execution_count": 79,
   "metadata": {},
   "outputs": [],
   "source": [
    "calendar_merge = calendar[['listing_id','price','month_year','year','month']]\n",
    "calendar_merge.reset_index(inplace = True)"
   ]
  },
  {
   "cell_type": "code",
   "execution_count": 80,
   "metadata": {},
   "outputs": [],
   "source": [
    "monthly_listings = calendar_merge.merge(listings_merge, left_on='listing_id', right_on='id')"
   ]
  },
  {
   "cell_type": "code",
   "execution_count": 81,
   "metadata": {},
   "outputs": [],
   "source": [
    "monthly_listings=monthly_listings[-monthly_listings.monthly_price.isna()]\n",
    "\n",
    "monthly_listings.drop_duplicates(inplace = True)"
   ]
  },
  {
   "cell_type": "code",
   "execution_count": 82,
   "metadata": {},
   "outputs": [
    {
     "name": "stdout",
     "output_type": "stream",
     "text": [
      "(908802, 8)\n"
     ]
    },
    {
     "data": {
      "text/html": [
       "<div>\n",
       "<style scoped>\n",
       "    .dataframe tbody tr th:only-of-type {\n",
       "        vertical-align: middle;\n",
       "    }\n",
       "\n",
       "    .dataframe tbody tr th {\n",
       "        vertical-align: top;\n",
       "    }\n",
       "\n",
       "    .dataframe thead th {\n",
       "        text-align: right;\n",
       "    }\n",
       "</style>\n",
       "<table border=\"1\" class=\"dataframe\">\n",
       "  <thead>\n",
       "    <tr style=\"text-align: right;\">\n",
       "      <th></th>\n",
       "      <th>date</th>\n",
       "      <th>listing_id</th>\n",
       "      <th>price</th>\n",
       "      <th>month_year</th>\n",
       "      <th>year</th>\n",
       "      <th>month</th>\n",
       "      <th>id</th>\n",
       "      <th>monthly_price</th>\n",
       "    </tr>\n",
       "  </thead>\n",
       "  <tbody>\n",
       "    <tr>\n",
       "      <th>0</th>\n",
       "      <td>2019-04-03</td>\n",
       "      <td>187730</td>\n",
       "      <td>80</td>\n",
       "      <td>2019-04</td>\n",
       "      <td>2019</td>\n",
       "      <td>4</td>\n",
       "      <td>187730</td>\n",
       "      <td>1500</td>\n",
       "    </tr>\n",
       "    <tr>\n",
       "      <th>13</th>\n",
       "      <td>2019-04-04</td>\n",
       "      <td>187730</td>\n",
       "      <td>80</td>\n",
       "      <td>2019-04</td>\n",
       "      <td>2019</td>\n",
       "      <td>4</td>\n",
       "      <td>187730</td>\n",
       "      <td>1500</td>\n",
       "    </tr>\n",
       "    <tr>\n",
       "      <th>26</th>\n",
       "      <td>2019-04-05</td>\n",
       "      <td>187730</td>\n",
       "      <td>82</td>\n",
       "      <td>2019-04</td>\n",
       "      <td>2019</td>\n",
       "      <td>4</td>\n",
       "      <td>187730</td>\n",
       "      <td>1500</td>\n",
       "    </tr>\n",
       "    <tr>\n",
       "      <th>39</th>\n",
       "      <td>2019-04-06</td>\n",
       "      <td>187730</td>\n",
       "      <td>82</td>\n",
       "      <td>2019-04</td>\n",
       "      <td>2019</td>\n",
       "      <td>4</td>\n",
       "      <td>187730</td>\n",
       "      <td>1500</td>\n",
       "    </tr>\n",
       "    <tr>\n",
       "      <th>52</th>\n",
       "      <td>2019-04-07</td>\n",
       "      <td>187730</td>\n",
       "      <td>81</td>\n",
       "      <td>2019-04</td>\n",
       "      <td>2019</td>\n",
       "      <td>4</td>\n",
       "      <td>187730</td>\n",
       "      <td>1500</td>\n",
       "    </tr>\n",
       "  </tbody>\n",
       "</table>\n",
       "</div>"
      ],
      "text/plain": [
       "         date  listing_id  price month_year  year  month      id  \\\n",
       "0  2019-04-03      187730     80    2019-04  2019      4  187730   \n",
       "13 2019-04-04      187730     80    2019-04  2019      4  187730   \n",
       "26 2019-04-05      187730     82    2019-04  2019      4  187730   \n",
       "39 2019-04-06      187730     82    2019-04  2019      4  187730   \n",
       "52 2019-04-07      187730     81    2019-04  2019      4  187730   \n",
       "\n",
       "    monthly_price  \n",
       "0            1500  \n",
       "13           1500  \n",
       "26           1500  \n",
       "39           1500  \n",
       "52           1500  "
      ]
     },
     "execution_count": 82,
     "metadata": {},
     "output_type": "execute_result"
    }
   ],
   "source": [
    "print(monthly_listings.shape)\n",
    "monthly_listings.head()"
   ]
  },
  {
   "cell_type": "code",
   "execution_count": 83,
   "metadata": {},
   "outputs": [],
   "source": [
    "monthly_listings.set_index('date', inplace=True)\n",
    "\n",
    "monthly_listings.sort_index(inplace=True)"
   ]
  },
  {
   "cell_type": "code",
   "execution_count": 90,
   "metadata": {},
   "outputs": [
    {
     "data": {
      "text/html": [
       "<div>\n",
       "<style scoped>\n",
       "    .dataframe tbody tr th:only-of-type {\n",
       "        vertical-align: middle;\n",
       "    }\n",
       "\n",
       "    .dataframe tbody tr th {\n",
       "        vertical-align: top;\n",
       "    }\n",
       "\n",
       "    .dataframe thead th {\n",
       "        text-align: right;\n",
       "    }\n",
       "</style>\n",
       "<table border=\"1\" class=\"dataframe\">\n",
       "  <thead>\n",
       "    <tr style=\"text-align: right;\">\n",
       "      <th></th>\n",
       "      <th>listing_id</th>\n",
       "      <th>price</th>\n",
       "      <th>month_year</th>\n",
       "      <th>year</th>\n",
       "      <th>month</th>\n",
       "      <th>id</th>\n",
       "      <th>monthly_price</th>\n",
       "    </tr>\n",
       "    <tr>\n",
       "      <th>date</th>\n",
       "      <th></th>\n",
       "      <th></th>\n",
       "      <th></th>\n",
       "      <th></th>\n",
       "      <th></th>\n",
       "      <th></th>\n",
       "      <th></th>\n",
       "    </tr>\n",
       "  </thead>\n",
       "  <tbody>\n",
       "    <tr>\n",
       "      <th>2020-01-01</th>\n",
       "      <td>1017799</td>\n",
       "      <td>96</td>\n",
       "      <td>2020-01</td>\n",
       "      <td>2020</td>\n",
       "      <td>1</td>\n",
       "      <td>1017799</td>\n",
       "      <td>1400</td>\n",
       "    </tr>\n",
       "    <tr>\n",
       "      <th>2020-01-01</th>\n",
       "      <td>2564140</td>\n",
       "      <td>150</td>\n",
       "      <td>2020-01</td>\n",
       "      <td>2020</td>\n",
       "      <td>1</td>\n",
       "      <td>2564140</td>\n",
       "      <td>5600</td>\n",
       "    </tr>\n",
       "    <tr>\n",
       "      <th>2020-01-01</th>\n",
       "      <td>4026354</td>\n",
       "      <td>249</td>\n",
       "      <td>2020-01</td>\n",
       "      <td>2020</td>\n",
       "      <td>1</td>\n",
       "      <td>4026354</td>\n",
       "      <td>5400</td>\n",
       "    </tr>\n",
       "    <tr>\n",
       "      <th>2020-01-01</th>\n",
       "      <td>4026354</td>\n",
       "      <td>221</td>\n",
       "      <td>2020-01</td>\n",
       "      <td>2020</td>\n",
       "      <td>1</td>\n",
       "      <td>4026354</td>\n",
       "      <td>5400</td>\n",
       "    </tr>\n",
       "    <tr>\n",
       "      <th>2020-01-01</th>\n",
       "      <td>317078</td>\n",
       "      <td>100</td>\n",
       "      <td>2020-01</td>\n",
       "      <td>2020</td>\n",
       "      <td>1</td>\n",
       "      <td>317078</td>\n",
       "      <td>3500</td>\n",
       "    </tr>\n",
       "  </tbody>\n",
       "</table>\n",
       "</div>"
      ],
      "text/plain": [
       "            listing_id  price month_year  year  month       id  monthly_price\n",
       "date                                                                         \n",
       "2020-01-01     1017799     96    2020-01  2020      1  1017799           1400\n",
       "2020-01-01     2564140    150    2020-01  2020      1  2564140           5600\n",
       "2020-01-01     4026354    249    2020-01  2020      1  4026354           5400\n",
       "2020-01-01     4026354    221    2020-01  2020      1  4026354           5400\n",
       "2020-01-01      317078    100    2020-01  2020      1   317078           3500"
      ]
     },
     "execution_count": 90,
     "metadata": {},
     "output_type": "execute_result"
    }
   ],
   "source": [
    "monthly_listings.tail()"
   ]
  },
  {
   "cell_type": "code",
   "execution_count": 99,
   "metadata": {},
   "outputs": [
    {
     "data": {
      "text/plain": [
       "<matplotlib.axes._subplots.AxesSubplot at 0x1caa49bea90>"
      ]
     },
     "execution_count": 99,
     "metadata": {},
     "output_type": "execute_result"
    },
    {
     "data": {
      "image/png": "[encoded data removed]",
      "text/plain": [
       "<Figure size 576x396 with 1 Axes>"
      ]
     },
     "metadata": {},
     "output_type": "display_data"
    }
   ],
   "source": [
    "monthly_listings.loc['2018-12-01':'2019-11-01'].groupby('month_year')['monthly_price'].mean().plot(color = 'g')\n",
    "\n",
    "sf_zillow.loc['2018-12-01':'2019-11-01'].groupby(['Date'])['Median_Rent'].mean().plot(kind = 'line')"
   ]
  },
  {
   "cell_type": "code",
   "execution_count": 102,
   "metadata": {},
   "outputs": [
    {
     "data": {
      "text/plain": [
       "<matplotlib.axes._subplots.AxesSubplot at 0x1cb21f20b38>"
      ]
     },
     "execution_count": 102,
     "metadata": {},
     "output_type": "execute_result"
    },
    {
     "data": {
      "image/png": "[encoded data removed]",
      "text/plain": [
       "<Figure size 576x396 with 1 Axes>"
      ]
     },
     "metadata": {},
     "output_type": "display_data"
    }
   ],
   "source": [
    "#test_pd.loc['2018-09':'2019-12'].groupby('date')['monthly_price'].mean().plot(kind = 'box')\n",
    "sns.boxplot(x='month_year', y = 'price', data = monthly_listings)"
   ]
  },
  {
   "cell_type": "code",
   "execution_count": 92,
   "metadata": {},
   "outputs": [],
   "source": [
    "sf_zillow.sort_index(inplace=True)"
   ]
  },
  {
   "cell_type": "code",
   "execution_count": 93,
   "metadata": {},
   "outputs": [
    {
     "data": {
      "text/html": [
       "<div>\n",
       "<style scoped>\n",
       "    .dataframe tbody tr th:only-of-type {\n",
       "        vertical-align: middle;\n",
       "    }\n",
       "\n",
       "    .dataframe tbody tr th {\n",
       "        vertical-align: top;\n",
       "    }\n",
       "\n",
       "    .dataframe thead th {\n",
       "        text-align: right;\n",
       "    }\n",
       "</style>\n",
       "<table border=\"1\" class=\"dataframe\">\n",
       "  <thead>\n",
       "    <tr style=\"text-align: right;\">\n",
       "      <th></th>\n",
       "      <th>City</th>\n",
       "      <th>County</th>\n",
       "      <th>Metro</th>\n",
       "      <th>Zip</th>\n",
       "      <th>State</th>\n",
       "      <th>SizeRank</th>\n",
       "      <th>Bedrooms</th>\n",
       "      <th>Median_Rent</th>\n",
       "      <th>Year</th>\n",
       "      <th>Month</th>\n",
       "      <th>Weekday_Name</th>\n",
       "    </tr>\n",
       "    <tr>\n",
       "      <th>Date</th>\n",
       "      <th></th>\n",
       "      <th></th>\n",
       "      <th></th>\n",
       "      <th></th>\n",
       "      <th></th>\n",
       "      <th></th>\n",
       "      <th></th>\n",
       "      <th></th>\n",
       "      <th></th>\n",
       "      <th></th>\n",
       "      <th></th>\n",
       "    </tr>\n",
       "  </thead>\n",
       "  <tbody>\n",
       "    <tr>\n",
       "      <th>2019-11-01</th>\n",
       "      <td>San Francisco</td>\n",
       "      <td>San Francisco</td>\n",
       "      <td>San Francisco-Oakland-Hayward</td>\n",
       "      <td>94105</td>\n",
       "      <td>CA</td>\n",
       "      <td>2269</td>\n",
       "      <td>2</td>\n",
       "      <td>5800</td>\n",
       "      <td>2019</td>\n",
       "      <td>11</td>\n",
       "      <td>Friday</td>\n",
       "    </tr>\n",
       "    <tr>\n",
       "      <th>2019-11-01</th>\n",
       "      <td>Sausalito</td>\n",
       "      <td>Marin</td>\n",
       "      <td>San Francisco-Oakland-Hayward</td>\n",
       "      <td>94965</td>\n",
       "      <td>CA</td>\n",
       "      <td>2434</td>\n",
       "      <td>2</td>\n",
       "      <td>3650</td>\n",
       "      <td>2019</td>\n",
       "      <td>11</td>\n",
       "      <td>Friday</td>\n",
       "    </tr>\n",
       "    <tr>\n",
       "      <th>2019-11-01</th>\n",
       "      <td>San Francisco</td>\n",
       "      <td>San Francisco</td>\n",
       "      <td>San Francisco-Oakland-Hayward</td>\n",
       "      <td>94158</td>\n",
       "      <td>CA</td>\n",
       "      <td>2477</td>\n",
       "      <td>2</td>\n",
       "      <td>5288</td>\n",
       "      <td>2019</td>\n",
       "      <td>11</td>\n",
       "      <td>Friday</td>\n",
       "    </tr>\n",
       "    <tr>\n",
       "      <th>2019-11-01</th>\n",
       "      <td>San Francisco</td>\n",
       "      <td>San Francisco</td>\n",
       "      <td>San Francisco-Oakland-Hayward</td>\n",
       "      <td>94110</td>\n",
       "      <td>CA</td>\n",
       "      <td>82</td>\n",
       "      <td>3</td>\n",
       "      <td>5575</td>\n",
       "      <td>2019</td>\n",
       "      <td>11</td>\n",
       "      <td>Friday</td>\n",
       "    </tr>\n",
       "    <tr>\n",
       "      <th>2019-11-01</th>\n",
       "      <td>San Francisco</td>\n",
       "      <td>San Francisco</td>\n",
       "      <td>San Francisco-Oakland-Hayward</td>\n",
       "      <td>94115</td>\n",
       "      <td>CA</td>\n",
       "      <td>518</td>\n",
       "      <td>3</td>\n",
       "      <td>6500</td>\n",
       "      <td>2019</td>\n",
       "      <td>11</td>\n",
       "      <td>Friday</td>\n",
       "    </tr>\n",
       "  </tbody>\n",
       "</table>\n",
       "</div>"
      ],
      "text/plain": [
       "                     City          County                          Metro  \\\n",
       "Date                                                                       \n",
       "2019-11-01  San Francisco  San Francisco   San Francisco-Oakland-Hayward   \n",
       "2019-11-01      Sausalito          Marin   San Francisco-Oakland-Hayward   \n",
       "2019-11-01  San Francisco  San Francisco   San Francisco-Oakland-Hayward   \n",
       "2019-11-01  San Francisco  San Francisco   San Francisco-Oakland-Hayward   \n",
       "2019-11-01  San Francisco  San Francisco   San Francisco-Oakland-Hayward   \n",
       "\n",
       "              Zip State  SizeRank  Bedrooms  Median_Rent  Year  Month  \\\n",
       "Date                                                                    \n",
       "2019-11-01  94105    CA      2269         2         5800  2019     11   \n",
       "2019-11-01  94965    CA      2434         2         3650  2019     11   \n",
       "2019-11-01  94158    CA      2477         2         5288  2019     11   \n",
       "2019-11-01  94110    CA        82         3         5575  2019     11   \n",
       "2019-11-01  94115    CA       518         3         6500  2019     11   \n",
       "\n",
       "           Weekday_Name  \n",
       "Date                     \n",
       "2019-11-01       Friday  \n",
       "2019-11-01       Friday  \n",
       "2019-11-01       Friday  \n",
       "2019-11-01       Friday  \n",
       "2019-11-01       Friday  "
      ]
     },
     "execution_count": 93,
     "metadata": {},
     "output_type": "execute_result"
    }
   ],
   "source": [
    "sf_zillow.tail()"
   ]
  },
  {
   "cell_type": "code",
   "execution_count": null,
   "metadata": {},
   "outputs": [],
   "source": [
    "calendar.head()"
   ]
  },
  {
   "cell_type": "markdown",
   "metadata": {},
   "source": [
    "* Comparing monthly rent of airbnb to zillow"
   ]
  },
  {
   "cell_type": "markdown",
   "metadata": {},
   "source": [
    "### Principal Component Analysis"
   ]
  },
  {
   "cell_type": "code",
   "execution_count": null,
   "metadata": {},
   "outputs": [],
   "source": []
  }
 ],
 "metadata": {
  "kernelspec": {
   "display_name": "Python 3",
   "language": "python",
   "name": "python3"
  },
  "language_info": {
   "codemirror_mode": {
    "name": "ipython",
    "version": 3
   },
   "file_extension": ".py",
   "mimetype": "text/x-python",
   "name": "python",
   "nbconvert_exporter": "python",
   "pygments_lexer": "ipython3",
   "version": "3.7.3"
  }
 },
 "nbformat": 4,
 "nbformat_minor": 4
}
