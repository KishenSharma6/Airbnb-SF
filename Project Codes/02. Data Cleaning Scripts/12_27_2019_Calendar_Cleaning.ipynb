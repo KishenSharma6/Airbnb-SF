{
 "cells": [
  {
   "cell_type": "markdown",
   "metadata": {},
   "source": [
    "# Data Cleaning - Aggregated Airbnb Calendar"
   ]
  },
  {
   "cell_type": "markdown",
   "metadata": {},
   "source": [
    "## Introduction\n",
    "\n",
    "In the following notebook, I will be cleaning an aggregation of Airbnb calendar data. This data pertains to the San Francisco area and consists of calendar data from 9/2018 through 12/2019.\n",
    "\n",
    "The aggregation source code can be found [here](https://github.com/KishenSharma6/Airbnb-SF_ML_-_Text_Analysis/blob/master/Airbnb%20Raw%20Data%20Aggregation.ipynb)\n",
    "\n",
    "Raw data can be found [here](https://github.com/KishenSharma6/Airbnb-SF_ML_-_Text_Analysis/tree/master/Data/01_Raw/SF%20Airbnb%20Raw%20Data)"
   ]
  },
  {
   "cell_type": "markdown",
   "metadata": {},
   "source": [
    "**Read in necessary libraries**"
   ]
  },
  {
   "cell_type": "code",
   "execution_count": 1,
   "metadata": {},
   "outputs": [],
   "source": [
    "#Read in libraries\n",
    "import dask.dataframe as dd\n",
    "import swifter\n",
    "\n",
    "import pandas as pd\n",
    "\n",
    "import re\n",
    "\n",
    "import numpy as np\n",
    "from scipy import stats\n",
    "\n",
    "import matplotlib.pyplot as plt"
   ]
  },
  {
   "cell_type": "markdown",
   "metadata": {},
   "source": [
    "**Settings for Notebook**"
   ]
  },
  {
   "cell_type": "code",
   "execution_count": 2,
   "metadata": {},
   "outputs": [],
   "source": [
    "#Increase number of columns and rows displayed by Pandas\n",
    "pd.set_option('display.max_columns', 500)\n",
    "pd.set_option('display.max_rows',100)\n",
    "\n",
    "#Supress future warnings\n",
    "import warnings; warnings.simplefilter(action='ignore', category=FutureWarning)"
   ]
  },
  {
   "cell_type": "markdown",
   "metadata": {},
   "source": [
    "**Read in Data**"
   ]
  },
  {
   "cell_type": "code",
   "execution_count": 3,
   "metadata": {},
   "outputs": [],
   "source": [
    "#Set path to get aggregated calendar data\n",
    "path = r'C:\\Users\\kishe\\Documents\\Data Science\\Projects\\Python Projects\\In Progress\\Air BnB - SF\\SF Airbnb Raw Data - Aggregated\\01_04_2020_Calendar_Raw_Aggregated.csv'\n",
    "\n",
    "#Set date columns for parsing\n",
    "parse_dates = ['date']\n",
    "\n",
    "#Read in calendar data\n",
    "calendar = pd.read_csv(path, sep = ',', parse_dates=parse_dates,index_col=0, low_memory=False)"
   ]
  },
  {
   "cell_type": "markdown",
   "metadata": {},
   "source": [
    "## Data Preview"
   ]
  },
  {
   "cell_type": "code",
   "execution_count": 4,
   "metadata": {},
   "outputs": [
    {
     "data": {
      "text/html": [
       "<div>\n",
       "<style scoped>\n",
       "    .dataframe tbody tr th:only-of-type {\n",
       "        vertical-align: middle;\n",
       "    }\n",
       "\n",
       "    .dataframe tbody tr th {\n",
       "        vertical-align: top;\n",
       "    }\n",
       "\n",
       "    .dataframe thead th {\n",
       "        text-align: right;\n",
       "    }\n",
       "</style>\n",
       "<table border=\"1\" class=\"dataframe\">\n",
       "  <thead>\n",
       "    <tr style=\"text-align: right;\">\n",
       "      <th></th>\n",
       "      <th>adjusted_price</th>\n",
       "      <th>available</th>\n",
       "      <th>date</th>\n",
       "      <th>listing_id</th>\n",
       "      <th>maximum_nights</th>\n",
       "      <th>minimum_nights</th>\n",
       "      <th>price</th>\n",
       "    </tr>\n",
       "  </thead>\n",
       "  <tbody>\n",
       "    <tr>\n",
       "      <th>0</th>\n",
       "      <td>$80.00</td>\n",
       "      <td>f</td>\n",
       "      <td>2019-04-03</td>\n",
       "      <td>187730</td>\n",
       "      <td>120.0</td>\n",
       "      <td>3.0</td>\n",
       "      <td>$80.00</td>\n",
       "    </tr>\n",
       "    <tr>\n",
       "      <th>1</th>\n",
       "      <td>$80.00</td>\n",
       "      <td>f</td>\n",
       "      <td>2019-04-04</td>\n",
       "      <td>187730</td>\n",
       "      <td>120.0</td>\n",
       "      <td>3.0</td>\n",
       "      <td>$80.00</td>\n",
       "    </tr>\n",
       "    <tr>\n",
       "      <th>2</th>\n",
       "      <td>$82.00</td>\n",
       "      <td>t</td>\n",
       "      <td>2019-04-05</td>\n",
       "      <td>187730</td>\n",
       "      <td>120.0</td>\n",
       "      <td>3.0</td>\n",
       "      <td>$82.00</td>\n",
       "    </tr>\n",
       "    <tr>\n",
       "      <th>3</th>\n",
       "      <td>$82.00</td>\n",
       "      <td>t</td>\n",
       "      <td>2019-04-06</td>\n",
       "      <td>187730</td>\n",
       "      <td>120.0</td>\n",
       "      <td>3.0</td>\n",
       "      <td>$82.00</td>\n",
       "    </tr>\n",
       "    <tr>\n",
       "      <th>4</th>\n",
       "      <td>$81.00</td>\n",
       "      <td>t</td>\n",
       "      <td>2019-04-07</td>\n",
       "      <td>187730</td>\n",
       "      <td>120.0</td>\n",
       "      <td>3.0</td>\n",
       "      <td>$81.00</td>\n",
       "    </tr>\n",
       "  </tbody>\n",
       "</table>\n",
       "</div>"
      ],
      "text/plain": [
       "  adjusted_price available       date  listing_id  maximum_nights  \\\n",
       "0         $80.00         f 2019-04-03      187730           120.0   \n",
       "1         $80.00         f 2019-04-04      187730           120.0   \n",
       "2         $82.00         t 2019-04-05      187730           120.0   \n",
       "3         $82.00         t 2019-04-06      187730           120.0   \n",
       "4         $81.00         t 2019-04-07      187730           120.0   \n",
       "\n",
       "   minimum_nights   price  \n",
       "0             3.0  $80.00  \n",
       "1             3.0  $80.00  \n",
       "2             3.0  $82.00  \n",
       "3             3.0  $82.00  \n",
       "4             3.0  $81.00  "
      ]
     },
     "metadata": {},
     "output_type": "display_data"
    }
   ],
   "source": [
    "#Preview calendar data\n",
    "display(calendar.head())"
   ]
  },
  {
   "cell_type": "code",
   "execution_count": 5,
   "metadata": {},
   "outputs": [
    {
     "name": "stdout",
     "output_type": "stream",
     "text": [
      "Calendar data shape: (18089659, 7)\n",
      "\n",
      "Calendar data types: \n",
      " adjusted_price            object\n",
      "available                 object\n",
      "date              datetime64[ns]\n",
      "listing_id                 int64\n",
      "maximum_nights           float64\n",
      "minimum_nights           float64\n",
      "price                     object\n",
      "dtype: object\n"
     ]
    }
   ],
   "source": [
    "#Print shape and dtypes of calendar data\n",
    "print('Calendar data shape:',calendar.shape)\n",
    "print('\\nCalendar data types: \\n',calendar.dtypes)"
   ]
  },
  {
   "cell_type": "markdown",
   "metadata": {},
   "source": [
    "## Data Cleaning"
   ]
  },
  {
   "cell_type": "markdown",
   "metadata": {},
   "source": [
    "**Data Type Conversion**"
   ]
  },
  {
   "cell_type": "code",
   "execution_count": null,
   "metadata": {},
   "outputs": [
    {
     "data": {
      "application/vnd.jupyter.widget-view+json": {
       "model_id": "c8421e3c28704492bd5109691be08c28",
       "version_major": 2,
       "version_minor": 0
      },
      "text/plain": [
       "HBox(children=(FloatProgress(value=0.0, description='Pandas Apply', max=2.0, style=ProgressStyle(description_w…"
      ]
     },
     "metadata": {},
     "output_type": "display_data"
    }
   ],
   "source": [
    "#Remove $ and , from price and adjusted price column\n",
    "cols = ['adjusted_price', 'price']\n",
    "calendar[cols]=calendar[cols].replace('[,$]','', regex=True)\n",
    "\n",
    "#drop dups\n",
    "calendar.drop_duplicates(inplace=True)\n",
    "\n",
    "#Convert string to numeric\n",
    "calendar[cols] =calendar[cols].swifter.apply(pd.to_numeric, errors='coerce')\n",
    "\n",
    "#Replace 't' and 'f' in available column to True and False\n",
    "calendar.available = calendar.available.swifter.apply(lambda x:  1 if x =='t' else 0)\n",
    "\n",
    "#Correct data type for data column\n",
    "calendar.date=pd.to_datetime(calendar.date)"
   ]
  },
  {
   "cell_type": "code",
   "execution_count": null,
   "metadata": {},
   "outputs": [],
   "source": [
    "calendar.groupby(['available', 'date'])['available'].count()"
   ]
  },
  {
   "cell_type": "markdown",
   "metadata": {},
   "source": [
    "**View calendar metrics**"
   ]
  },
  {
   "cell_type": "code",
   "execution_count": null,
   "metadata": {},
   "outputs": [],
   "source": [
    "#Describe calendar data\n",
    "print(calendar.describe())\n",
    " \n",
    "#Print variance within calendar data\n",
    "print('\\nCalendar variance: \\n',calendar.var(axis=0))"
   ]
  },
  {
   "cell_type": "markdown",
   "metadata": {},
   "source": [
    "**Missing Data**"
   ]
  },
  {
   "cell_type": "code",
   "execution_count": null,
   "metadata": {},
   "outputs": [],
   "source": [
    "#Capture total number of missing data per column\n",
    "total = calendar.isnull().sum().sort_values(ascending=False)\n",
    "\n",
    "#Calculate the % of missing data per column\n",
    "percent = (calendar.isnull().sum()/calendar.isnull().count()).sort_values(ascending=False)\n",
    "\n",
    "#Concatenate into a pd dataframe\n",
    "missing_data = pd.concat([total, percent], axis=1, keys=['Total Missing', 'Missing Percent'])\n",
    "\n",
    "#Format percentage  \n",
    "missing_data['Missing Percent'] = missing_data['Missing Percent'].apply(lambda x: x * 100)\n",
    "\n",
    "#View columns with > 10% of data missing\n",
    "missing_data.loc[missing_data['Missing Percent'] > 10][:10]"
   ]
  },
  {
   "cell_type": "markdown",
   "metadata": {},
   "source": [
    "**Calendar data distributions**"
   ]
  },
  {
   "cell_type": "code",
   "execution_count": null,
   "metadata": {},
   "outputs": [],
   "source": [
    "#Set 538 plot style\n",
    "plt.style.use('fivethirtyeight')\n",
    "\n",
    "#Display distributions of calendar data\n",
    "calendar.hist( figsize=(15,10), bins = 30, layout = (3,2));\n",
    "plt.tight_layout()\n",
    "plt.show()\n",
    "\n",
    "#Set Path to write plot\n",
    "path = r'C:\\Users\\kishe\\Documents\\Data Science\\Projects\\Python Projects\\In Progress\\Air BnB - SF\\Output Files\\Visualizations\\Calendar Data Distributions'\n",
    "\n",
    "#Save plot to png\n",
    "#plt.savefig(path + '\\Calendar Raw Data Distributions.png',bbox_inches = 'tight')"
   ]
  },
  {
   "cell_type": "markdown",
   "metadata": {},
   "source": [
    "#### Price Outlier Removal\n",
    "\n",
    "**Identify and remove outliers using IQR**\n",
    "\n",
    "Removing outliers from price should normalize both price and adjusted_price columns."
   ]
  },
  {
   "cell_type": "code",
   "execution_count": null,
   "metadata": {},
   "outputs": [],
   "source": [
    "#Calculate IQR of price\n",
    "q25 = calendar['price'].quantile(0.25)\n",
    "q75= calendar['price'].quantile(0.75)\n",
    "iqr = q75 - q25\n",
    "\n",
    "#Print percentiles\n",
    "print('Percentiles: 25th={:.3f}, 75th={:.3f} \\nIQR= {:.3f}'.format(q25, q75, iqr))\n",
    "\n",
    "#Calculate outlier cutoffs\n",
    "cut_off =1.5 * iqr\n",
    "lower, upper = q25 - cut_off, q75 + iqr\n",
    "\n",
    "#Identify outliers\n",
    "outliers = [x for x in calendar.price if x < lower or x > upper]\n",
    "print(\"Number of outliers identified: {}\".format(len(outliers)))\n",
    "\n",
    "#Remove outliers\n",
    "outliers_removed = [x for x in calendar.price if x >= lower and x <= upper]\n",
    "print('Non-outlier observations: {}'.format(len(outliers_removed)))\n",
    "\n",
    "#Update df\n",
    "calendar = calendar[calendar.price.isin(outliers_removed)]"
   ]
  },
  {
   "cell_type": "code",
   "execution_count": null,
   "metadata": {},
   "outputs": [],
   "source": [
    "#Updated calendar Shape\n",
    "print('New calendar shape: ', calendar.shape)\n",
    "\n",
    "#Set ggplot plot style\n",
    "plt.style.use('ggplot')\n",
    "\n",
    "#Plot updated prices from calendar data\n",
    "plot = calendar.price.plot(kind = 'hist', bins=60, figsize=(12,7), label = 'Price',\n",
    "                   legend = True)\n",
    "\n",
    "#Get plot object\n",
    "ax = plt.gca()\n",
    "\n",
    "#Capture mean\n",
    "mean = np.mean(calendar.price)\n",
    "\n",
    "#Plot mean and median to histogram\n",
    "ax.axvline(mean, color='white', linestyle='dashed', linewidth=2.5, label = \"Avg/Night ${:}\".format(str(round(mean,2))))\n",
    "\n",
    "#Format x-axis\n",
    "ax.get_xaxis().set_major_formatter(plt.FuncFormatter(lambda x, loc: \"${:,}\".format(int(x))))\n",
    "\n",
    "#Format y ticks\n",
    "ax.get_yaxis().set_major_formatter(plt.FuncFormatter(lambda x, loc: \"{:,}\".format(int(x))))\n",
    "ax.set_ylabel('')\n",
    "\n",
    "#Mute vertical grid lines\n",
    "ax.grid(b = False, which ='major', axis = 'x')\n",
    "\n",
    "#Set Title\n",
    "ax.set_title('Airbnb per Night Rental Prices in San Francisco', fontweight= 'normal', fontsize = 18)\n",
    "\n",
    "#Show legend\n",
    "plt.legend(frameon = True, loc='upper right');\n",
    "\n",
    "#Save plot to png\n",
    "fig = plot.get_figure()\n",
    "fig.savefig(path + '\\Airbnb per Night Rental Prices in San Francisco.png',bbox_inches = 'tight')"
   ]
  },
  {
   "cell_type": "code",
   "execution_count": null,
   "metadata": {},
   "outputs": [],
   "source": [
    "#Set path to write listings\n",
    "path = r'C:\\Users\\kishe\\Documents\\Data Science\\Projects\\Python Projects\\In Progress\\Air BnB - SF\\Data\\02_Intermediate\\01_04_2020_Calendar_Cleaned.csv'\n",
    "\n",
    "#Write listings to path\n",
    "calendar.to_csv(path, sep=',')"
   ]
  }
 ],
 "metadata": {
  "kernelspec": {
   "display_name": "Python 3",
   "language": "python",
   "name": "python3"
  },
  "language_info": {
   "codemirror_mode": {
    "name": "ipython",
    "version": 3
   },
   "file_extension": ".py",
   "mimetype": "text/x-python",
   "name": "python",
   "nbconvert_exporter": "python",
   "pygments_lexer": "ipython3",
   "version": "3.7.3"
  }
 },
 "nbformat": 4,
 "nbformat_minor": 4
}
