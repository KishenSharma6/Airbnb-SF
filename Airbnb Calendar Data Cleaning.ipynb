{
 "cells": [
  {
   "cell_type": "markdown",
   "metadata": {},
   "source": [
    "# Data Cleaning - Airbnb Calendar Data"
   ]
  },
  {
   "cell_type": "markdown",
   "metadata": {},
   "source": [
    "## Introduction\n",
    "\n",
    "In the following notebook, I'll be cleaning up the calendar data SF_Calendar_Nov2018_Oct2019.csv"
   ]
  },
  {
   "cell_type": "markdown",
   "metadata": {},
   "source": [
    "**Read in necessary libraries**"
   ]
  },
  {
   "cell_type": "code",
   "execution_count": 11,
   "metadata": {},
   "outputs": [],
   "source": [
    "#Read in libraries\n",
    "import dask.dataframe as dd\n",
    "import swifter\n",
    "\n",
    "import pandas as pd\n",
    "\n",
    "import re\n",
    "\n",
    "import numpy as np\n",
    "from scipy import stats\n",
    "\n",
    "import seaborn as sns\n",
    "import plotly.express as px"
   ]
  },
  {
   "cell_type": "markdown",
   "metadata": {},
   "source": [
    "**Set Additional Settings for Notebook**"
   ]
  },
  {
   "cell_type": "code",
   "execution_count": 12,
   "metadata": {},
   "outputs": [],
   "source": [
    "#Set plot aesthetics for notebook\n",
    "sns.set(style='whitegrid', palette='pastel', color_codes=True)\n",
    "\n",
    "#Increase number of columns and rows displayed by Pandas\n",
    "pd.set_option('display.max_columns', 500)\n",
    "pd.set_option('display.max_rows',100)\n",
    "\n",
    "#supress future warnings\n",
    "import warnings; warnings.simplefilter(action='ignore', category=FutureWarning)"
   ]
  },
  {
   "cell_type": "markdown",
   "metadata": {},
   "source": [
    "**Read in Data**"
   ]
  },
  {
   "cell_type": "code",
   "execution_count": 13,
   "metadata": {},
   "outputs": [],
   "source": [
    "#Set path to get aggregated Calendar data\n",
    "path = r'C:\\Users\\kishe\\Documents\\Data Science\\Projects\\Python Projects\\In Progress\\Air BnB - SF\\SF Airbnb Raw Data - Aggregated\\SF_Calendar_Nov2018_Oct2019.csv'\n",
    "\n",
    "#Parse dates\n",
    "parse_dates = ['date']\n",
    "\n",
    "#Read in calendar and reviews data\n",
    "calendar = pd.read_csv(path, sep = '\\t', parse_dates=parse_dates,index_col=0, low_memory=False)"
   ]
  },
  {
   "cell_type": "markdown",
   "metadata": {},
   "source": [
    "## Data Preview"
   ]
  },
  {
   "cell_type": "code",
   "execution_count": 14,
   "metadata": {},
   "outputs": [
    {
     "data": {
      "text/html": [
       "<div>\n",
       "<style scoped>\n",
       "    .dataframe tbody tr th:only-of-type {\n",
       "        vertical-align: middle;\n",
       "    }\n",
       "\n",
       "    .dataframe tbody tr th {\n",
       "        vertical-align: top;\n",
       "    }\n",
       "\n",
       "    .dataframe thead th {\n",
       "        text-align: right;\n",
       "    }\n",
       "</style>\n",
       "<table border=\"1\" class=\"dataframe\">\n",
       "  <thead>\n",
       "    <tr style=\"text-align: right;\">\n",
       "      <th></th>\n",
       "      <th>adjusted_price</th>\n",
       "      <th>available</th>\n",
       "      <th>date</th>\n",
       "      <th>listing_id</th>\n",
       "      <th>maximum_nights</th>\n",
       "      <th>minimum_nights</th>\n",
       "      <th>price</th>\n",
       "    </tr>\n",
       "  </thead>\n",
       "  <tbody>\n",
       "    <tr>\n",
       "      <th>0</th>\n",
       "      <td>$80.00</td>\n",
       "      <td>f</td>\n",
       "      <td>2019-04-03</td>\n",
       "      <td>187730</td>\n",
       "      <td>120.0</td>\n",
       "      <td>3.0</td>\n",
       "      <td>$80.00</td>\n",
       "    </tr>\n",
       "    <tr>\n",
       "      <th>1</th>\n",
       "      <td>$80.00</td>\n",
       "      <td>f</td>\n",
       "      <td>2019-04-04</td>\n",
       "      <td>187730</td>\n",
       "      <td>120.0</td>\n",
       "      <td>3.0</td>\n",
       "      <td>$80.00</td>\n",
       "    </tr>\n",
       "    <tr>\n",
       "      <th>2</th>\n",
       "      <td>$82.00</td>\n",
       "      <td>t</td>\n",
       "      <td>2019-04-05</td>\n",
       "      <td>187730</td>\n",
       "      <td>120.0</td>\n",
       "      <td>3.0</td>\n",
       "      <td>$82.00</td>\n",
       "    </tr>\n",
       "    <tr>\n",
       "      <th>3</th>\n",
       "      <td>$82.00</td>\n",
       "      <td>t</td>\n",
       "      <td>2019-04-06</td>\n",
       "      <td>187730</td>\n",
       "      <td>120.0</td>\n",
       "      <td>3.0</td>\n",
       "      <td>$82.00</td>\n",
       "    </tr>\n",
       "    <tr>\n",
       "      <th>4</th>\n",
       "      <td>$81.00</td>\n",
       "      <td>t</td>\n",
       "      <td>2019-04-07</td>\n",
       "      <td>187730</td>\n",
       "      <td>120.0</td>\n",
       "      <td>3.0</td>\n",
       "      <td>$81.00</td>\n",
       "    </tr>\n",
       "  </tbody>\n",
       "</table>\n",
       "</div>"
      ],
      "text/plain": [
       "  adjusted_price available       date  listing_id  maximum_nights  \\\n",
       "0         $80.00         f 2019-04-03      187730           120.0   \n",
       "1         $80.00         f 2019-04-04      187730           120.0   \n",
       "2         $82.00         t 2019-04-05      187730           120.0   \n",
       "3         $82.00         t 2019-04-06      187730           120.0   \n",
       "4         $81.00         t 2019-04-07      187730           120.0   \n",
       "\n",
       "   minimum_nights   price  \n",
       "0             3.0  $80.00  \n",
       "1             3.0  $80.00  \n",
       "2             3.0  $82.00  \n",
       "3             3.0  $82.00  \n",
       "4             3.0  $81.00  "
      ]
     },
     "metadata": {},
     "output_type": "display_data"
    }
   ],
   "source": [
    "#Preview calendar data\n",
    "display(calendar.head())"
   ]
  },
  {
   "cell_type": "markdown",
   "metadata": {},
   "source": [
    "View missing calendar data"
   ]
  },
  {
   "cell_type": "code",
   "execution_count": 15,
   "metadata": {},
   "outputs": [
    {
     "data": {
      "text/html": [
       "<div>\n",
       "<style scoped>\n",
       "    .dataframe tbody tr th:only-of-type {\n",
       "        vertical-align: middle;\n",
       "    }\n",
       "\n",
       "    .dataframe tbody tr th {\n",
       "        vertical-align: top;\n",
       "    }\n",
       "\n",
       "    .dataframe thead th {\n",
       "        text-align: right;\n",
       "    }\n",
       "</style>\n",
       "<table border=\"1\" class=\"dataframe\">\n",
       "  <thead>\n",
       "    <tr style=\"text-align: right;\">\n",
       "      <th></th>\n",
       "      <th>Total Missing</th>\n",
       "      <th>Missing Percent</th>\n",
       "    </tr>\n",
       "  </thead>\n",
       "  <tbody>\n",
       "    <tr>\n",
       "      <th>adjusted_price</th>\n",
       "      <td>3452285</td>\n",
       "      <td>21.709867</td>\n",
       "    </tr>\n",
       "    <tr>\n",
       "      <th>minimum_nights</th>\n",
       "      <td>3451949</td>\n",
       "      <td>21.707754</td>\n",
       "    </tr>\n",
       "    <tr>\n",
       "      <th>maximum_nights</th>\n",
       "      <td>3451949</td>\n",
       "      <td>21.707754</td>\n",
       "    </tr>\n",
       "    <tr>\n",
       "      <th>price</th>\n",
       "      <td>1755600</td>\n",
       "      <td>11.040178</td>\n",
       "    </tr>\n",
       "  </tbody>\n",
       "</table>\n",
       "</div>"
      ],
      "text/plain": [
       "                Total Missing  Missing Percent\n",
       "adjusted_price        3452285        21.709867\n",
       "minimum_nights        3451949        21.707754\n",
       "maximum_nights        3451949        21.707754\n",
       "price                 1755600        11.040178"
      ]
     },
     "execution_count": 15,
     "metadata": {},
     "output_type": "execute_result"
    }
   ],
   "source": [
    "#Capture total number of missing data per column\n",
    "total = calendar.isnull().sum().sort_values(ascending=False)\n",
    "\n",
    "#Calculate the % of missing data per column\n",
    "percent = (calendar.isnull().sum()/calendar.isnull().count()).sort_values(ascending=False)\n",
    "\n",
    "#Concatenate into a pd dataframe\n",
    "missing_data = pd.concat([total, percent], axis=1, keys=['Total Missing', 'Missing Percent'])\n",
    "\n",
    "#Format percentage  \n",
    "missing_data['Missing Percent'] = missing_data['Missing Percent'].apply(lambda x: x * 100)\n",
    "\n",
    "#View columns with > 10% of data missing\n",
    "missing_data.loc[missing_data['Missing Percent'] > 10][:10]"
   ]
  },
  {
   "cell_type": "markdown",
   "metadata": {},
   "source": [
    "We will need to do some data cleaning in order to get metrics about our calendar data."
   ]
  },
  {
   "cell_type": "code",
   "execution_count": 16,
   "metadata": {},
   "outputs": [
    {
     "data": {
      "application/vnd.jupyter.widget-view+json": {
       "model_id": "9dc0534b119e4ec6bf5a04504e8abc95",
       "version_major": 2,
       "version_minor": 0
      },
      "text/plain": [
       "HBox(children=(FloatProgress(value=0.0, description='Pandas Apply', max=2.0, style=ProgressStyle(description_w…"
      ]
     },
     "metadata": {},
     "output_type": "display_data"
    },
    {
     "name": "stdout",
     "output_type": "stream",
     "text": [
      "\n"
     ]
    },
    {
     "data": {
      "application/vnd.jupyter.widget-view+json": {
       "model_id": "1dd446aac8d9434ba7eec19ac67875f4",
       "version_major": 2,
       "version_minor": 0
      },
      "text/plain": [
       "HBox(children=(FloatProgress(value=0.0, description='Pandas Apply', max=15901917.0, style=ProgressStyle(descri…"
      ]
     },
     "metadata": {},
     "output_type": "display_data"
    },
    {
     "name": "stdout",
     "output_type": "stream",
     "text": [
      "\n"
     ]
    },
    {
     "data": {
      "text/plain": [
       "adjusted_price           float64\n",
       "available                  int64\n",
       "date              datetime64[ns]\n",
       "listing_id                 int64\n",
       "maximum_nights           float64\n",
       "minimum_nights           float64\n",
       "price                    float64\n",
       "dtype: object"
      ]
     },
     "execution_count": 16,
     "metadata": {},
     "output_type": "execute_result"
    }
   ],
   "source": [
    "#Remove $ and , from price and adjusted price column\n",
    "cols = ['adjusted_price', 'price']\n",
    "calendar[cols]=calendar[cols].replace('[,$]','', regex=True)\n",
    "\n",
    "#Convert string to numeric\n",
    "calendar[cols] =calendar[cols].swifter.apply(pd.to_numeric, errors='coerce')\n",
    "\n",
    "#Replace 't' and 'f' in available column to True and False\n",
    "calendar.available = calendar.available.swifter.apply(lambda x:  1 if x =='t' else 0)\n",
    "\n",
    "#Correct data type for data column\n",
    "calendar.date=pd.to_datetime(calendar.date)\n",
    "\n",
    "#Check data types\n",
    "calendar.dtypes"
   ]
  },
  {
   "cell_type": "markdown",
   "metadata": {},
   "source": [
    "View calendar metrics "
   ]
  },
  {
   "cell_type": "code",
   "execution_count": 17,
   "metadata": {},
   "outputs": [],
   "source": [
    "# #Describe calendar data\n",
    "# print(calendar.describe())\n",
    " \n",
    "# #Print variance within calendar data\n",
    "# print('\\nCalendar variance: \\n',calendar.var(axis=0))"
   ]
  },
  {
   "cell_type": "markdown",
   "metadata": {},
   "source": [
    "Calendar data distributions"
   ]
  },
  {
   "cell_type": "code",
   "execution_count": 18,
   "metadata": {},
   "outputs": [
    {
     "data": {
      "image/png": "[encoded data removed]",
      "text/plain": [
       "<Figure size 720x720 with 6 Axes>"
      ]
     },
     "metadata": {},
     "output_type": "display_data"
    }
   ],
   "source": [
    "#Display distributions of calendar data\n",
    "calendar.hist(figsize=(10,10));"
   ]
  },
  {
   "cell_type": "markdown",
   "metadata": {},
   "source": [
    "### Remove Duplicate Rows"
   ]
  },
  {
   "cell_type": "code",
   "execution_count": 19,
   "metadata": {},
   "outputs": [
    {
     "name": "stdout",
     "output_type": "stream",
     "text": [
      "Updated calendar shape: (15901917, 7)\n"
     ]
    }
   ],
   "source": [
    "#Remove any duplicate rows\n",
    "calendar.drop_duplicates(inplace=True)\n",
    "\n",
    "#Updated calendar shape\n",
    "print('Updated calendar shape:', calendar.shape)"
   ]
  },
  {
   "cell_type": "markdown",
   "metadata": {},
   "source": [
    "#### Calendar Outlier Removal(Price)"
   ]
  },
  {
   "cell_type": "code",
   "execution_count": 20,
   "metadata": {},
   "outputs": [
    {
     "data": {
      "image/png": "[encoded data removed]",
      "text/plain": [
       "<Figure size 720x468 with 1 Axes>"
      ]
     },
     "metadata": {},
     "output_type": "display_data"
    }
   ],
   "source": [
    "#Plot data\n",
    "calendar.price.plot(kind = 'hist', figsize = (10,6.5),\n",
    "                    legend = True, title = 'Price Distribution Calendar Data')\n",
    "\n",
    "#Capture plot object\n",
    "ax = plt.gca()\n",
    "\n",
    "#Format x-axis\n",
    "ax.get_xaxis().set_major_formatter(plt.FuncFormatter(lambda x, loc: \"${:,}\".format(int(x))))\n",
    "\n",
    "#Format grid lines\n",
    "ax.grid(b = False, which ='major', axis = 'x')"
   ]
  },
  {
   "cell_type": "markdown",
   "metadata": {},
   "source": [
    "**Identify and remove outliers using IQR"
   ]
  },
  {
   "cell_type": "code",
   "execution_count": 21,
   "metadata": {},
   "outputs": [
    {
     "name": "stdout",
     "output_type": "stream",
     "text": [
      "(15901917, 7)\n"
     ]
    }
   ],
   "source": [
    "#Original Calendar Shape\n",
    "print(calendar.shape)"
   ]
  },
  {
   "cell_type": "code",
   "execution_count": 22,
   "metadata": {},
   "outputs": [
    {
     "name": "stdout",
     "output_type": "stream",
     "text": [
      "Percentiles: 25th=104.000, 75th=249.000 \n",
      "IQR= 145.000\n",
      "Number of outliers identified: 1499300\n",
      "Non-outlier observations: 12647017\n"
     ]
    },
    {
     "data": {
      "text/plain": [
       "(12647017, 7)"
      ]
     },
     "execution_count": 22,
     "metadata": {},
     "output_type": "execute_result"
    }
   ],
   "source": [
    "#Calculate IQR of price\n",
    "q25 = calendar['price'].quantile(0.25)\n",
    "q75= calendar['price'].quantile(0.75)\n",
    "iqr = q75 - q25\n",
    "\n",
    "#Print percentiles\n",
    "print('Percentiles: 25th={:.3f}, 75th={:.3f} \\nIQR= {:.3f}'.format(q25, q75, iqr))\n",
    "\n",
    "#Calculate outlier cutoffs\n",
    "cut_off =1.5 * iqr\n",
    "lower, upper = q25 - cut_off, q75 + iqr\n",
    "\n",
    "#Identify outliers\n",
    "outliers = [x for x in calendar.price if x < lower or x > upper]\n",
    "print(\"Number of outliers identified: {}\".format(len(outliers)))\n",
    "\n",
    "#Remove outliers\n",
    "outliers_removed = [x for x in calendar.price if x >= lower and x <= upper]\n",
    "print('Non-outlier observations: {}'.format(len(outliers_removed)))\n",
    "\n",
    "#Update df\n",
    "calendar = calendar[calendar.price.isin(outliers_removed)]\n",
    "calendar.shape"
   ]
  },
  {
   "cell_type": "code",
   "execution_count": 23,
   "metadata": {},
   "outputs": [
    {
     "name": "stderr",
     "output_type": "stream",
     "text": [
      "C:\\Users\\kishe\\Miniconda3\\lib\\site-packages\\ipykernel_launcher.py:26: MatplotlibDeprecationWarning:\n",
      "\n",
      "Unrecognized location 'top right'. Falling back on 'best'; valid locations are\n",
      "\tbest\n",
      "\tupper right\n",
      "\tupper left\n",
      "\tlower left\n",
      "\tlower right\n",
      "\tright\n",
      "\tcenter left\n",
      "\tcenter right\n",
      "\tlower center\n",
      "\tupper center\n",
      "\tcenter\n",
      "This will raise an exception in 3.3.\n",
      "\n"
     ]
    },
    {
     "data": {
      "text/plain": [
       "<matplotlib.legend.Legend at 0x2be2c9ea518>"
      ]
     },
     "execution_count": 23,
     "metadata": {},
     "output_type": "execute_result"
    },
    {
     "data": {
      "image/png": "[encoded data removed]",
      "text/plain": [
       "<Figure size 432x288 with 1 Axes>"
      ]
     },
     "metadata": {},
     "output_type": "display_data"
    }
   ],
   "source": [
    "#Plot updated prices from calendar data\n",
    "calendar.price.plot(kind = 'hist',  title = 'Calendar price distribution Updated', label = 'PRICE',\n",
    "                   legend = True)\n",
    "\n",
    "#Get plot object\n",
    "ax = plt.gca()\n",
    "\n",
    "#Capture mean and median\n",
    "mean = np.mean(calendar.price)\n",
    "median = np.median(calendar.price)\n",
    "\n",
    "#Plot mean and median to histogram\n",
    "ax.axvline(mean, color='k', linestyle='dashed', linewidth=2.5, label = \"AVG ${:}\".format(str(round(mean,2))))\n",
    "ax.axvline(median, color='g', linestyle='solid', linewidth=2.5, label = \"MED ${:}\".format(str(round(median,2))))\n",
    "\n",
    "#Format x-axis\n",
    "ax.get_xaxis().set_major_formatter(plt.FuncFormatter(lambda x, loc: \"${:,}\".format(int(x))))\n",
    "\n",
    "#Format y ticks\n",
    "ax.get_yaxis().set_major_formatter(plt.FuncFormatter(lambda x, loc: \"{:,}\".format(int(x))))\n",
    "\n",
    "#Mute vertical grid lines\n",
    "ax.grid(b = False, which ='major', axis = 'x')\n",
    "\n",
    "#Show legend\n",
    "plt.legend(frameon = True, loc='upper right')"
   ]
  },
  {
   "cell_type": "code",
   "execution_count": 24,
   "metadata": {},
   "outputs": [],
   "source": [
    "# #Set path to write listings\n",
    "# path = r'C:\\Users\\kishe\\Documents\\Data Science\\Projects\\Python Projects\\In Progress\\Air BnB - SF\\Data\\02_Intermediate\\calendar_cleaned.csv'\n",
    "\n",
    "# #Write listings to path\n",
    "# calendar.to_csv(path, sep='\\t')"
   ]
  },
  {
   "cell_type": "code",
   "execution_count": null,
   "metadata": {},
   "outputs": [],
   "source": []
  }
 ],
 "metadata": {
  "kernelspec": {
   "display_name": "Python 3",
   "language": "python",
   "name": "python3"
  },
  "language_info": {
   "codemirror_mode": {
    "name": "ipython",
    "version": 3
   },
   "file_extension": ".py",
   "mimetype": "text/x-python",
   "name": "python",
   "nbconvert_exporter": "python",
   "pygments_lexer": "ipython3",
   "version": "3.7.3"
  }
 },
 "nbformat": 4,
 "nbformat_minor": 4
}
