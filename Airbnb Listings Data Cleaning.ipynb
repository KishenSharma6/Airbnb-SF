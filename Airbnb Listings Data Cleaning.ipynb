{
 "cells": [
  {
   "cell_type": "markdown",
   "metadata": {},
   "source": [
    "# Data Cleaning File"
   ]
  },
  {
   "cell_type": "code",
   "execution_count": 66,
   "metadata": {},
   "outputs": [],
   "source": [
    "#Read in libraries\n",
    "import dask.dataframe as dd\n",
    "import swifter\n",
    "\n",
    "import pandas as pd\n",
    "\n",
    "import re\n",
    "\n",
    "import numpy as np\n",
    "from scipy import stats\n",
    "\n",
    "import matplotlib.pyplot as plt\n",
    "import seaborn as sns\n",
    "import plotly.express as px\n",
    "\n",
    "#supress future warnings\n",
    "import warnings\n",
    "warnings.simplefilter(action='ignore', category=FutureWarning)"
   ]
  },
  {
   "cell_type": "code",
   "execution_count": 67,
   "metadata": {},
   "outputs": [],
   "source": [
    "#Set path to get aggregated listings data\n",
    "path = r'C:\\Users\\kishe\\Documents\\Data Science\\Projects\\Python Projects\\In Progress\\Air BnB - SF\\SF Airbnb Raw Data - Aggregated\\SF_Listings_Nov2018_Oct2019.csv'\n",
    "\n",
    "#Read in Airbnb Listings Data\n",
    "listings = pd.read_csv(path,index_col=0, low_memory=False, sep='\\t')\n"
   ]
  },
  {
   "cell_type": "markdown",
   "metadata": {},
   "source": [
    "# Data Cleaning"
   ]
  },
  {
   "cell_type": "markdown",
   "metadata": {},
   "source": [
    "## Listings Data"
   ]
  },
  {
   "cell_type": "code",
   "execution_count": 68,
   "metadata": {},
   "outputs": [
    {
     "name": "stdout",
     "output_type": "stream",
     "text": [
      "Original listings shape: (88937, 106)\n"
     ]
    },
    {
     "data": {
      "text/html": [
       "<div>\n",
       "<style scoped>\n",
       "    .dataframe tbody tr th:only-of-type {\n",
       "        vertical-align: middle;\n",
       "    }\n",
       "\n",
       "    .dataframe tbody tr th {\n",
       "        vertical-align: top;\n",
       "    }\n",
       "\n",
       "    .dataframe thead th {\n",
       "        text-align: right;\n",
       "    }\n",
       "</style>\n",
       "<table border=\"1\" class=\"dataframe\">\n",
       "  <thead>\n",
       "    <tr style=\"text-align: right;\">\n",
       "      <th></th>\n",
       "      <th>access</th>\n",
       "      <th>accommodates</th>\n",
       "      <th>amenities</th>\n",
       "      <th>availability_30</th>\n",
       "      <th>availability_365</th>\n",
       "      <th>availability_60</th>\n",
       "      <th>availability_90</th>\n",
       "      <th>bathrooms</th>\n",
       "      <th>bed_type</th>\n",
       "      <th>bedrooms</th>\n",
       "      <th>...</th>\n",
       "      <th>space</th>\n",
       "      <th>square_feet</th>\n",
       "      <th>state</th>\n",
       "      <th>street</th>\n",
       "      <th>summary</th>\n",
       "      <th>thumbnail_url</th>\n",
       "      <th>transit</th>\n",
       "      <th>weekly_price</th>\n",
       "      <th>xl_picture_url</th>\n",
       "      <th>zipcode</th>\n",
       "    </tr>\n",
       "  </thead>\n",
       "  <tbody>\n",
       "    <tr>\n",
       "      <th>0</th>\n",
       "      <td>*Full access to patio and backyard (shared wit...</td>\n",
       "      <td>3</td>\n",
       "      <td>{TV,\"Cable TV\",Internet,Wifi,Kitchen,\"Pets liv...</td>\n",
       "      <td>0</td>\n",
       "      <td>77</td>\n",
       "      <td>0</td>\n",
       "      <td>1</td>\n",
       "      <td>1.0</td>\n",
       "      <td>Real Bed</td>\n",
       "      <td>1.0</td>\n",
       "      <td>...</td>\n",
       "      <td>Newly remodeled, modern, and bright garden uni...</td>\n",
       "      <td>NaN</td>\n",
       "      <td>CA</td>\n",
       "      <td>San Francisco, CA, United States</td>\n",
       "      <td>New update: the house next door is under const...</td>\n",
       "      <td>NaN</td>\n",
       "      <td>*Public Transportation is 1/2 block away.  *Ce...</td>\n",
       "      <td>$1,120.00</td>\n",
       "      <td>NaN</td>\n",
       "      <td>94117</td>\n",
       "    </tr>\n",
       "    <tr>\n",
       "      <th>1</th>\n",
       "      <td>Our deck, garden, gourmet kitchen and extensiv...</td>\n",
       "      <td>5</td>\n",
       "      <td>{Internet,Wifi,Kitchen,Heating,\"Family/kid fri...</td>\n",
       "      <td>0</td>\n",
       "      <td>0</td>\n",
       "      <td>0</td>\n",
       "      <td>0</td>\n",
       "      <td>1.0</td>\n",
       "      <td>Real Bed</td>\n",
       "      <td>2.0</td>\n",
       "      <td>...</td>\n",
       "      <td>We live in a large Victorian house on a quiet ...</td>\n",
       "      <td>NaN</td>\n",
       "      <td>CA</td>\n",
       "      <td>San Francisco, CA, United States</td>\n",
       "      <td>NaN</td>\n",
       "      <td>NaN</td>\n",
       "      <td>The train is two blocks away and you can stop ...</td>\n",
       "      <td>$1,600.00</td>\n",
       "      <td>NaN</td>\n",
       "      <td>94110</td>\n",
       "    </tr>\n",
       "    <tr>\n",
       "      <th>2</th>\n",
       "      <td>NaN</td>\n",
       "      <td>2</td>\n",
       "      <td>{TV,Internet,Wifi,Kitchen,\"Free street parking...</td>\n",
       "      <td>30</td>\n",
       "      <td>365</td>\n",
       "      <td>60</td>\n",
       "      <td>90</td>\n",
       "      <td>4.0</td>\n",
       "      <td>Real Bed</td>\n",
       "      <td>1.0</td>\n",
       "      <td>...</td>\n",
       "      <td>Room rental-sunny view room/sink/Wi Fi (inner ...</td>\n",
       "      <td>NaN</td>\n",
       "      <td>CA</td>\n",
       "      <td>San Francisco, CA, United States</td>\n",
       "      <td>Nice and good public transportation.  7 minute...</td>\n",
       "      <td>NaN</td>\n",
       "      <td>N Juda Muni and bus stop.  Street parking.</td>\n",
       "      <td>$485.00</td>\n",
       "      <td>NaN</td>\n",
       "      <td>94117</td>\n",
       "    </tr>\n",
       "    <tr>\n",
       "      <th>3</th>\n",
       "      <td>NaN</td>\n",
       "      <td>2</td>\n",
       "      <td>{TV,Internet,Wifi,Kitchen,\"Free street parking...</td>\n",
       "      <td>30</td>\n",
       "      <td>365</td>\n",
       "      <td>60</td>\n",
       "      <td>90</td>\n",
       "      <td>4.0</td>\n",
       "      <td>Real Bed</td>\n",
       "      <td>1.0</td>\n",
       "      <td>...</td>\n",
       "      <td>Room rental Sunny view Rm/Wi-Fi/TV/sink/large ...</td>\n",
       "      <td>NaN</td>\n",
       "      <td>CA</td>\n",
       "      <td>San Francisco, CA, United States</td>\n",
       "      <td>Nice and good public transportation.  7 minute...</td>\n",
       "      <td>NaN</td>\n",
       "      <td>N Juda Muni, Bus and UCSF Shuttle. small shopp...</td>\n",
       "      <td>$490.00</td>\n",
       "      <td>NaN</td>\n",
       "      <td>94117</td>\n",
       "    </tr>\n",
       "    <tr>\n",
       "      <th>4</th>\n",
       "      <td>Guests have access to everything listed and sh...</td>\n",
       "      <td>5</td>\n",
       "      <td>{TV,Internet,Wifi,Kitchen,Heating,\"Family/kid ...</td>\n",
       "      <td>30</td>\n",
       "      <td>90</td>\n",
       "      <td>60</td>\n",
       "      <td>90</td>\n",
       "      <td>1.5</td>\n",
       "      <td>Real Bed</td>\n",
       "      <td>2.0</td>\n",
       "      <td>...</td>\n",
       "      <td>Please send us a quick message before booking ...</td>\n",
       "      <td>NaN</td>\n",
       "      <td>CA</td>\n",
       "      <td>San Francisco, CA, United States</td>\n",
       "      <td>Pls email before booking.  Interior featured i...</td>\n",
       "      <td>NaN</td>\n",
       "      <td>NaN</td>\n",
       "      <td>NaN</td>\n",
       "      <td>NaN</td>\n",
       "      <td>94117</td>\n",
       "    </tr>\n",
       "  </tbody>\n",
       "</table>\n",
       "<p>5 rows × 106 columns</p>\n",
       "</div>"
      ],
      "text/plain": [
       "                                              access  accommodates  \\\n",
       "0  *Full access to patio and backyard (shared wit...             3   \n",
       "1  Our deck, garden, gourmet kitchen and extensiv...             5   \n",
       "2                                                NaN             2   \n",
       "3                                                NaN             2   \n",
       "4  Guests have access to everything listed and sh...             5   \n",
       "\n",
       "                                           amenities  availability_30  \\\n",
       "0  {TV,\"Cable TV\",Internet,Wifi,Kitchen,\"Pets liv...                0   \n",
       "1  {Internet,Wifi,Kitchen,Heating,\"Family/kid fri...                0   \n",
       "2  {TV,Internet,Wifi,Kitchen,\"Free street parking...               30   \n",
       "3  {TV,Internet,Wifi,Kitchen,\"Free street parking...               30   \n",
       "4  {TV,Internet,Wifi,Kitchen,Heating,\"Family/kid ...               30   \n",
       "\n",
       "   availability_365  availability_60  availability_90  bathrooms  bed_type  \\\n",
       "0                77                0                1        1.0  Real Bed   \n",
       "1                 0                0                0        1.0  Real Bed   \n",
       "2               365               60               90        4.0  Real Bed   \n",
       "3               365               60               90        4.0  Real Bed   \n",
       "4                90               60               90        1.5  Real Bed   \n",
       "\n",
       "   bedrooms  ...                                              space  \\\n",
       "0       1.0  ...  Newly remodeled, modern, and bright garden uni...   \n",
       "1       2.0  ...  We live in a large Victorian house on a quiet ...   \n",
       "2       1.0  ...  Room rental-sunny view room/sink/Wi Fi (inner ...   \n",
       "3       1.0  ...  Room rental Sunny view Rm/Wi-Fi/TV/sink/large ...   \n",
       "4       2.0  ...  Please send us a quick message before booking ...   \n",
       "\n",
       "   square_feet  state                            street  \\\n",
       "0          NaN     CA  San Francisco, CA, United States   \n",
       "1          NaN     CA  San Francisco, CA, United States   \n",
       "2          NaN     CA  San Francisco, CA, United States   \n",
       "3          NaN     CA  San Francisco, CA, United States   \n",
       "4          NaN     CA  San Francisco, CA, United States   \n",
       "\n",
       "                                             summary thumbnail_url  \\\n",
       "0  New update: the house next door is under const...           NaN   \n",
       "1                                                NaN           NaN   \n",
       "2  Nice and good public transportation.  7 minute...           NaN   \n",
       "3  Nice and good public transportation.  7 minute...           NaN   \n",
       "4  Pls email before booking.  Interior featured i...           NaN   \n",
       "\n",
       "                                             transit weekly_price  \\\n",
       "0  *Public Transportation is 1/2 block away.  *Ce...    $1,120.00   \n",
       "1  The train is two blocks away and you can stop ...    $1,600.00   \n",
       "2         N Juda Muni and bus stop.  Street parking.      $485.00   \n",
       "3  N Juda Muni, Bus and UCSF Shuttle. small shopp...      $490.00   \n",
       "4                                                NaN          NaN   \n",
       "\n",
       "  xl_picture_url zipcode  \n",
       "0            NaN   94117  \n",
       "1            NaN   94110  \n",
       "2            NaN   94117  \n",
       "3            NaN   94117  \n",
       "4            NaN   94117  \n",
       "\n",
       "[5 rows x 106 columns]"
      ]
     },
     "execution_count": 68,
     "metadata": {},
     "output_type": "execute_result"
    }
   ],
   "source": [
    "#Original listings shape\n",
    "print('Original listings shape:',listings.shape)\n",
    "\n",
    "listings.head()"
   ]
  },
  {
   "cell_type": "markdown",
   "metadata": {},
   "source": [
    "### Remove Duplicate Rows"
   ]
  },
  {
   "cell_type": "code",
   "execution_count": 69,
   "metadata": {},
   "outputs": [
    {
     "name": "stdout",
     "output_type": "stream",
     "text": [
      "Updated listings shape: (88937, 106)\n"
     ]
    }
   ],
   "source": [
    "#Remove any duplicate rows\n",
    "listings.drop_duplicates(inplace=True)\n",
    "\n",
    "#Updated listings shape\n",
    "print('Updated listings shape:', listings.shape)"
   ]
  },
  {
   "cell_type": "markdown",
   "metadata": {},
   "source": [
    "### Column Removal"
   ]
  },
  {
   "cell_type": "markdown",
   "metadata": {},
   "source": [
    "**Remove columns containing >.9 collinearity from Pandas Report**"
   ]
  },
  {
   "cell_type": "code",
   "execution_count": 70,
   "metadata": {},
   "outputs": [
    {
     "name": "stdout",
     "output_type": "stream",
     "text": [
      "Updated listings shape: (88937, 93)\n"
     ]
    }
   ],
   "source": [
    "#Create list of columns to drop\n",
    "collinear= ['availability_60', 'availability_90', 'calculated_host_listings_count_entire_homes', 'country_code', \n",
    "'host_total_listings_count', 'last_scraped', 'maximum_minimum_nights', 'maximum_nights', \n",
    "'maximum_nights_avg_ntm', 'minimum_maximum_nights', 'minimum_minimum_nights', 'minimum_nights', 'minimum_nights_avg_ntm']\n",
    "\n",
    "#Remove collinear columns from listings\n",
    "listings.drop(columns = collinear, inplace = True)\n",
    "\n",
    "#Updated listings shape\n",
    "print('Updated listings shape:', listings.shape)"
   ]
  },
  {
   "cell_type": "code",
   "execution_count": 71,
   "metadata": {},
   "outputs": [
    {
     "name": "stdout",
     "output_type": "stream",
     "text": [
      "Updated listings shape: (88937, 85)\n"
     ]
    }
   ],
   "source": [
    "#Drop columns containing URL's\n",
    "listings = listings[listings.columns.drop(list(listings.filter(regex='url$')))]\n",
    "\n",
    "#Updated listings shape\n",
    "print('Updated listings shape:', listings.shape)"
   ]
  },
  {
   "cell_type": "markdown",
   "metadata": {},
   "source": [
    "**Remove webscrape information columns**"
   ]
  },
  {
   "cell_type": "code",
   "execution_count": 72,
   "metadata": {},
   "outputs": [
    {
     "name": "stdout",
     "output_type": "stream",
     "text": [
      "Updated listings shape: (88937, 84)\n"
     ]
    }
   ],
   "source": [
    "#Drop scrape_id\n",
    "listings.drop(columns='scrape_id', inplace=True)\n",
    "\n",
    "#Updated listings shape\n",
    "print('Updated listings shape:', listings.shape)"
   ]
  },
  {
   "cell_type": "markdown",
   "metadata": {},
   "source": [
    "**Columns with majority NA values**\n",
    "\n",
    "Columns with greater than 30% missing values will be removed"
   ]
  },
  {
   "cell_type": "code",
   "execution_count": 73,
   "metadata": {},
   "outputs": [
    {
     "name": "stdout",
     "output_type": "stream",
     "text": [
      "host_acceptance_rate            1.000000\n",
      "neighbourhood_group_cleansed    1.000000\n",
      "square_feet                     0.982673\n",
      "monthly_price                   0.847757\n",
      "weekly_price                    0.846217\n",
      "notes                           0.380764\n",
      "license                         0.359266\n",
      "access                          0.338228\n",
      "interaction                     0.327501\n",
      "transit                         0.290936\n",
      "neighborhood_overview           0.265739\n",
      "house_rules                     0.264524\n",
      "host_about                      0.239158\n",
      "security_deposit                0.203695\n",
      "review_scores_value             0.196836\n",
      "dtype: float64\n"
     ]
    }
   ],
   "source": [
    "#Calculate which columns have mostly NA values\n",
    "print(listings.isnull().mean().sort_values(ascending=False).head(15))"
   ]
  },
  {
   "cell_type": "code",
   "execution_count": 74,
   "metadata": {},
   "outputs": [
    {
     "name": "stdout",
     "output_type": "stream",
     "text": [
      "Updated listings shape: (88937, 75)\n"
     ]
    }
   ],
   "source": [
    "#Dropping columns with more than 30% values missing\n",
    "listings= listings[listings.columns[listings.isnull().mean() < .30]]\n",
    "\n",
    "#Updated listings shape\n",
    "print('Updated listings shape:', listings.shape)"
   ]
  },
  {
   "cell_type": "markdown",
   "metadata": {},
   "source": [
    "**Dropping columns with constant values**"
   ]
  },
  {
   "cell_type": "code",
   "execution_count": 75,
   "metadata": {},
   "outputs": [
    {
     "name": "stdout",
     "output_type": "stream",
     "text": [
      "Updated listings shape: (88937, 69)\n"
     ]
    }
   ],
   "source": [
    "#Dropping columns containing constant values\n",
    "listings.drop(columns=['experiences_offered', 'has_availability','is_business_travel_ready','market',\n",
    "                      'state', 'jurisdiction_names'], inplace=True)\n",
    "\n",
    "#Updated listings shape\n",
    "print('Updated listings shape:', listings.shape)"
   ]
  },
  {
   "cell_type": "markdown",
   "metadata": {},
   "source": [
    "**Miscellaneous column removal**\n",
    "\n",
    "Country column contains country information for both the United States and Mexico. "
   ]
  },
  {
   "cell_type": "code",
   "execution_count": 76,
   "metadata": {},
   "outputs": [
    {
     "data": {
      "text/html": [
       "<div>\n",
       "<style scoped>\n",
       "    .dataframe tbody tr th:only-of-type {\n",
       "        vertical-align: middle;\n",
       "    }\n",
       "\n",
       "    .dataframe tbody tr th {\n",
       "        vertical-align: top;\n",
       "    }\n",
       "\n",
       "    .dataframe thead th {\n",
       "        text-align: right;\n",
       "    }\n",
       "</style>\n",
       "<table border=\"1\" class=\"dataframe\">\n",
       "  <thead>\n",
       "    <tr style=\"text-align: right;\">\n",
       "      <th></th>\n",
       "      <th>accommodates</th>\n",
       "      <th>amenities</th>\n",
       "      <th>availability_30</th>\n",
       "      <th>availability_365</th>\n",
       "      <th>bathrooms</th>\n",
       "      <th>bed_type</th>\n",
       "      <th>bedrooms</th>\n",
       "      <th>beds</th>\n",
       "      <th>calculated_host_listings_count</th>\n",
       "      <th>calculated_host_listings_count_private_rooms</th>\n",
       "      <th>...</th>\n",
       "      <th>review_scores_value</th>\n",
       "      <th>reviews_per_month</th>\n",
       "      <th>room_type</th>\n",
       "      <th>security_deposit</th>\n",
       "      <th>smart_location</th>\n",
       "      <th>space</th>\n",
       "      <th>street</th>\n",
       "      <th>summary</th>\n",
       "      <th>transit</th>\n",
       "      <th>zipcode</th>\n",
       "    </tr>\n",
       "  </thead>\n",
       "  <tbody>\n",
       "    <tr>\n",
       "      <th>4767</th>\n",
       "      <td>6</td>\n",
       "      <td>{TV,Internet,Wifi,\"Air conditioning\",Kitchen,E...</td>\n",
       "      <td>0</td>\n",
       "      <td>0</td>\n",
       "      <td>3.5</td>\n",
       "      <td>Real Bed</td>\n",
       "      <td>3.0</td>\n",
       "      <td>4.0</td>\n",
       "      <td>1</td>\n",
       "      <td>0.0</td>\n",
       "      <td>...</td>\n",
       "      <td>NaN</td>\n",
       "      <td>NaN</td>\n",
       "      <td>Entire home/apt</td>\n",
       "      <td>$1,500.00</td>\n",
       "      <td>San Francisco, Mexico</td>\n",
       "      <td>Included amenities: Wifi, iPhone, Welcome Pack...</td>\n",
       "      <td>San Francisco, Mexico</td>\n",
       "      <td>ONEFINESTAY is proud to present this 3 bedroom...</td>\n",
       "      <td>NaN</td>\n",
       "      <td>94109</td>\n",
       "    </tr>\n",
       "    <tr>\n",
       "      <th>20223</th>\n",
       "      <td>6</td>\n",
       "      <td>{TV,Internet,Wifi,\"Air conditioning\",Kitchen,E...</td>\n",
       "      <td>10</td>\n",
       "      <td>25</td>\n",
       "      <td>3.5</td>\n",
       "      <td>Real Bed</td>\n",
       "      <td>3.0</td>\n",
       "      <td>4.0</td>\n",
       "      <td>2</td>\n",
       "      <td>NaN</td>\n",
       "      <td>...</td>\n",
       "      <td>NaN</td>\n",
       "      <td>NaN</td>\n",
       "      <td>Entire home/apt</td>\n",
       "      <td>$1,500.00</td>\n",
       "      <td>San Francisco, Mexico</td>\n",
       "      <td>Included amenities: Wifi, iPhone, Welcome Pack...</td>\n",
       "      <td>San Francisco, Mexico</td>\n",
       "      <td>ONEFINESTAY is proud to present this 3 bedroom...</td>\n",
       "      <td>NaN</td>\n",
       "      <td>94109.0</td>\n",
       "    </tr>\n",
       "    <tr>\n",
       "      <th>27186</th>\n",
       "      <td>6</td>\n",
       "      <td>{TV,Internet,Wifi,\"Air conditioning\",Kitchen,E...</td>\n",
       "      <td>7</td>\n",
       "      <td>7</td>\n",
       "      <td>3.5</td>\n",
       "      <td>Real Bed</td>\n",
       "      <td>3.0</td>\n",
       "      <td>4.0</td>\n",
       "      <td>1</td>\n",
       "      <td>0.0</td>\n",
       "      <td>...</td>\n",
       "      <td>NaN</td>\n",
       "      <td>NaN</td>\n",
       "      <td>Entire home/apt</td>\n",
       "      <td>$1,500.00</td>\n",
       "      <td>San Francisco, Mexico</td>\n",
       "      <td>Included amenities: Wifi, iPhone, Welcome Pack...</td>\n",
       "      <td>San Francisco, Mexico</td>\n",
       "      <td>ONEFINESTAY is proud to present this 3 bedroom...</td>\n",
       "      <td>NaN</td>\n",
       "      <td>94109</td>\n",
       "    </tr>\n",
       "    <tr>\n",
       "      <th>34502</th>\n",
       "      <td>6</td>\n",
       "      <td>{TV,Internet,Wifi,\"Air conditioning\",Kitchen,E...</td>\n",
       "      <td>11</td>\n",
       "      <td>14</td>\n",
       "      <td>3.5</td>\n",
       "      <td>Real Bed</td>\n",
       "      <td>3.0</td>\n",
       "      <td>4.0</td>\n",
       "      <td>1</td>\n",
       "      <td>0.0</td>\n",
       "      <td>...</td>\n",
       "      <td>NaN</td>\n",
       "      <td>NaN</td>\n",
       "      <td>Entire home/apt</td>\n",
       "      <td>$1,500.00</td>\n",
       "      <td>San Francisco, Mexico</td>\n",
       "      <td>Included amenities: Wifi, iPhone, Welcome Pack...</td>\n",
       "      <td>San Francisco, Mexico</td>\n",
       "      <td>ONEFINESTAY is proud to present this 3 bedroom...</td>\n",
       "      <td>NaN</td>\n",
       "      <td>94109</td>\n",
       "    </tr>\n",
       "    <tr>\n",
       "      <th>56734</th>\n",
       "      <td>6</td>\n",
       "      <td>{TV,Internet,Wifi,\"Air conditioning\",Kitchen,E...</td>\n",
       "      <td>0</td>\n",
       "      <td>0</td>\n",
       "      <td>3.5</td>\n",
       "      <td>Real Bed</td>\n",
       "      <td>3.0</td>\n",
       "      <td>4.0</td>\n",
       "      <td>1</td>\n",
       "      <td>0.0</td>\n",
       "      <td>...</td>\n",
       "      <td>NaN</td>\n",
       "      <td>NaN</td>\n",
       "      <td>Entire home/apt</td>\n",
       "      <td>$1,500.00</td>\n",
       "      <td>San Francisco, Mexico</td>\n",
       "      <td>Included amenities: Wifi, iPhone, Welcome Pack...</td>\n",
       "      <td>San Francisco, Mexico</td>\n",
       "      <td>ONEFINESTAY is proud to present this 3 bedroom...</td>\n",
       "      <td>NaN</td>\n",
       "      <td>94109</td>\n",
       "    </tr>\n",
       "  </tbody>\n",
       "</table>\n",
       "<p>5 rows × 69 columns</p>\n",
       "</div>"
      ],
      "text/plain": [
       "       accommodates                                          amenities  \\\n",
       "4767              6  {TV,Internet,Wifi,\"Air conditioning\",Kitchen,E...   \n",
       "20223             6  {TV,Internet,Wifi,\"Air conditioning\",Kitchen,E...   \n",
       "27186             6  {TV,Internet,Wifi,\"Air conditioning\",Kitchen,E...   \n",
       "34502             6  {TV,Internet,Wifi,\"Air conditioning\",Kitchen,E...   \n",
       "56734             6  {TV,Internet,Wifi,\"Air conditioning\",Kitchen,E...   \n",
       "\n",
       "       availability_30  availability_365  bathrooms  bed_type  bedrooms  beds  \\\n",
       "4767                 0                 0        3.5  Real Bed       3.0   4.0   \n",
       "20223               10                25        3.5  Real Bed       3.0   4.0   \n",
       "27186                7                 7        3.5  Real Bed       3.0   4.0   \n",
       "34502               11                14        3.5  Real Bed       3.0   4.0   \n",
       "56734                0                 0        3.5  Real Bed       3.0   4.0   \n",
       "\n",
       "       calculated_host_listings_count  \\\n",
       "4767                                1   \n",
       "20223                               2   \n",
       "27186                               1   \n",
       "34502                               1   \n",
       "56734                               1   \n",
       "\n",
       "       calculated_host_listings_count_private_rooms  ...  review_scores_value  \\\n",
       "4767                                            0.0  ...                  NaN   \n",
       "20223                                           NaN  ...                  NaN   \n",
       "27186                                           0.0  ...                  NaN   \n",
       "34502                                           0.0  ...                  NaN   \n",
       "56734                                           0.0  ...                  NaN   \n",
       "\n",
       "      reviews_per_month        room_type security_deposit  \\\n",
       "4767                NaN  Entire home/apt        $1,500.00   \n",
       "20223               NaN  Entire home/apt        $1,500.00   \n",
       "27186               NaN  Entire home/apt        $1,500.00   \n",
       "34502               NaN  Entire home/apt        $1,500.00   \n",
       "56734               NaN  Entire home/apt        $1,500.00   \n",
       "\n",
       "              smart_location  \\\n",
       "4767   San Francisco, Mexico   \n",
       "20223  San Francisco, Mexico   \n",
       "27186  San Francisco, Mexico   \n",
       "34502  San Francisco, Mexico   \n",
       "56734  San Francisco, Mexico   \n",
       "\n",
       "                                                   space  \\\n",
       "4767   Included amenities: Wifi, iPhone, Welcome Pack...   \n",
       "20223  Included amenities: Wifi, iPhone, Welcome Pack...   \n",
       "27186  Included amenities: Wifi, iPhone, Welcome Pack...   \n",
       "34502  Included amenities: Wifi, iPhone, Welcome Pack...   \n",
       "56734  Included amenities: Wifi, iPhone, Welcome Pack...   \n",
       "\n",
       "                      street  \\\n",
       "4767   San Francisco, Mexico   \n",
       "20223  San Francisco, Mexico   \n",
       "27186  San Francisco, Mexico   \n",
       "34502  San Francisco, Mexico   \n",
       "56734  San Francisco, Mexico   \n",
       "\n",
       "                                                 summary transit  zipcode  \n",
       "4767   ONEFINESTAY is proud to present this 3 bedroom...     NaN    94109  \n",
       "20223  ONEFINESTAY is proud to present this 3 bedroom...     NaN  94109.0  \n",
       "27186  ONEFINESTAY is proud to present this 3 bedroom...     NaN    94109  \n",
       "34502  ONEFINESTAY is proud to present this 3 bedroom...     NaN    94109  \n",
       "56734  ONEFINESTAY is proud to present this 3 bedroom...     NaN    94109  \n",
       "\n",
       "[5 rows x 69 columns]"
      ]
     },
     "execution_count": 76,
     "metadata": {},
     "output_type": "execute_result"
    }
   ],
   "source": [
    "#Rows where listings.country == Mexico\n",
    "listings[listings.country == 'Mexico']"
   ]
  },
  {
   "cell_type": "markdown",
   "metadata": {},
   "source": [
    "Rows with Mexico in the country column belong to the same host and are a typo. We can remove country column."
   ]
  },
  {
   "cell_type": "code",
   "execution_count": 77,
   "metadata": {},
   "outputs": [
    {
     "name": "stdout",
     "output_type": "stream",
     "text": [
      "Updated listings shape: (88937, 68)\n"
     ]
    }
   ],
   "source": [
    "#Dropping country column\n",
    "listings.drop(columns='country', inplace = True)\n",
    "\n",
    "#Updated listings shape\n",
    "print('Updated listings shape:', listings.shape)"
   ]
  },
  {
   "cell_type": "markdown",
   "metadata": {},
   "source": [
    "Columns street and smart_location contain similar city information, of which more than 99% of each column contain the same values. both of which are captured in the city column."
   ]
  },
  {
   "cell_type": "code",
   "execution_count": 78,
   "metadata": {},
   "outputs": [
    {
     "name": "stdout",
     "output_type": "stream",
     "text": [
      "Updated listings shape: (88937, 66)\n"
     ]
    }
   ],
   "source": [
    "#Drop street and smart_location columns\n",
    "listings.drop(columns=['street', 'smart_location'], inplace = True)\n",
    "\n",
    "#Updated listings shape\n",
    "print('Updated listings shape:', listings.shape)"
   ]
  },
  {
   "cell_type": "markdown",
   "metadata": {},
   "source": [
    "### Data Type Conversion"
   ]
  },
  {
   "cell_type": "markdown",
   "metadata": {},
   "source": [
    "**Format boolean columns**"
   ]
  },
  {
   "cell_type": "code",
   "execution_count": 79,
   "metadata": {},
   "outputs": [
    {
     "data": {
      "text/plain": [
       "host_has_profile_pic                int8\n",
       "host_identity_verified              int8\n",
       "host_is_superhost                   int8\n",
       "instant_bookable                    int8\n",
       "is_location_exact                   int8\n",
       "require_guest_phone_verification    int8\n",
       "require_guest_profile_picture       int8\n",
       "requires_license                    int8\n",
       "dtype: object"
      ]
     },
     "execution_count": 79,
     "metadata": {},
     "output_type": "execute_result"
    }
   ],
   "source": [
    "#List of columns to convert t's to 1's and f's to 0's\n",
    "cols = ['host_has_profile_pic', 'host_identity_verified', 'host_is_superhost','instant_bookable','is_location_exact',\n",
    "       'require_guest_phone_verification','require_guest_profile_picture','requires_license']\n",
    "\n",
    "#Create dictionary to map integers\n",
    "mymap = {'t':1, 'f':0}\n",
    "\n",
    "#Replace t's and f's with 1 and 0\n",
    "listings[cols]=listings[cols].applymap(lambda s: mymap.get(s) if s in mymap else s)\n",
    "\n",
    "#Fill missing values with a 0\n",
    "listings[cols] = listings[cols].fillna(0)\n",
    "\n",
    "#Convert cols to int 8 to save memory and check\n",
    "listings[cols] = listings[cols].astype('int8', errors='ignore')\n",
    "\n",
    "#check\n",
    "listings[cols].dtypes"
   ]
  },
  {
   "cell_type": "markdown",
   "metadata": {},
   "source": [
    "**Format date columns**"
   ]
  },
  {
   "cell_type": "code",
   "execution_count": 80,
   "metadata": {},
   "outputs": [
    {
     "data": {
      "application/vnd.jupyter.widget-view+json": {
       "model_id": "6eb665ae8a5547dd870452345af7c2f8",
       "version_major": 2,
       "version_minor": 0
      },
      "text/plain": [
       "HBox(children=(FloatProgress(value=0.0, description='Pandas Apply', max=88937.0, style=ProgressStyle(descripti…"
      ]
     },
     "metadata": {},
     "output_type": "display_data"
    },
    {
     "name": "stdout",
     "output_type": "stream",
     "text": [
      "\n"
     ]
    },
    {
     "data": {
      "text/plain": [
       "calendar_last_scraped    datetime64[ns]\n",
       "first_review             datetime64[ns]\n",
       "host_since               datetime64[ns]\n",
       "last_review              datetime64[ns]\n",
       "dtype: object"
      ]
     },
     "execution_count": 80,
     "metadata": {},
     "output_type": "execute_result"
    }
   ],
   "source": [
    "#List of columns to convert to dates\n",
    "cols = ['calendar_last_scraped','first_review', 'host_since', 'last_review']\n",
    "\n",
    "#Convert cols to date time\n",
    "listings[cols] = listings[cols].swifter.apply(pd.to_datetime,errors='coerce', axis=1)\n",
    "\n",
    "#Check\n",
    "listings[cols].dtypes"
   ]
  },
  {
   "cell_type": "markdown",
   "metadata": {},
   "source": [
    "**Formatting strings to numerics**"
   ]
  },
  {
   "cell_type": "code",
   "execution_count": 81,
   "metadata": {},
   "outputs": [
    {
     "data": {
      "application/vnd.jupyter.widget-view+json": {
       "model_id": "bf279ddb36cf4f87940189770708b45d",
       "version_major": 2,
       "version_minor": 0
      },
      "text/plain": [
       "HBox(children=(FloatProgress(value=0.0, description='Pandas Apply', max=88937.0, style=ProgressStyle(descripti…"
      ]
     },
     "metadata": {},
     "output_type": "display_data"
    },
    {
     "name": "stdout",
     "output_type": "stream",
     "text": [
      "\n"
     ]
    },
    {
     "data": {
      "text/plain": [
       "cleaning_fee          float64\n",
       "extra_people          float64\n",
       "price                 float64\n",
       "host_response_rate    float64\n",
       "security_deposit      float64\n",
       "dtype: object"
      ]
     },
     "execution_count": 81,
     "metadata": {},
     "output_type": "execute_result"
    }
   ],
   "source": [
    "#List of columns to convert to numeric\n",
    "cols = ['cleaning_fee','extra_people','price','host_response_rate','security_deposit']\n",
    "\n",
    "#Remove $,commas, and % from cols in listings\n",
    "listings[cols] = listings[cols].replace('[$%,]', '', regex=True)\n",
    "\n",
    "#Convert columns in cols to numeric\n",
    "listings[cols]= listings[cols].swifter.apply(pd.to_numeric, axis=1)\n",
    "\n",
    "#Check\n",
    "listings[cols].dtypes"
   ]
  },
  {
   "cell_type": "markdown",
   "metadata": {},
   "source": [
    "# Remove this if not needed"
   ]
  },
  {
   "cell_type": "code",
   "execution_count": 82,
   "metadata": {},
   "outputs": [],
   "source": [
    "#Present listings memory usage\n",
    "#listings.memory_usage(deep=True).sort_values(ascending=False)"
   ]
  },
  {
   "cell_type": "markdown",
   "metadata": {},
   "source": [
    "- 'int8' for small integers\n",
    "- 'category' for strings with few unique values\n",
    "- 'Sparse' if most values are 0 or NaN\n"
   ]
  },
  {
   "cell_type": "code",
   "execution_count": 83,
   "metadata": {},
   "outputs": [],
   "source": [
    "# listings = listings.astype({ : 'int8',\n",
    "#                              : 'category',\n",
    "#                              : 'Sparse[int/str]'})\n",
    "\n",
    "# int8: accommodates"
   ]
  },
  {
   "cell_type": "markdown",
   "metadata": {},
   "source": [
    "### Column Specific Data Cleaning (Listings)\n",
    "\n",
    "Cleaning specific columns in listings data in which there were specific value issues spotted in the Pandas Profiling report."
   ]
  },
  {
   "cell_type": "code",
   "execution_count": 84,
   "metadata": {},
   "outputs": [],
   "source": [
    "#convert 'a week ago' to '1 week ago' in calendar_updated\n",
    "listings['calendar_updated'].replace('a week ago', '1 week ago', inplace=True)\n",
    "\n",
    "#Removing brackets from host_verifications and amenities\n",
    "cols = ['host_verifications','amenities']\n",
    "\n",
    "#Removing brackets from host_verifications and amenities\n",
    "listings[cols] = listings[cols].replace('[{}\\\"\\'\\[\\]]', '', regex=True)\n"
   ]
  },
  {
   "cell_type": "code",
   "execution_count": 85,
   "metadata": {},
   "outputs": [
    {
     "data": {
      "text/html": [
       "<div>\n",
       "<style scoped>\n",
       "    .dataframe tbody tr th:only-of-type {\n",
       "        vertical-align: middle;\n",
       "    }\n",
       "\n",
       "    .dataframe tbody tr th {\n",
       "        vertical-align: top;\n",
       "    }\n",
       "\n",
       "    .dataframe thead th {\n",
       "        text-align: right;\n",
       "    }\n",
       "</style>\n",
       "<table border=\"1\" class=\"dataframe\">\n",
       "  <thead>\n",
       "    <tr style=\"text-align: right;\">\n",
       "      <th></th>\n",
       "      <th>accommodates</th>\n",
       "      <th>amenities</th>\n",
       "      <th>availability_30</th>\n",
       "      <th>availability_365</th>\n",
       "      <th>bathrooms</th>\n",
       "      <th>bed_type</th>\n",
       "      <th>bedrooms</th>\n",
       "      <th>beds</th>\n",
       "      <th>calculated_host_listings_count</th>\n",
       "      <th>calculated_host_listings_count_private_rooms</th>\n",
       "      <th>...</th>\n",
       "      <th>review_scores_location</th>\n",
       "      <th>review_scores_rating</th>\n",
       "      <th>review_scores_value</th>\n",
       "      <th>reviews_per_month</th>\n",
       "      <th>room_type</th>\n",
       "      <th>security_deposit</th>\n",
       "      <th>space</th>\n",
       "      <th>summary</th>\n",
       "      <th>transit</th>\n",
       "      <th>zipcode</th>\n",
       "    </tr>\n",
       "  </thead>\n",
       "  <tbody>\n",
       "    <tr>\n",
       "      <th>6475</th>\n",
       "      <td>7</td>\n",
       "      <td>TV,Internet,Wifi,Kitchen,Free parking on premi...</td>\n",
       "      <td>0</td>\n",
       "      <td>0</td>\n",
       "      <td>1.5</td>\n",
       "      <td>Real Bed</td>\n",
       "      <td>4.0</td>\n",
       "      <td>5.0</td>\n",
       "      <td>1</td>\n",
       "      <td>0.0</td>\n",
       "      <td>...</td>\n",
       "      <td>8.0</td>\n",
       "      <td>90.0</td>\n",
       "      <td>9.0</td>\n",
       "      <td>0.62</td>\n",
       "      <td>Entire home/apt</td>\n",
       "      <td>1500.0</td>\n",
       "      <td>Our home has an Arts-and-Crafts style open flo...</td>\n",
       "      <td>Welcome to San Francisco!  Whether you are her...</td>\n",
       "      <td>J-Church MUNI Light Rail stop at San Jose Aven...</td>\n",
       "      <td>CA</td>\n",
       "    </tr>\n",
       "    <tr>\n",
       "      <th>13501</th>\n",
       "      <td>7</td>\n",
       "      <td>TV,Internet,Wifi,Kitchen,Free parking on premi...</td>\n",
       "      <td>5</td>\n",
       "      <td>5</td>\n",
       "      <td>1.5</td>\n",
       "      <td>Real Bed</td>\n",
       "      <td>4.0</td>\n",
       "      <td>6.0</td>\n",
       "      <td>1</td>\n",
       "      <td>0.0</td>\n",
       "      <td>...</td>\n",
       "      <td>8.0</td>\n",
       "      <td>90.0</td>\n",
       "      <td>9.0</td>\n",
       "      <td>0.27</td>\n",
       "      <td>Entire home/apt</td>\n",
       "      <td>1500.0</td>\n",
       "      <td>Our home has an Arts-and-Crafts style open flo...</td>\n",
       "      <td>Welcome to San Francisco!  Whether you are her...</td>\n",
       "      <td>J-Church MUNI Light Rail stop at San Jose Aven...</td>\n",
       "      <td>CA</td>\n",
       "    </tr>\n",
       "    <tr>\n",
       "      <th>29064</th>\n",
       "      <td>7</td>\n",
       "      <td>TV,Internet,Wifi,Kitchen,Free parking on premi...</td>\n",
       "      <td>0</td>\n",
       "      <td>0</td>\n",
       "      <td>1.5</td>\n",
       "      <td>Real Bed</td>\n",
       "      <td>4.0</td>\n",
       "      <td>5.0</td>\n",
       "      <td>1</td>\n",
       "      <td>0.0</td>\n",
       "      <td>...</td>\n",
       "      <td>8.0</td>\n",
       "      <td>90.0</td>\n",
       "      <td>9.0</td>\n",
       "      <td>1.67</td>\n",
       "      <td>Entire home/apt</td>\n",
       "      <td>1500.0</td>\n",
       "      <td>Our home has an Arts-and-Crafts style open flo...</td>\n",
       "      <td>Welcome to San Francisco!  Whether you are her...</td>\n",
       "      <td>J-Church MUNI Light Rail stop at San Jose Aven...</td>\n",
       "      <td>CA</td>\n",
       "    </tr>\n",
       "    <tr>\n",
       "      <th>36468</th>\n",
       "      <td>7</td>\n",
       "      <td>TV,Internet,Wifi,Kitchen,Free parking on premi...</td>\n",
       "      <td>0</td>\n",
       "      <td>0</td>\n",
       "      <td>1.5</td>\n",
       "      <td>Real Bed</td>\n",
       "      <td>4.0</td>\n",
       "      <td>5.0</td>\n",
       "      <td>1</td>\n",
       "      <td>0.0</td>\n",
       "      <td>...</td>\n",
       "      <td>8.0</td>\n",
       "      <td>90.0</td>\n",
       "      <td>9.0</td>\n",
       "      <td>2.00</td>\n",
       "      <td>Entire home/apt</td>\n",
       "      <td>1500.0</td>\n",
       "      <td>Our home has an Arts-and-Crafts style open flo...</td>\n",
       "      <td>Welcome to San Francisco!  Whether you are her...</td>\n",
       "      <td>J-Church MUNI Light Rail stop at San Jose Aven...</td>\n",
       "      <td>CA</td>\n",
       "    </tr>\n",
       "    <tr>\n",
       "      <th>42880</th>\n",
       "      <td>7</td>\n",
       "      <td>TV,Internet,Wifi,Kitchen,Free parking on premi...</td>\n",
       "      <td>1</td>\n",
       "      <td>1</td>\n",
       "      <td>1.5</td>\n",
       "      <td>Real Bed</td>\n",
       "      <td>4.0</td>\n",
       "      <td>6.0</td>\n",
       "      <td>1</td>\n",
       "      <td>0.0</td>\n",
       "      <td>...</td>\n",
       "      <td>8.0</td>\n",
       "      <td>90.0</td>\n",
       "      <td>9.0</td>\n",
       "      <td>0.31</td>\n",
       "      <td>Entire home/apt</td>\n",
       "      <td>1500.0</td>\n",
       "      <td>Our home has an Arts-and-Crafts style open flo...</td>\n",
       "      <td>Welcome to San Francisco!  Whether you are her...</td>\n",
       "      <td>J-Church MUNI Light Rail stop at San Jose Aven...</td>\n",
       "      <td>CA</td>\n",
       "    </tr>\n",
       "    <tr>\n",
       "      <th>50686</th>\n",
       "      <td>7</td>\n",
       "      <td>TV,Internet,Wifi,Kitchen,Free parking on premi...</td>\n",
       "      <td>0</td>\n",
       "      <td>0</td>\n",
       "      <td>1.5</td>\n",
       "      <td>Real Bed</td>\n",
       "      <td>4.0</td>\n",
       "      <td>6.0</td>\n",
       "      <td>1</td>\n",
       "      <td>0.0</td>\n",
       "      <td>...</td>\n",
       "      <td>8.0</td>\n",
       "      <td>90.0</td>\n",
       "      <td>9.0</td>\n",
       "      <td>0.38</td>\n",
       "      <td>Entire home/apt</td>\n",
       "      <td>1500.0</td>\n",
       "      <td>Our home has an Arts-and-Crafts style open flo...</td>\n",
       "      <td>Welcome to San Francisco!  Whether you are her...</td>\n",
       "      <td>J-Church MUNI Light Rail stop at San Jose Aven...</td>\n",
       "      <td>CA</td>\n",
       "    </tr>\n",
       "    <tr>\n",
       "      <th>58505</th>\n",
       "      <td>7</td>\n",
       "      <td>TV,Internet,Wifi,Kitchen,Free parking on premi...</td>\n",
       "      <td>0</td>\n",
       "      <td>0</td>\n",
       "      <td>1.5</td>\n",
       "      <td>Real Bed</td>\n",
       "      <td>4.0</td>\n",
       "      <td>5.0</td>\n",
       "      <td>1</td>\n",
       "      <td>0.0</td>\n",
       "      <td>...</td>\n",
       "      <td>8.0</td>\n",
       "      <td>90.0</td>\n",
       "      <td>9.0</td>\n",
       "      <td>0.87</td>\n",
       "      <td>Entire home/apt</td>\n",
       "      <td>1500.0</td>\n",
       "      <td>Our home has an Arts-and-Crafts style open flo...</td>\n",
       "      <td>Welcome to San Francisco!  Whether you are her...</td>\n",
       "      <td>J-Church MUNI Light Rail stop at San Jose Aven...</td>\n",
       "      <td>CA</td>\n",
       "    </tr>\n",
       "    <tr>\n",
       "      <th>65467</th>\n",
       "      <td>7</td>\n",
       "      <td>TV,Internet,Wifi,Kitchen,Free parking on premi...</td>\n",
       "      <td>0</td>\n",
       "      <td>0</td>\n",
       "      <td>1.5</td>\n",
       "      <td>Real Bed</td>\n",
       "      <td>4.0</td>\n",
       "      <td>5.0</td>\n",
       "      <td>1</td>\n",
       "      <td>0.0</td>\n",
       "      <td>...</td>\n",
       "      <td>8.0</td>\n",
       "      <td>90.0</td>\n",
       "      <td>9.0</td>\n",
       "      <td>0.47</td>\n",
       "      <td>Entire home/apt</td>\n",
       "      <td>1500.0</td>\n",
       "      <td>Our home has an Arts-and-Crafts style open flo...</td>\n",
       "      <td>Welcome to San Francisco!  Whether you are her...</td>\n",
       "      <td>J-Church MUNI Light Rail stop at San Jose Aven...</td>\n",
       "      <td>CA</td>\n",
       "    </tr>\n",
       "    <tr>\n",
       "      <th>79746</th>\n",
       "      <td>7</td>\n",
       "      <td>TV,Internet,Wifi,Kitchen,Free parking on premi...</td>\n",
       "      <td>0</td>\n",
       "      <td>0</td>\n",
       "      <td>1.5</td>\n",
       "      <td>Real Bed</td>\n",
       "      <td>4.0</td>\n",
       "      <td>6.0</td>\n",
       "      <td>1</td>\n",
       "      <td>0.0</td>\n",
       "      <td>...</td>\n",
       "      <td>8.0</td>\n",
       "      <td>90.0</td>\n",
       "      <td>9.0</td>\n",
       "      <td>0.38</td>\n",
       "      <td>Entire home/apt</td>\n",
       "      <td>1500.0</td>\n",
       "      <td>Our home has an Arts-and-Crafts style open flo...</td>\n",
       "      <td>Welcome to San Francisco!  Whether you are her...</td>\n",
       "      <td>J-Church MUNI Light Rail stop at San Jose Aven...</td>\n",
       "      <td>CA</td>\n",
       "    </tr>\n",
       "    <tr>\n",
       "      <th>87100</th>\n",
       "      <td>7</td>\n",
       "      <td>TV,Internet,Wifi,Kitchen,Free parking on premi...</td>\n",
       "      <td>0</td>\n",
       "      <td>0</td>\n",
       "      <td>1.5</td>\n",
       "      <td>Real Bed</td>\n",
       "      <td>4.0</td>\n",
       "      <td>6.0</td>\n",
       "      <td>1</td>\n",
       "      <td>0.0</td>\n",
       "      <td>...</td>\n",
       "      <td>8.0</td>\n",
       "      <td>90.0</td>\n",
       "      <td>9.0</td>\n",
       "      <td>0.23</td>\n",
       "      <td>Entire home/apt</td>\n",
       "      <td>1500.0</td>\n",
       "      <td>Our home has an Arts-and-Crafts style open flo...</td>\n",
       "      <td>Welcome to San Francisco!  Whether you are her...</td>\n",
       "      <td>J-Church MUNI Light Rail stop at San Jose Aven...</td>\n",
       "      <td>CA</td>\n",
       "    </tr>\n",
       "  </tbody>\n",
       "</table>\n",
       "<p>10 rows × 66 columns</p>\n",
       "</div>"
      ],
      "text/plain": [
       "       accommodates                                          amenities  \\\n",
       "6475              7  TV,Internet,Wifi,Kitchen,Free parking on premi...   \n",
       "13501             7  TV,Internet,Wifi,Kitchen,Free parking on premi...   \n",
       "29064             7  TV,Internet,Wifi,Kitchen,Free parking on premi...   \n",
       "36468             7  TV,Internet,Wifi,Kitchen,Free parking on premi...   \n",
       "42880             7  TV,Internet,Wifi,Kitchen,Free parking on premi...   \n",
       "50686             7  TV,Internet,Wifi,Kitchen,Free parking on premi...   \n",
       "58505             7  TV,Internet,Wifi,Kitchen,Free parking on premi...   \n",
       "65467             7  TV,Internet,Wifi,Kitchen,Free parking on premi...   \n",
       "79746             7  TV,Internet,Wifi,Kitchen,Free parking on premi...   \n",
       "87100             7  TV,Internet,Wifi,Kitchen,Free parking on premi...   \n",
       "\n",
       "       availability_30  availability_365  bathrooms  bed_type  bedrooms  beds  \\\n",
       "6475                 0                 0        1.5  Real Bed       4.0   5.0   \n",
       "13501                5                 5        1.5  Real Bed       4.0   6.0   \n",
       "29064                0                 0        1.5  Real Bed       4.0   5.0   \n",
       "36468                0                 0        1.5  Real Bed       4.0   5.0   \n",
       "42880                1                 1        1.5  Real Bed       4.0   6.0   \n",
       "50686                0                 0        1.5  Real Bed       4.0   6.0   \n",
       "58505                0                 0        1.5  Real Bed       4.0   5.0   \n",
       "65467                0                 0        1.5  Real Bed       4.0   5.0   \n",
       "79746                0                 0        1.5  Real Bed       4.0   6.0   \n",
       "87100                0                 0        1.5  Real Bed       4.0   6.0   \n",
       "\n",
       "       calculated_host_listings_count  \\\n",
       "6475                                1   \n",
       "13501                               1   \n",
       "29064                               1   \n",
       "36468                               1   \n",
       "42880                               1   \n",
       "50686                               1   \n",
       "58505                               1   \n",
       "65467                               1   \n",
       "79746                               1   \n",
       "87100                               1   \n",
       "\n",
       "       calculated_host_listings_count_private_rooms  ...  \\\n",
       "6475                                            0.0  ...   \n",
       "13501                                           0.0  ...   \n",
       "29064                                           0.0  ...   \n",
       "36468                                           0.0  ...   \n",
       "42880                                           0.0  ...   \n",
       "50686                                           0.0  ...   \n",
       "58505                                           0.0  ...   \n",
       "65467                                           0.0  ...   \n",
       "79746                                           0.0  ...   \n",
       "87100                                           0.0  ...   \n",
       "\n",
       "       review_scores_location review_scores_rating review_scores_value  \\\n",
       "6475                      8.0                 90.0                 9.0   \n",
       "13501                     8.0                 90.0                 9.0   \n",
       "29064                     8.0                 90.0                 9.0   \n",
       "36468                     8.0                 90.0                 9.0   \n",
       "42880                     8.0                 90.0                 9.0   \n",
       "50686                     8.0                 90.0                 9.0   \n",
       "58505                     8.0                 90.0                 9.0   \n",
       "65467                     8.0                 90.0                 9.0   \n",
       "79746                     8.0                 90.0                 9.0   \n",
       "87100                     8.0                 90.0                 9.0   \n",
       "\n",
       "      reviews_per_month        room_type  security_deposit  \\\n",
       "6475               0.62  Entire home/apt            1500.0   \n",
       "13501              0.27  Entire home/apt            1500.0   \n",
       "29064              1.67  Entire home/apt            1500.0   \n",
       "36468              2.00  Entire home/apt            1500.0   \n",
       "42880              0.31  Entire home/apt            1500.0   \n",
       "50686              0.38  Entire home/apt            1500.0   \n",
       "58505              0.87  Entire home/apt            1500.0   \n",
       "65467              0.47  Entire home/apt            1500.0   \n",
       "79746              0.38  Entire home/apt            1500.0   \n",
       "87100              0.23  Entire home/apt            1500.0   \n",
       "\n",
       "                                                   space  \\\n",
       "6475   Our home has an Arts-and-Crafts style open flo...   \n",
       "13501  Our home has an Arts-and-Crafts style open flo...   \n",
       "29064  Our home has an Arts-and-Crafts style open flo...   \n",
       "36468  Our home has an Arts-and-Crafts style open flo...   \n",
       "42880  Our home has an Arts-and-Crafts style open flo...   \n",
       "50686  Our home has an Arts-and-Crafts style open flo...   \n",
       "58505  Our home has an Arts-and-Crafts style open flo...   \n",
       "65467  Our home has an Arts-and-Crafts style open flo...   \n",
       "79746  Our home has an Arts-and-Crafts style open flo...   \n",
       "87100  Our home has an Arts-and-Crafts style open flo...   \n",
       "\n",
       "                                                 summary  \\\n",
       "6475   Welcome to San Francisco!  Whether you are her...   \n",
       "13501  Welcome to San Francisco!  Whether you are her...   \n",
       "29064  Welcome to San Francisco!  Whether you are her...   \n",
       "36468  Welcome to San Francisco!  Whether you are her...   \n",
       "42880  Welcome to San Francisco!  Whether you are her...   \n",
       "50686  Welcome to San Francisco!  Whether you are her...   \n",
       "58505  Welcome to San Francisco!  Whether you are her...   \n",
       "65467  Welcome to San Francisco!  Whether you are her...   \n",
       "79746  Welcome to San Francisco!  Whether you are her...   \n",
       "87100  Welcome to San Francisco!  Whether you are her...   \n",
       "\n",
       "                                                 transit  zipcode  \n",
       "6475   J-Church MUNI Light Rail stop at San Jose Aven...       CA  \n",
       "13501  J-Church MUNI Light Rail stop at San Jose Aven...       CA  \n",
       "29064  J-Church MUNI Light Rail stop at San Jose Aven...       CA  \n",
       "36468  J-Church MUNI Light Rail stop at San Jose Aven...       CA  \n",
       "42880  J-Church MUNI Light Rail stop at San Jose Aven...       CA  \n",
       "50686  J-Church MUNI Light Rail stop at San Jose Aven...       CA  \n",
       "58505  J-Church MUNI Light Rail stop at San Jose Aven...       CA  \n",
       "65467  J-Church MUNI Light Rail stop at San Jose Aven...       CA  \n",
       "79746  J-Church MUNI Light Rail stop at San Jose Aven...       CA  \n",
       "87100  J-Church MUNI Light Rail stop at San Jose Aven...       CA  \n",
       "\n",
       "[10 rows x 66 columns]"
      ]
     },
     "execution_count": 85,
     "metadata": {},
     "output_type": "execute_result"
    }
   ],
   "source": [
    "#Zipcode has quite a few issues. Let's view the values in zipcode\n",
    "listings.groupby('zipcode')['zipcode'].count()\n",
    "\n",
    "#Strip white space from zip\n",
    "listings.zipcode = listings.zipcode.str.strip()\n",
    "\n",
    "#Check in on rows with CA as the zipcode\n",
    "listings[listings.zipcode =='CA']"
   ]
  },
  {
   "cell_type": "code",
   "execution_count": 86,
   "metadata": {},
   "outputs": [
    {
     "name": "stderr",
     "output_type": "stream",
     "text": [
      "C:\\Users\\kishe\\Miniconda3\\lib\\site-packages\\ipykernel_launcher.py:2: SettingWithCopyWarning:\n",
      "\n",
      "\n",
      "A value is trying to be set on a copy of a slice from a DataFrame\n",
      "\n",
      "See the caveats in the documentation: http://pandas.pydata.org/pandas-docs/stable/user_guide/indexing.html#returning-a-view-versus-a-copy\n",
      "\n"
     ]
    }
   ],
   "source": [
    "#Per google maps, address is 1837 San Jose Avenue, San Francisco, CA 94112. Updating zip\n",
    "listings.zipcode[listings.zipcode =='CA'] = 94112"
   ]
  },
  {
   "cell_type": "code",
   "execution_count": 87,
   "metadata": {},
   "outputs": [],
   "source": [
    "#Remove CA\\s from zipcode\n",
    "listings.zipcode.replace('CA\\s','',inplace = True, regex=True)"
   ]
  },
  {
   "cell_type": "code",
   "execution_count": 88,
   "metadata": {},
   "outputs": [
    {
     "name": "stderr",
     "output_type": "stream",
     "text": [
      "C:\\Users\\kishe\\Miniconda3\\lib\\site-packages\\swifter\\swifter.py:172: UserWarning:\n",
      "\n",
      "Axis keyword not necessary because applying on a Series.\n",
      "\n"
     ]
    }
   ],
   "source": [
    "#Convert zipcodes to numeric\n",
    "listings.zipcode = listings.zipcode.swifter.apply(pd.to_numeric, axis=1)"
   ]
  },
  {
   "cell_type": "code",
   "execution_count": 89,
   "metadata": {},
   "outputs": [
    {
     "name": "stdout",
     "output_type": "stream",
     "text": [
      "city\n",
      "Bay Area                   4\n",
      "Brisbane                   1\n",
      "Daly City                436\n",
      "Nor cal                    2\n",
      "San Francisco          88348\n",
      "South San Francisco       22\n",
      "Vallejo                    1\n",
      "Name: city, dtype: int64\n"
     ]
    },
    {
     "data": {
      "text/html": [
       "<div>\n",
       "<style scoped>\n",
       "    .dataframe tbody tr th:only-of-type {\n",
       "        vertical-align: middle;\n",
       "    }\n",
       "\n",
       "    .dataframe tbody tr th {\n",
       "        vertical-align: top;\n",
       "    }\n",
       "\n",
       "    .dataframe thead th {\n",
       "        text-align: right;\n",
       "    }\n",
       "</style>\n",
       "<table border=\"1\" class=\"dataframe\">\n",
       "  <thead>\n",
       "    <tr style=\"text-align: right;\">\n",
       "      <th></th>\n",
       "      <th>accommodates</th>\n",
       "      <th>amenities</th>\n",
       "      <th>availability_30</th>\n",
       "      <th>availability_365</th>\n",
       "      <th>bathrooms</th>\n",
       "      <th>bed_type</th>\n",
       "      <th>bedrooms</th>\n",
       "      <th>beds</th>\n",
       "      <th>calculated_host_listings_count</th>\n",
       "      <th>calculated_host_listings_count_private_rooms</th>\n",
       "      <th>...</th>\n",
       "      <th>review_scores_location</th>\n",
       "      <th>review_scores_rating</th>\n",
       "      <th>review_scores_value</th>\n",
       "      <th>reviews_per_month</th>\n",
       "      <th>room_type</th>\n",
       "      <th>security_deposit</th>\n",
       "      <th>space</th>\n",
       "      <th>summary</th>\n",
       "      <th>transit</th>\n",
       "      <th>zipcode</th>\n",
       "    </tr>\n",
       "  </thead>\n",
       "  <tbody>\n",
       "    <tr>\n",
       "      <th>7175</th>\n",
       "      <td>2</td>\n",
       "      <td>TV,Cable TV,Wifi,Kitchen,Elevator,Heating,Smok...</td>\n",
       "      <td>23</td>\n",
       "      <td>147</td>\n",
       "      <td>1.0</td>\n",
       "      <td>Real Bed</td>\n",
       "      <td>0.0</td>\n",
       "      <td>1.0</td>\n",
       "      <td>1</td>\n",
       "      <td>1.0</td>\n",
       "      <td>...</td>\n",
       "      <td>NaN</td>\n",
       "      <td>NaN</td>\n",
       "      <td>NaN</td>\n",
       "      <td>1.00</td>\n",
       "      <td>Private room</td>\n",
       "      <td>NaN</td>\n",
       "      <td>Looking to rent out part of my very large apar...</td>\n",
       "      <td>Midmod</td>\n",
       "      <td>NaN</td>\n",
       "      <td>94108.0</td>\n",
       "    </tr>\n",
       "    <tr>\n",
       "      <th>19848</th>\n",
       "      <td>2</td>\n",
       "      <td>TV,Wifi,Kitchen,Elevator,Free street parking,H...</td>\n",
       "      <td>15</td>\n",
       "      <td>282</td>\n",
       "      <td>1.0</td>\n",
       "      <td>Real Bed</td>\n",
       "      <td>1.0</td>\n",
       "      <td>1.0</td>\n",
       "      <td>1</td>\n",
       "      <td>NaN</td>\n",
       "      <td>...</td>\n",
       "      <td>10.0</td>\n",
       "      <td>98.0</td>\n",
       "      <td>9.0</td>\n",
       "      <td>4.90</td>\n",
       "      <td>Private room</td>\n",
       "      <td>NaN</td>\n",
       "      <td>Beautiful master bedroom in a 2 bedroom apartm...</td>\n",
       "      <td>Enjoy of a stylish stay in a beautiful private...</td>\n",
       "      <td>Best way to get around is by using UBER. If yo...</td>\n",
       "      <td>94965.0</td>\n",
       "    </tr>\n",
       "    <tr>\n",
       "      <th>26814</th>\n",
       "      <td>3</td>\n",
       "      <td>TV,Cable TV,Wifi,Kitchen,Elevator,Free street ...</td>\n",
       "      <td>10</td>\n",
       "      <td>238</td>\n",
       "      <td>1.0</td>\n",
       "      <td>Real Bed</td>\n",
       "      <td>1.0</td>\n",
       "      <td>1.0</td>\n",
       "      <td>1</td>\n",
       "      <td>1.0</td>\n",
       "      <td>...</td>\n",
       "      <td>10.0</td>\n",
       "      <td>98.0</td>\n",
       "      <td>9.0</td>\n",
       "      <td>5.24</td>\n",
       "      <td>Private room</td>\n",
       "      <td>NaN</td>\n",
       "      <td>Beautiful master bedroom in a 2 bedroom apartm...</td>\n",
       "      <td>Enjoy a stylish stay in a beautiful private be...</td>\n",
       "      <td>Best way to get around is by using UBER. If yo...</td>\n",
       "      <td>94965.0</td>\n",
       "    </tr>\n",
       "    <tr>\n",
       "      <th>34122</th>\n",
       "      <td>3</td>\n",
       "      <td>TV,Cable TV,Wifi,Kitchen,Elevator,Free street ...</td>\n",
       "      <td>6</td>\n",
       "      <td>252</td>\n",
       "      <td>1.0</td>\n",
       "      <td>Real Bed</td>\n",
       "      <td>1.0</td>\n",
       "      <td>1.0</td>\n",
       "      <td>1</td>\n",
       "      <td>1.0</td>\n",
       "      <td>...</td>\n",
       "      <td>10.0</td>\n",
       "      <td>99.0</td>\n",
       "      <td>9.0</td>\n",
       "      <td>5.16</td>\n",
       "      <td>Private room</td>\n",
       "      <td>NaN</td>\n",
       "      <td>Beautiful master bedroom in a 2 bedroom apartm...</td>\n",
       "      <td>Enjoy a stylish stay in a beautiful private be...</td>\n",
       "      <td>Best way to get around is by using UBER. If yo...</td>\n",
       "      <td>94965.0</td>\n",
       "    </tr>\n",
       "    <tr>\n",
       "      <th>42091</th>\n",
       "      <td>2</td>\n",
       "      <td>TV,Cable TV,Wifi,Kitchen,Paid parking off prem...</td>\n",
       "      <td>29</td>\n",
       "      <td>364</td>\n",
       "      <td>1.0</td>\n",
       "      <td>Real Bed</td>\n",
       "      <td>1.0</td>\n",
       "      <td>1.0</td>\n",
       "      <td>1</td>\n",
       "      <td>0.0</td>\n",
       "      <td>...</td>\n",
       "      <td>8.0</td>\n",
       "      <td>92.0</td>\n",
       "      <td>9.0</td>\n",
       "      <td>1.04</td>\n",
       "      <td>Entire home/apt</td>\n",
       "      <td>0.0</td>\n",
       "      <td>NaN</td>\n",
       "      <td>Very centrally located. It has an amazing city...</td>\n",
       "      <td>NaN</td>\n",
       "      <td>94510.0</td>\n",
       "    </tr>\n",
       "    <tr>\n",
       "      <th>71331</th>\n",
       "      <td>2</td>\n",
       "      <td>TV,Wifi,Kitchen,Elevator,Free street parking,H...</td>\n",
       "      <td>15</td>\n",
       "      <td>278</td>\n",
       "      <td>1.0</td>\n",
       "      <td>Real Bed</td>\n",
       "      <td>1.0</td>\n",
       "      <td>1.0</td>\n",
       "      <td>1</td>\n",
       "      <td>NaN</td>\n",
       "      <td>...</td>\n",
       "      <td>10.0</td>\n",
       "      <td>99.0</td>\n",
       "      <td>9.0</td>\n",
       "      <td>4.30</td>\n",
       "      <td>Private room</td>\n",
       "      <td>NaN</td>\n",
       "      <td>Beautiful master bedroom in a 2 bedroom apartm...</td>\n",
       "      <td>Enjoy of a stylish stay in a beautiful private...</td>\n",
       "      <td>Best way to get around is by using UBER. If yo...</td>\n",
       "      <td>94965.0</td>\n",
       "    </tr>\n",
       "    <tr>\n",
       "      <th>72795</th>\n",
       "      <td>2</td>\n",
       "      <td>TV,Cable TV,Wifi,Kitchen,Paid parking off prem...</td>\n",
       "      <td>19</td>\n",
       "      <td>350</td>\n",
       "      <td>1.0</td>\n",
       "      <td>Real Bed</td>\n",
       "      <td>1.0</td>\n",
       "      <td>1.0</td>\n",
       "      <td>1</td>\n",
       "      <td>NaN</td>\n",
       "      <td>...</td>\n",
       "      <td>7.0</td>\n",
       "      <td>87.0</td>\n",
       "      <td>9.0</td>\n",
       "      <td>2.14</td>\n",
       "      <td>Entire home/apt</td>\n",
       "      <td>0.0</td>\n",
       "      <td>NaN</td>\n",
       "      <td>Very centrally located. It has an amazing city...</td>\n",
       "      <td>NaN</td>\n",
       "      <td>94510.0</td>\n",
       "    </tr>\n",
       "  </tbody>\n",
       "</table>\n",
       "<p>7 rows × 66 columns</p>\n",
       "</div>"
      ],
      "text/plain": [
       "       accommodates                                          amenities  \\\n",
       "7175              2  TV,Cable TV,Wifi,Kitchen,Elevator,Heating,Smok...   \n",
       "19848             2  TV,Wifi,Kitchen,Elevator,Free street parking,H...   \n",
       "26814             3  TV,Cable TV,Wifi,Kitchen,Elevator,Free street ...   \n",
       "34122             3  TV,Cable TV,Wifi,Kitchen,Elevator,Free street ...   \n",
       "42091             2  TV,Cable TV,Wifi,Kitchen,Paid parking off prem...   \n",
       "71331             2  TV,Wifi,Kitchen,Elevator,Free street parking,H...   \n",
       "72795             2  TV,Cable TV,Wifi,Kitchen,Paid parking off prem...   \n",
       "\n",
       "       availability_30  availability_365  bathrooms  bed_type  bedrooms  beds  \\\n",
       "7175                23               147        1.0  Real Bed       0.0   1.0   \n",
       "19848               15               282        1.0  Real Bed       1.0   1.0   \n",
       "26814               10               238        1.0  Real Bed       1.0   1.0   \n",
       "34122                6               252        1.0  Real Bed       1.0   1.0   \n",
       "42091               29               364        1.0  Real Bed       1.0   1.0   \n",
       "71331               15               278        1.0  Real Bed       1.0   1.0   \n",
       "72795               19               350        1.0  Real Bed       1.0   1.0   \n",
       "\n",
       "       calculated_host_listings_count  \\\n",
       "7175                                1   \n",
       "19848                               1   \n",
       "26814                               1   \n",
       "34122                               1   \n",
       "42091                               1   \n",
       "71331                               1   \n",
       "72795                               1   \n",
       "\n",
       "       calculated_host_listings_count_private_rooms  ...  \\\n",
       "7175                                            1.0  ...   \n",
       "19848                                           NaN  ...   \n",
       "26814                                           1.0  ...   \n",
       "34122                                           1.0  ...   \n",
       "42091                                           0.0  ...   \n",
       "71331                                           NaN  ...   \n",
       "72795                                           NaN  ...   \n",
       "\n",
       "       review_scores_location review_scores_rating review_scores_value  \\\n",
       "7175                      NaN                  NaN                 NaN   \n",
       "19848                    10.0                 98.0                 9.0   \n",
       "26814                    10.0                 98.0                 9.0   \n",
       "34122                    10.0                 99.0                 9.0   \n",
       "42091                     8.0                 92.0                 9.0   \n",
       "71331                    10.0                 99.0                 9.0   \n",
       "72795                     7.0                 87.0                 9.0   \n",
       "\n",
       "      reviews_per_month        room_type  security_deposit  \\\n",
       "7175               1.00     Private room               NaN   \n",
       "19848              4.90     Private room               NaN   \n",
       "26814              5.24     Private room               NaN   \n",
       "34122              5.16     Private room               NaN   \n",
       "42091              1.04  Entire home/apt               0.0   \n",
       "71331              4.30     Private room               NaN   \n",
       "72795              2.14  Entire home/apt               0.0   \n",
       "\n",
       "                                                   space  \\\n",
       "7175   Looking to rent out part of my very large apar...   \n",
       "19848  Beautiful master bedroom in a 2 bedroom apartm...   \n",
       "26814  Beautiful master bedroom in a 2 bedroom apartm...   \n",
       "34122  Beautiful master bedroom in a 2 bedroom apartm...   \n",
       "42091                                                NaN   \n",
       "71331  Beautiful master bedroom in a 2 bedroom apartm...   \n",
       "72795                                                NaN   \n",
       "\n",
       "                                                 summary  \\\n",
       "7175                                              Midmod   \n",
       "19848  Enjoy of a stylish stay in a beautiful private...   \n",
       "26814  Enjoy a stylish stay in a beautiful private be...   \n",
       "34122  Enjoy a stylish stay in a beautiful private be...   \n",
       "42091  Very centrally located. It has an amazing city...   \n",
       "71331  Enjoy of a stylish stay in a beautiful private...   \n",
       "72795  Very centrally located. It has an amazing city...   \n",
       "\n",
       "                                                 transit  zipcode  \n",
       "7175                                                 NaN  94108.0  \n",
       "19848  Best way to get around is by using UBER. If yo...  94965.0  \n",
       "26814  Best way to get around is by using UBER. If yo...  94965.0  \n",
       "34122  Best way to get around is by using UBER. If yo...  94965.0  \n",
       "42091                                                NaN  94510.0  \n",
       "71331  Best way to get around is by using UBER. If yo...  94965.0  \n",
       "72795                                                NaN  94510.0  \n",
       "\n",
       "[7 rows x 66 columns]"
      ]
     },
     "execution_count": 89,
     "metadata": {},
     "output_type": "execute_result"
    }
   ],
   "source": [
    "#Remove white space from city column\n",
    "listings.city = listings.city.str.strip()\n",
    "\n",
    "#Replace neighborhood information with San Fancisco\n",
    "listings.city.replace('^(?!South|D|V|Br|Ba|Nor).*', 'San Francisco', regex=True, inplace=True)\n",
    "\n",
    "#Check\n",
    "print(listings.groupby('city')['city'].count())\n",
    "\n",
    "#Create list of outliers\n",
    "outliers = ['Bay Area', 'Nor cal', 'Vallejo']\n",
    "\n",
    "#Investigate rows with these outlier cities\n",
    "listings[listings.city.isin(outliers)]"
   ]
  },
  {
   "cell_type": "markdown",
   "metadata": {},
   "source": [
    "Outlier properties are SF properties. Updating city column"
   ]
  },
  {
   "cell_type": "code",
   "execution_count": 90,
   "metadata": {},
   "outputs": [
    {
     "name": "stderr",
     "output_type": "stream",
     "text": [
      "C:\\Users\\kishe\\Miniconda3\\lib\\site-packages\\ipykernel_launcher.py:2: SettingWithCopyWarning:\n",
      "\n",
      "\n",
      "A value is trying to be set on a copy of a slice from a DataFrame\n",
      "\n",
      "See the caveats in the documentation: http://pandas.pydata.org/pandas-docs/stable/user_guide/indexing.html#returning-a-view-versus-a-copy\n",
      "\n"
     ]
    },
    {
     "data": {
      "text/plain": [
       "city\n",
       "Brisbane                   1\n",
       "Daly City                436\n",
       "San Francisco          88355\n",
       "South San Francisco       22\n",
       "Name: city, dtype: int64"
      ]
     },
     "execution_count": 90,
     "metadata": {},
     "output_type": "execute_result"
    }
   ],
   "source": [
    "#Update city column\n",
    "listings.city[listings.city.isin(outliers)]= 'San Francisco'\n",
    "\n",
    "#Check city values\n",
    "listings.groupby('city')['city'].count()"
   ]
  },
  {
   "cell_type": "code",
   "execution_count": 91,
   "metadata": {},
   "outputs": [
    {
     "data": {
      "text/plain": [
       "accommodates            0\n",
       "amenities               0\n",
       "availability_30         0\n",
       "availability_365        0\n",
       "bathrooms             226\n",
       "                    ...  \n",
       "security_deposit    18116\n",
       "space               13734\n",
       "summary              2489\n",
       "transit             25875\n",
       "zipcode              2671\n",
       "Length: 66, dtype: int64"
      ]
     },
     "execution_count": 91,
     "metadata": {},
     "output_type": "execute_result"
    }
   ],
   "source": [
    "listings.isna().sum()"
   ]
  },
  {
   "cell_type": "markdown",
   "metadata": {},
   "source": [
    "#### Listings Outlier Removal for Price variable"
   ]
  },
  {
   "cell_type": "code",
   "execution_count": 92,
   "metadata": {},
   "outputs": [
    {
     "data": {
      "image/png": "[encoded data removed]",
      "text/plain": [
       "<Figure size 720x432 with 1 Axes>"
      ]
     },
     "metadata": {
      "needs_background": "light"
     },
     "output_type": "display_data"
    }
   ],
   "source": [
    "#Airbnb price distributions\n",
    "listings.price.plot(kind = 'hist', bins=55,  title='Price Distribution in San Francisco',\n",
    "          legend = True, figsize=(10,6));\n",
    "\n",
    "#Get axis object\n",
    "ax = plt.gca()\n",
    "\n",
    "#Format X axis\n",
    "ax.get_xaxis().set_major_formatter(plt.FuncFormatter(lambda x, loc: \"$ {:,}\".format(int(x))))\n",
    "\n",
    "#Mute grid lines\n",
    "ax.grid(b=False, which ='major', axis = 'x')"
   ]
  },
  {
   "cell_type": "code",
   "execution_count": 93,
   "metadata": {},
   "outputs": [
    {
     "name": "stdout",
     "output_type": "stream",
     "text": [
      "(88937, 66)\n"
     ]
    }
   ],
   "source": [
    "print(listings.shape)"
   ]
  },
  {
   "cell_type": "code",
   "execution_count": 94,
   "metadata": {},
   "outputs": [
    {
     "name": "stdout",
     "output_type": "stream",
     "text": [
      "Percentiles: 25th=100.000, 75th=240.000 \n",
      "IQR= 140.000\n",
      "Number of outliers identified: 8989\n",
      "Non-outlier observations: 79948\n"
     ]
    },
    {
     "data": {
      "text/plain": [
       "(79948, 66)"
      ]
     },
     "execution_count": 94,
     "metadata": {},
     "output_type": "execute_result"
    }
   ],
   "source": [
    "#Calculate IQR of price\n",
    "q25 = listings['price'].quantile(0.25)\n",
    "q75= listings['price'].quantile(0.75)\n",
    "iqr = q75 - q25\n",
    "\n",
    "#Print percentiles\n",
    "print('Percentiles: 25th={:.3f}, 75th={:.3f} \\nIQR= {:.3f}'.format(q25, q75, iqr))\n",
    "\n",
    "#Calculate outlier cutoffs\n",
    "cut_off =1.5 * iqr\n",
    "lower, upper = q25 - cut_off, q75 + iqr\n",
    "\n",
    "#Identify outliers\n",
    "outliers = [x for x in listings.price if x < lower or x > upper]\n",
    "print(\"Number of outliers identified: {}\".format(len(outliers)))\n",
    "\n",
    "#Remove outliers\n",
    "outliers_removed = [x for x in listings.price if x >= lower and x <= upper]\n",
    "print('Non-outlier observations: {}'.format(len(outliers_removed)))\n",
    "\n",
    "#Update df\n",
    "listings = listings[listings.price.isin(outliers_removed)]\n",
    "listings.shape"
   ]
  },
  {
   "cell_type": "code",
   "execution_count": 95,
   "metadata": {},
   "outputs": [
    {
     "data": {
      "text/plain": [
       "<matplotlib.legend.Legend at 0x146280dbc18>"
      ]
     },
     "execution_count": 95,
     "metadata": {},
     "output_type": "execute_result"
    },
    {
     "data": {
      "image/png": "[encoded data removed]",
      "text/plain": [
       "<Figure size 720x432 with 1 Axes>"
      ]
     },
     "metadata": {
      "needs_background": "light"
     },
     "output_type": "display_data"
    }
   ],
   "source": [
    "#Airbnb price distributions(outliers removed)\n",
    "listings.price.plot(kind = 'hist', bins=40,  title='Price Distribution in San Francisco',\n",
    "           figsize=(10,6));\n",
    "\n",
    "#Capture mean and median of price\n",
    "mean = listings.price.mean()\n",
    "median = listings.price.median()\n",
    "\n",
    "#Plot mean and median\n",
    "plt.axvline(mean, color='r', linewidth=2, linestyle='--', label= str(round(mean,2)))\n",
    "plt.axvline(median, color='green',linewidth=2, linestyle='--', label= str(median))\n",
    "\n",
    "#Get axis object\n",
    "ax = plt.gca()\n",
    "\n",
    "#Format X axis\n",
    "ax.get_xaxis().set_major_formatter(plt.FuncFormatter(lambda x, loc: \"${:,}\".format(int(x))))\n",
    "\n",
    "#Mute grid lines\n",
    "plt.grid(b=False, which ='major', axis = 'x')\n",
    "\n",
    "plt.legend(loc='upper right',frameon=True, fancybox=True)\n"
   ]
  },
  {
   "cell_type": "code",
   "execution_count": 96,
   "metadata": {},
   "outputs": [],
   "source": [
    "# #Set path to write listings\n",
    "# path = r'C:\\Users\\kishe\\Documents\\Data Science\\Projects\\Python Projects\\In Progress\\Air BnB - SF\\Data\\02_Intermediate\\listings_cleaned.csv'\n",
    "\n",
    "# #Write listings to path\n",
    "# listings.to_csv(path, sep='\\t')"
   ]
  }
 ],
 "metadata": {
  "kernelspec": {
   "display_name": "Python 3",
   "language": "python",
   "name": "python3"
  },
  "language_info": {
   "codemirror_mode": {
    "name": "ipython",
    "version": 3
   },
   "file_extension": ".py",
   "mimetype": "text/x-python",
   "name": "python",
   "nbconvert_exporter": "python",
   "pygments_lexer": "ipython3",
   "version": "3.7.3"
  }
 },
 "nbformat": 4,
 "nbformat_minor": 4
}
